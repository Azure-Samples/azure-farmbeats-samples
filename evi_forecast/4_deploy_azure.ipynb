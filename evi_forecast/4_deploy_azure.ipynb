{
 "cells": [
  {
   "cell_type": "markdown",
   "id": "98f6f319",
   "metadata": {},
   "source": [
    "# Deploy Model to Azure ML"
   ]
  },
  {
   "cell_type": "code",
   "execution_count": null,
   "id": "d88e7bf0",
   "metadata": {},
   "outputs": [],
   "source": [
    "from azureml.core import Workspace\n",
    "from azureml.core.compute import AmlCompute, AksCompute, ComputeTarget\n",
    "from azureml.core.conda_dependencies import CondaDependencies\n",
    "from azureml.core.environment import Environment\n",
    "from azureml.core.model import InferenceConfig, Model\n",
    "from azureml.core.webservice import AksWebservice\n",
    "import glob\n",
    "import pickle\n",
    "from utils.constants import CONSTANTS\n",
    "\n",
    "import os"
   ]
  },
  {
   "cell_type": "markdown",
   "id": "80fdf3db",
   "metadata": {},
   "source": [
    "#### Import Workspace Config"
   ]
  },
  {
   "cell_type": "code",
   "execution_count": null,
   "id": "af26fac6",
   "metadata": {},
   "outputs": [],
   "source": [
    "ws = Workspace.from_config(path=os.path.join('utils', 'ws_config.json'))"
   ]
  },
  {
   "cell_type": "markdown",
   "id": "1f980247",
   "metadata": {},
   "source": [
    "#### Register Model"
   ]
  },
  {
   "cell_type": "code",
   "execution_count": null,
   "id": "f6476b3f",
   "metadata": {},
   "outputs": [],
   "source": [
    "model = Model.register(\n",
    "    model_path=\"model\",\n",
    "    model_name=\"NDVI_forecast_model\",\n",
    "    description=\"NDVI forecast ANN h5 file, weather parameter normalization mean and SD\",\n",
    "    workspace=ws,\n",
    ")"
   ]
  },
  {
   "cell_type": "code",
   "execution_count": null,
   "id": "92429e7e",
   "metadata": {},
   "outputs": [],
   "source": [
    "model = Model(name=\"NDVI_forecast_files\", workspace=ws)"
   ]
  },
  {
   "cell_type": "markdown",
   "id": "6cb96a31",
   "metadata": {},
   "source": [
    "#### Create Environment"
   ]
  },
  {
   "cell_type": "code",
   "execution_count": null,
   "id": "0eb3e290",
   "metadata": {},
   "outputs": [],
   "source": [
    "conda_reqs = [\n",
    "    \"conda==4.7.12\",\n",
    "    \"tensorflow==2.1.0\",\n",
    "    \"scipy==1.4.1\",\n",
    "    \"tensorboard==2.1.0\",\n",
    "    \"rasterio\",\n",
    "    \"scikit-learn\",\n",
    "    \"xarray\",\n",
    "    \"shapely\",\n",
    "]\n",
    "\n",
    "pip_reqs = [\n",
    "    \"petastorm\",\n",
    "    \"torchvision\",\n",
    "    \"pyarrow\",\n",
    "    \"statsmodels\",\n",
    "    \"geotiff\",\n",
    "    \"azureml-defaults\",\n",
    "]\n",
    "\n",
    "py_version = \"3.7.7\"\n",
    "\n",
    "myenv = Environment(name=\"myenv\")\n",
    "conda_dep = CondaDependencies()\n",
    "conda_dep.set_python_version(py_version)\n",
    "conda_dep.add_channel(\"conda-forge\")\n",
    "whl_url = Environment.add_private_pip_wheel(\n",
    "    workspace=ws, file_path=glob.glob(\"..//*.whl\")[0], exist_ok=True\n",
    ")\n",
    "for x in conda_reqs:\n",
    "    conda_dep.add_conda_package(x)\n",
    "\n",
    "for x in pip_reqs + [whl_url]:\n",
    "    conda_dep.add_pip_package(x)\n",
    "\n",
    "myenv.python.conda_dependencies = conda_dep"
   ]
  },
  {
   "cell_type": "markdown",
   "id": "4ea78fc0",
   "metadata": {},
   "source": [
    "#### Create AKS "
   ]
  },
  {
   "cell_type": "code",
   "execution_count": null,
   "id": "db0b9a80",
   "metadata": {},
   "outputs": [],
   "source": [
    "# Adding Scoring file\n",
    "inference_config = InferenceConfig(\n",
    "    entry_script=\"scoring_file.py\", source_directory=\".//utils\", environment=myenv\n",
    ")\n",
    "\n",
    "AKS_NAME = 'annareshaks1'\n",
    "# Create the AKS cluster if not available\n",
    "try:\n",
    "    aks_target = ComputeTarget(workspace=ws, name=AKS_NAME)\n",
    "except ComputeTargetException:\n",
    "    prov_config = AksCompute.provisioning_configuration(vm_size=\"Standard_D3_v2\")\n",
    "    aks_target = ComputeTarget.create(\n",
    "        workspace=ws, name=AKS_NAME, provisioning_configuration=prov_config\n",
    "    )\n",
    "    aks_target.wait_for_completion(show_output=True)"
   ]
  },
  {
   "cell_type": "markdown",
   "id": "6805a7f3",
   "metadata": {},
   "source": [
    "#### Deploy"
   ]
  },
  {
   "cell_type": "code",
   "execution_count": null,
   "id": "b3dc3d27",
   "metadata": {},
   "outputs": [],
   "source": [
    "# deployment configuration of pods\n",
    "deployment_config = AksWebservice.deploy_configuration(\n",
    "    cpu_cores=1,\n",
    "    memory_gb=2,\n",
    "    token_auth_enabled=True,\n",
    "    auth_enabled=False,\n",
    "    scoring_timeout_ms=300000,\n",
    ")\n",
    "\n",
    "service = Model.deploy(\n",
    "    ws,\n",
    "    CONSTANTS[\"service_name\"],\n",
    "    [model],\n",
    "    inference_config,\n",
    "    deployment_config,\n",
    "    aks_target,\n",
    "    overwrite=True,\n",
    ")\n",
    "service.wait_for_deployment(True)"
   ]
  },
  {
   "cell_type": "code",
   "execution_count": null,
   "id": "9ca0bde4",
   "metadata": {},
   "outputs": [],
   "source": [
    "print(service.state)\n",
    "print(\"scoring URI: \" + service.scoring_uri)\n",
    "token, refresh_by = service.get_token()\n",
    "print(token)\n",
    "\n",
    "with open(\"results//service_uri.pkl\", \"wb\") as f:\n",
    "    pickle.dump([service.scoring_uri, token], f)"
   ]
  }
 ],
 "metadata": {
  "kernel_info": {
   "name": "python3-azureml"
  },
  "kernelspec": {
   "display_name": "Python 3",
   "language": "python",
   "name": "python3"
  },
  "language_info": {
   "codemirror_mode": {
    "name": "ipython",
    "version": 3
   },
   "file_extension": ".py",
   "mimetype": "text/x-python",
   "name": "python",
   "nbconvert_exporter": "python",
   "pygments_lexer": "ipython3",
   "version": "3.6.9"
  },
  "nteract": {
   "version": "nteract-front-end@1.0.0"
  }
 },
 "nbformat": 4,
 "nbformat_minor": 5
}
