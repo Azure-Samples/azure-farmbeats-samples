{
 "cells": [
  {
   "cell_type": "markdown",
   "id": "31460d07",
   "metadata": {},
   "source": [
    "# Data Download using Azure FarmBeats\n",
    "Download the required satellite and weather data using Azure FarmBeats PaaS."
   ]
  },
  {
   "cell_type": "markdown",
   "id": "359bb2d0",
   "metadata": {},
   "source": [
    "### Import 3rd party libraies"
   ]
  },
  {
   "cell_type": "code",
   "execution_count": null,
   "id": "3157be7e",
   "metadata": {},
   "outputs": [],
   "source": [
    "import json\n",
    "import numpy as np\n",
    "import os\n",
    "import pandas as pd\n",
    "import rasterio\n",
    "from azure.core.exceptions import HttpResponseError\n",
    "from azure.identity import ClientSecretCredential\n",
    "from datetime import datetime, timedelta\n",
    "\n",
    "# Disable unnecessary logs \n",
    "import sys\n",
    "import logging\n",
    "logging.disable(sys.maxsize)"
   ]
  },
  {
   "cell_type": "markdown",
   "id": "bbfa6dae",
   "metadata": {},
   "source": [
    "### Import Farmbeats and Utilities"
   ]
  },
  {
   "cell_type": "code",
   "execution_count": null,
   "id": "5b30b930",
   "metadata": {},
   "outputs": [],
   "source": [
    "from azure.farmbeats.models import Farmer, Boundary, Polygon, SatelliteIngestionJobRequest, WeatherIngestionJobRequest\n",
    "from azure.farmbeats import FarmBeatsClient\n",
    "\n",
    "from utils.config import farmbeats_config\n",
    "from utils.weather_util import WeatherUtil\n",
    "from utils.satellite_util import SatelliteUtil\n",
    "from utils.constants import CONSTANTS"
   ]
  },
  {
   "cell_type": "markdown",
   "id": "53e28ec9",
   "metadata": {},
   "source": [
    "### Farmbeats Configuration"
   ]
  },
  {
   "cell_type": "code",
   "execution_count": null,
   "id": "efc6f1f2",
   "metadata": {},
   "outputs": [],
   "source": [
    "# FarmBeats Client definition\n",
    "credential = ClientSecretCredential(\n",
    "    tenant_id=farmbeats_config['tenant_id'],\n",
    "    client_id=farmbeats_config['client_id'],\n",
    "    client_secret=farmbeats_config['client_secret'],\n",
    "    authority=farmbeats_config['authority']\n",
    ")\n",
    "\n",
    "credential_scopes = [farmbeats_config['default_scope']]\n",
    "\n",
    "fb_client = FarmBeatsClient(\n",
    "    base_url=farmbeats_config['instance_url'],\n",
    "    credential=credential,\n",
    "    credential_scopes=credential_scopes,\n",
    "    logging_enable=True\n",
    ")"
   ]
  },
  {
   "cell_type": "code",
   "execution_count": null,
   "id": "e1eb571b",
   "metadata": {},
   "outputs": [],
   "source": [
    "RUN = 64\n",
    "NO_BOUNDARIES = 2\n",
    "root_dir = \"/home/temp/\" # Satellite data gets downloaded here"
   ]
  },
  {
   "cell_type": "markdown",
   "id": "9e405f4c",
   "metadata": {},
   "source": [
    "### Create Farmer"
   ]
  },
  {
   "cell_type": "code",
   "execution_count": null,
   "id": "fc6d16c2",
   "metadata": {},
   "outputs": [],
   "source": [
    "farmer_id = \"annam_farmer\"\n",
    "try:\n",
    "    farmer = fb_client.farmers.get(farmer_id=farmer_id)\n",
    "    if farmer is not None:\n",
    "        print(\"Farmer Exists\")\n",
    "    else:\n",
    "        print(\"Farmer doesn't exist...Creating one \", end=\"\", flush=True)\n",
    "        farmer = fb_client.farmers.create_or_update(\n",
    "            farmer_id=farmer_id,\n",
    "            farmer=Farmer()\n",
    "        )\n",
    "except Exception as e:\n",
    "    print(e)"
   ]
  },
  {
   "cell_type": "markdown",
   "id": "1f40ff4a",
   "metadata": {},
   "source": [
    "### Create Boundaries"
   ]
  },
  {
   "cell_type": "code",
   "execution_count": null,
   "id": "213129ae",
   "metadata": {},
   "outputs": [],
   "source": [
    "# Read 1000 farm geojsons from farms_1kmx1km.csv\n",
    "locations_df = pd.read_csv(\"data//farms_sample_1kmx1km.csv\")\n",
    "locations_df[\"farms1\"] = locations_df.farms.apply(json.loads)  # farm geojsons converted from string to list with numeric elements"
   ]
  },
  {
   "cell_type": "code",
   "execution_count": null,
   "id": "f1b4feeb",
   "metadata": {},
   "outputs": [],
   "source": [
    "boundaries = [] # List of boundaries\n",
    "\n",
    "for i, item in enumerate(locations_df.farms1.values[:NO_BOUNDARIES]):\n",
    "    boundary_id=\"boundary\" + str(i) + str(RUN)\n",
    "    try:\n",
    "        boundary = fb_client.boundaries.get(\n",
    "            farmer_id=farmer_id,\n",
    "            boundary_id=boundary_id\n",
    "        )\n",
    "        if boundary is not None:\n",
    "            print(\"Exist\")\n",
    "        else:\n",
    "            print(f\"Creating boundary with id {boundary_id}... \", end=\"\")\n",
    "            boundary = fb_client.boundaries.create_or_update(\n",
    "                farmer_id=farmer_id,\n",
    "                boundary_id=boundary_id,\n",
    "                boundary=Boundary(\n",
    "                    description=\"Created by SDK\",\n",
    "                    geometry=Polygon(\n",
    "                        coordinates=[\n",
    "                        item\n",
    "                        ]\n",
    "                    )\n",
    "                )\n",
    "            )\n",
    "            print(\"Created\")\n",
    "    except Exception as e:\n",
    "        print(e)\n",
    "    boundaries.append(boundary)"
   ]
  },
  {
   "cell_type": "markdown",
   "id": "63a40029",
   "metadata": {},
   "source": [
    "###  Submit Satellite Jobs"
   ]
  },
  {
   "cell_type": "code",
   "execution_count": null,
   "id": "c36cb14d",
   "metadata": {},
   "outputs": [],
   "source": [
    "# Start and End data for Satellite and Weather data to be pulled\n",
    "start_dt = datetime.strptime(CONSTANTS[\"interp_date_start\"], \"%d-%m-%Y\")\n",
    "end_dt = datetime.strptime(CONSTANTS[\"interp_date_end\"], \"%d-%m-%Y\")"
   ]
  },
  {
   "cell_type": "code",
   "execution_count": null,
   "id": "648355b1",
   "metadata": {},
   "outputs": [],
   "source": [
    "satellite_jobs = []\n",
    "for i, boundary in enumerate(boundaries[:NO_BOUNDARIES]):\n",
    "    job_id = \"satellitejob\"+ str(i) + str(RUN)\n",
    "    \n",
    "    # Submit Satellite Job\n",
    "    try:\n",
    "        print(\"Queuing satellite job... \", end=\"\", flush=True)\n",
    "        satellite_job = fb_client.scenes.begin_create_satellite_data_ingestion_job(\n",
    "            job_id=job_id,\n",
    "            job=SatelliteIngestionJobRequest(\n",
    "                farmer_id=boundary.farmer_id,\n",
    "                boundary_id=boundary.id,\n",
    "                start_date_time=start_dt,\n",
    "                end_date_time=end_dt,\n",
    "            ),\n",
    "            polling=True\n",
    "        )\n",
    "        print(\"Submitted Satellite Job\")\n",
    "\n",
    "    except HttpResponseError as e:\n",
    "        print(e)\n",
    "        raise\n",
    "    satellite_jobs.append(satellite_job)"
   ]
  },
  {
   "cell_type": "markdown",
   "id": "3707c95d",
   "metadata": {},
   "source": [
    "### Check status of Satellite Jobs"
   ]
  },
  {
   "cell_type": "code",
   "execution_count": null,
   "id": "6e2ac723",
   "metadata": {},
   "outputs": [],
   "source": [
    "for sat_job in satellite_jobs:\n",
    "    print(\"Waiting\")\n",
    "    sat_job.result()\n",
    "\n",
    "for sat_job in satellite_jobs:\n",
    "    print(sat_job.result().as_dict()['id'])\n",
    "    print(sat_job.status())\n",
    "    \n",
    "# TODO: Save job ids with Job request body to track failed jobs if any!"
   ]
  },
  {
   "cell_type": "markdown",
   "id": "78828aea",
   "metadata": {},
   "source": [
    "### Submit Weather (Historical) Jobs"
   ]
  },
  {
   "cell_type": "code",
   "execution_count": null,
   "id": "764de974",
   "metadata": {},
   "outputs": [],
   "source": [
    "# Weather API inputs\n",
    "extension_id = \"dtn.clearAg\"\n",
    "extension_api_name = \"dailyhistorical\"\n",
    "extension_data_provider_api_key = farmbeats_config[\"weather_provider_key\"]\n",
    "extension_data_provider_app_id = farmbeats_config[\"weather_provider_id\"]"
   ]
  },
  {
   "cell_type": "code",
   "execution_count": null,
   "id": "98c1514c",
   "metadata": {},
   "outputs": [],
   "source": [
    "weather_jobs = []\n",
    "for i, boundary in enumerate(boundaries[:NO_BOUNDARIES]):\n",
    "    job_id = \"weatherjob\"+ str(i) + str(RUN)\n",
    "    st_unix = int(start_dt.timestamp())\n",
    "    ed_unix = int(end_dt.timestamp())\n",
    "    \n",
    "    try:\n",
    "        print(\"Queuing weather job... \", end=\"\", flush=True)\n",
    "        weather_job = fb_client.weather.begin_create_data_ingestion_job(\n",
    "            job_id=job_id,\n",
    "            job=WeatherIngestionJobRequest(\n",
    "                farmer_id=boundary.farmer_id,\n",
    "                boundary_id=boundary.id,\n",
    "                extension_id= extension_id, \n",
    "                extension_api_name= extension_api_name, \n",
    "                extension_api_input= {\"start\": st_unix, \"end\": ed_unix},\n",
    "                extension_data_provider_api_key= extension_data_provider_api_key,\n",
    "                extension_data_provider_app_id=extension_data_provider_app_id\n",
    "            ),\n",
    "            polling=True\n",
    "        )\n",
    "        print(\"Submitted Weather Job\")\n",
    "    except HttpResponseError as e:\n",
    "        print(e)\n",
    "        raise\n",
    "    weather_jobs.append(weather_job)"
   ]
  },
  {
   "cell_type": "markdown",
   "id": "b0e4b4c7",
   "metadata": {},
   "source": [
    "### Check status of Weather (Historical) Jobs"
   ]
  },
  {
   "cell_type": "code",
   "execution_count": null,
   "id": "493f7c5c",
   "metadata": {},
   "outputs": [],
   "source": [
    "for wth_job in weather_jobs:\n",
    "    print(\"Waiting\")\n",
    "    wth_job.result()\n",
    "\n",
    "for wth_job in weather_jobs:\n",
    "    print(wth_job.result().as_dict()['id'])\n",
    "    print(wth_job.status())\n",
    "    \n",
    "# TODO: Save job ids with Job request body to track failed jobs if any!"
   ]
  },
  {
   "cell_type": "markdown",
   "id": "a12099a2",
   "metadata": {},
   "source": [
    "### Submit Weather (forecast) jobs"
   ]
  },
  {
   "cell_type": "code",
   "execution_count": null,
   "id": "110117b1",
   "metadata": {},
   "outputs": [],
   "source": [
    "weather_forecast_jobs = []\n",
    "START = 0\n",
    "END = 10\n",
    "extension_api_name = \"dailyforecast\"\n",
    "for i, boundary in enumerate(boundaries[:NO_BOUNDARIES]):\n",
    "    job_id = \"weatherforecastjob\"+ str(i) + str(RUN)\n",
    "    \n",
    "    try:\n",
    "        print(\"Queuing weather job... \", end=\"\", flush=True)\n",
    "        weather_job = fb_client.weather.begin_create_data_ingestion_job(\n",
    "            job_id=job_id,\n",
    "            job=WeatherIngestionJobRequest(\n",
    "                farmer_id=boundary.farmer_id,\n",
    "                boundary_id=boundary.id,\n",
    "                extension_id= extension_id, \n",
    "                extension_api_name= extension_api_name, \n",
    "                extension_api_input= {\"start\": START, \"end\": END},\n",
    "                extension_data_provider_api_key= extension_data_provider_api_key,\n",
    "                extension_data_provider_app_id=extension_data_provider_app_id\n",
    "            ),\n",
    "            polling=True\n",
    "        )\n",
    "        print(\"Submitted Weather Job\")\n",
    "    except HttpResponseError as e:\n",
    "        print(e)\n",
    "        raise\n",
    "    weather_forecast_jobs.append(weather_job)"
   ]
  },
  {
   "cell_type": "markdown",
   "id": "aae16066",
   "metadata": {},
   "source": [
    "### Check status of Weather (forecast) jobs"
   ]
  },
  {
   "cell_type": "code",
   "execution_count": null,
   "id": "164c8228",
   "metadata": {},
   "outputs": [],
   "source": [
    "for wth_job in weather_forecast_jobs:\n",
    "    print(\"Waiting\")\n",
    "    wth_job.result()\n",
    "\n",
    "for wth_job in weather_forecast_jobs:\n",
    "    print(wth_job.result().as_dict()['id'])\n",
    "    print(wth_job.status())\n",
    "    \n",
    "# TODO: Save job ids with Job request body to track failed jobs if any!"
   ]
  },
  {
   "cell_type": "markdown",
   "id": "5bd1d962",
   "metadata": {},
   "source": [
    "### Download Satellite Data to Local"
   ]
  },
  {
   "cell_type": "code",
   "execution_count": null,
   "id": "a3ba808d",
   "metadata": {},
   "outputs": [],
   "source": [
    "df = SatelliteUtil(farmbeats_client = fb_client).download_and_get_sat_file_paths(farmer_id, boundaries, \n",
    "                                                                              start_dt, \n",
    "                                                                              end_dt, \n",
    "                                                                              root_dir)\n",
    "\n",
    "# TODO: Parallelization \n",
    "df.to_csv(\"satellite_paths.csv\", index=None)"
   ]
  },
  {
   "cell_type": "markdown",
   "id": "01d83195",
   "metadata": {},
   "source": [
    "### Download Weather Data to Local"
   ]
  },
  {
   "cell_type": "code",
   "execution_count": null,
   "id": "6c1969c1",
   "metadata": {},
   "outputs": [],
   "source": [
    "for boundary in boundaries:\n",
    "    weather_list = fb_client.weather.list(\n",
    "            farmer_id=  boundary.farmer_id,\n",
    "            boundary_id= boundary.id,\n",
    "            extension_id=\"dtn.clearAg\", \n",
    "            weather_data_type= \"historical\", \n",
    "            granularity=\"daily\")\n",
    "\n",
    "    weather_data = []\n",
    "    for w_data in weather_list:\n",
    "        weather_data.append(w_data)\n",
    "\n",
    "    w_df = WeatherUtil.get_weather_data_df(weather_data)\n",
    "    w_df.to_csv(boundary.id + \"_historical.csv\", index=False)"
   ]
  },
  {
   "cell_type": "code",
   "execution_count": null,
   "id": "b57c26c3",
   "metadata": {},
   "outputs": [],
   "source": [
    "for boundary in boundaries:\n",
    "    weather_list = fb_client.weather.list(\n",
    "            farmer_id=  boundary.farmer_id,\n",
    "            boundary_id= boundary.id,\n",
    "            extension_id=\"dtn.clearAg\", \n",
    "            weather_data_type= \"forecast\", \n",
    "            granularity=\"daily\")\n",
    "\n",
    "    weather_data = []\n",
    "    for w_data in weather_list:\n",
    "        weather_data.append(w_data)\n",
    "\n",
    "    w_df = WeatherUtil.get_weather_data_df(weather_data)\n",
    "    w_df.to_csv(boundary.id + \"_forecast.csv\", index=False)"
   ]
  }
 ],
 "metadata": {
  "kernel_info": {
   "name": "python3-azureml"
  },
  "kernelspec": {
   "display_name": "Python 3",
   "language": "python",
   "name": "python3"
  },
  "language_info": {
   "codemirror_mode": {
    "name": "ipython",
    "version": 3
   },
   "file_extension": ".py",
   "mimetype": "text/x-python",
   "name": "python",
   "nbconvert_exporter": "python",
   "pygments_lexer": "ipython3",
   "version": "3.6.9"
  },
  "nteract": {
   "version": "nteract-front-end@1.0.0"
  }
 },
 "nbformat": 4,
 "nbformat_minor": 5
}
