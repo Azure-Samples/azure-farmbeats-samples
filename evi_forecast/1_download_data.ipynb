{
 "cells": [
  {
   "cell_type": "markdown",
   "metadata": {},
   "source": [
    "Copyright (c) Microsoft Corporation. All rights reserved.\n",
    "\n",
    "Licensed under the MIT License."
   ]
  },
  {
   "cell_type": "markdown",
   "metadata": {},
   "source": [
    "# Azure FarmBeats: Satellite and Weather Data\r\n",
    "\r\n",
    "In this notebook, the following things are demonstrated:\r\n",
    "\r\n",
    "> * Create a Farmer\r\n",
    "> * Create boundaries\r\n",
    "> * How to submit satellite and weather (historical and forecast) jobs in FarmBeats PaaS for created boundaries\r\n",
    "> * Check the status of jobs in FarmBeats PaaS\r\n",
    "> * Download satellite data from FarmBeats PaaS to local compute\r\n",
    "> * Download weather data from FarmBeats PaaS to local compute\r\n",
    "\r\n",
    "\r\n",
    "In order to build EVI (Enhanced Vegetation Index) forecast model, you need satellite, historical weather and weather forecast data for the locations you want to train. This will be achieved easily using Azure FarmBeats python SDK. "
   ]
  },
  {
   "cell_type": "markdown",
   "metadata": {},
   "source": [
    "### Import Libraries"
   ]
  },
  {
   "cell_type": "code",
   "execution_count": null,
   "metadata": {},
   "outputs": [],
   "source": [
    "!pip install ---quiet -r ../requirements-modelsamples.txt"
   ]
  },
  {
   "cell_type": "code",
   "execution_count": null,
   "metadata": {},
   "outputs": [],
   "source": [
    "# Standard library imports\r\n",
    "import json\r\n",
    "import os\r\n",
    "import sys\r\n",
    "import uuid\r\n",
    "from datetime import datetime\r\n",
    "\r\n",
    "# Disable unnecessary logs \r\n",
    "import logging\r\n",
    "logging.disable(sys.maxsize)\r\n",
    "import warnings\r\n",
    "warnings.filterwarnings(\"ignore\")\r\n",
    "\r\n",
    "# Third party imports\r\n",
    "import pandas as pd\r\n",
    "\r\n",
    "# Local imports\r\n",
    "from utils.config import farmbeats_config\r\n",
    "from utils.constants import CONSTANTS\r\n",
    "from utils.io_utils import IOUtil\r\n",
    "from utils.satellite_util import SatelliteUtil\r\n",
    "from utils.weather_util import WeatherUtil\r\n",
    "\r\n",
    "# Azure imports\r\n",
    "from azure.core.exceptions import HttpResponseError\r\n",
    "from azure.identity import ClientSecretCredential\r\n",
    "\r\n",
    "# Azure FarmBeats SDK imports\r\n",
    "from azure.farmbeats import FarmBeatsClient\r\n",
    "from azure.farmbeats.models import (Farmer, Boundary, Polygon,\r\n",
    "                                    SatelliteDataIngestionJob,\r\n",
    "                                    WeatherDataIngestionJob, \r\n",
    "                                    SatelliteData)"
   ]
  },
  {
   "cell_type": "markdown",
   "metadata": {},
   "source": [
    "### FarmBeats Configuration\r\n",
    "Please follow the instructions here to create Azue Farmbeats resource and generate client id, client secrets, etc.. These values need to be added in config.py in utils folder accordingly\r\n"
   ]
  },
  {
   "cell_type": "code",
   "execution_count": null,
   "metadata": {},
   "outputs": [],
   "source": [
    "# FarmBeats Client definition\n",
    "credential = ClientSecretCredential(\n",
    "    tenant_id=farmbeats_config['tenant_id'],\n",
    "    client_id=farmbeats_config['client_id'],\n",
    "    client_secret=farmbeats_config['client_secret'],\n",
    "    authority=farmbeats_config['authority']\n",
    ")\n",
    "\n",
    "credential_scopes = [farmbeats_config['default_scope']]\n",
    "\n",
    "fb_client = FarmBeatsClient(\n",
    "    base_url=farmbeats_config['instance_url'],\n",
    "    credential=credential,\n",
    "    credential_scopes=credential_scopes,\n",
    "    logging_enable=True\n",
    ")"
   ]
  },
  {
   "cell_type": "code",
   "execution_count": null,
   "metadata": {},
   "outputs": [],
   "source": [
    "RUN_ID = uuid.uuid1()  # This helps in creating unique job id everytime you run\n",
    "NO_BOUNDARIES = 3  # Defaults 3;\n",
    "root_dir = CONSTANTS['root_dir']  # Satellite data gets downloaded here"
   ]
  },
  {
   "cell_type": "markdown",
   "metadata": {},
   "source": [
    "### Create Farmer\r\n",
    "\r\n",
    "Create a Farmer entity in FarmBeats system. You need to provide a farmer id as input"
   ]
  },
  {
   "cell_type": "code",
   "execution_count": null,
   "metadata": {},
   "outputs": [],
   "source": [
    "farmer_id = \"contoso_farmer\"\n",
    "try:\n",
    "    farmer = fb_client.farmers.get(farmer_id=farmer_id)\n",
    "    if farmer is not None:\n",
    "        print(\"Farmer {} Exists.\".format(farmer_id))\n",
    "    else:\n",
    "        print(\"Farmer doesn't exist...Creating ... \", end=\"\", flush=True)\n",
    "        farmer = fb_client.farmers.create_or_update(\n",
    "            farmer_id=farmer_id,\n",
    "            farmer=Farmer()\n",
    "        )\n",
    "except Exception as e:\n",
    "    print(e)"
   ]
  },
  {
   "cell_type": "markdown",
   "metadata": {},
   "source": [
    "### Create Boundaries\r\n",
    "\r\n",
    "Reads boundary geojson objects from a csv file and create boundary entity in FarmBeats system per each geojson object. \r\n",
    "\r\n",
    "<b>Inputs:</b> Boundary geojson string, boundary id"
   ]
  },
  {
   "cell_type": "code",
   "execution_count": null,
   "metadata": {},
   "outputs": [],
   "source": [
    "# farms_sample_1kmx1km.csv file contains farm boundaries curated from Crop Data Layer [(CDL)] (https://www.nass.usda.gov/Research_and_Science/Cropland/SARS1a.php). The locations spread across continental USA.  \r\n",
    "# You can plug-in your own locations in the same format\r\n",
    "locations_df = pd.read_csv(os.path.join(\"data\",\"farms_sample_1kmx1km.csv\"))\r\n",
    "locations_df[\"farm_boundaries\"] = locations_df.farms.apply(json.loads)  # converted from string to list with numeric elements"
   ]
  },
  {
   "cell_type": "code",
   "execution_count": null,
   "metadata": {},
   "outputs": [],
   "source": [
    "boundaries = locations_df.farm_boundaries.values[:NO_BOUNDARIES]\n",
    "boundary_objs = []  # List of boundaru objects\n",
    "\n",
    "for i, boundary_polygon in enumerate(boundaries):\n",
    "    boundary_id = \"boundary\" + str(i)\n",
    "    try:\n",
    "        boundary = fb_client.boundaries.get(\n",
    "            farmer_id=farmer_id,\n",
    "            boundary_id=boundary_id\n",
    "        )\n",
    "        if boundary is not None:\n",
    "            print(f\"Boundary with id {boundary.id} Exist\", end=\"\\n\")\n",
    "        else:\n",
    "            print(f\"Creating boundary with id {boundary_id}... \", end=\"\")\n",
    "            boundary = fb_client.boundaries.create_or_update(\n",
    "                farmer_id=farmer_id,\n",
    "                boundary_id=boundary_id,\n",
    "                boundary=Boundary(\n",
    "                    description=\"Created by SDK\",\n",
    "                    geometry=Polygon(\n",
    "                        coordinates=[\n",
    "                            boundary_polygon\n",
    "                        ]\n",
    "                    )\n",
    "                )\n",
    "            )\n",
    "            print(\"Created\")\n",
    "    except Exception as e:\n",
    "        print(e)\n",
    "    boundary_objs.append(boundary)\n",
    "\n",
    "#TODO: If Boundary ID + Different geometry given, needs force delete existing and create new one with same ID "
   ]
  },
  {
   "cell_type": "markdown",
   "metadata": {},
   "source": [
    "###  Submit Satellite Jobs\r\n",
    "Create a satellite job for a given set of boundaries using Azure Farmbeats satellite_data_ingestion_job and SatellitDataIngestionJob() methods. \r\n",
    "This returns a pollable object for each satellite job. We can query this object to know the status of each job until gets completed. Once the job succeeded, all satellite scenes will be downloaded in PaaS for given duration and location of intereset. "
   ]
  },
  {
   "cell_type": "code",
   "execution_count": null,
   "metadata": {},
   "outputs": [],
   "source": [
    "# Start and End data for Satellite and Weather data to be pulled\n",
    "start_dt = datetime.strptime(CONSTANTS[\"interp_date_start\"], \"%d-%m-%Y\")\n",
    "end_dt = datetime.strptime(CONSTANTS[\"interp_date_end\"], \"%d-%m-%Y\")"
   ]
  },
  {
   "cell_type": "code",
   "execution_count": null,
   "metadata": {},
   "outputs": [],
   "source": [
    "satellite_jobs = []\n",
    "for i, boundary_obj in enumerate(boundary_objs):\n",
    "    job_id = \"s-job\"+ str(i) + str(RUN_ID)\n",
    "    \n",
    "    # Submit Satellite Job\n",
    "    try:\n",
    "        print(\"Queuing satellite job... \", end=\"\", flush=True)\n",
    "        satellite_job = fb_client.scenes.begin_create_satellite_data_ingestion_job(\n",
    "            job_id=job_id,\n",
    "            job=SatelliteDataIngestionJob(\n",
    "                farmer_id=boundary_obj.farmer_id,\n",
    "                boundary_id=boundary_obj.id,\n",
    "                start_date_time=start_dt,\n",
    "                end_date_time=end_dt,\n",
    "                data=SatelliteData(\n",
    "                    image_names=[\n",
    "                        # \"B01\",\n",
    "                        # \"B02\",\n",
    "                        # \"B03\",\n",
    "                        # \"B04\",\n",
    "                        \"NDVI\"\n",
    "                    ]\n",
    "                )\n",
    "            ),\n",
    "            polling=True\n",
    "        )\n",
    "        print(\"Submitted Satellite Job\")\n",
    "\n",
    "    except HttpResponseError as e:\n",
    "        print(e.response.body())\n",
    "        raise\n",
    "    satellite_jobs.append(satellite_job)"
   ]
  },
  {
   "cell_type": "markdown",
   "metadata": {},
   "source": [
    "### Check Status of Satellite Jobs\r\n",
    "Now, wait for the satellite jobs to be completed. We can check the status of each job which results in <i> succeeded </i> or <i> failed </i> or <i> waiting </i>. Needs further investigation for failed jobs and re-run the jobs if required!! "
   ]
  },
  {
   "cell_type": "code",
   "execution_count": null,
   "metadata": {},
   "outputs": [],
   "source": [
    "for sat_job in satellite_jobs:\n",
    "    print(\"Waiting\")\n",
    "    sat_job.result()\n",
    "\n",
    "for sat_job in satellite_jobs:\n",
    "    print(sat_job.result().as_dict()['id'])\n",
    "    print(sat_job.status())   \n",
    "# TODO: Save job ids with Job request body to track failed jobs if any!"
   ]
  },
  {
   "cell_type": "markdown",
   "metadata": {},
   "source": [
    "### Submit Weather (Historical) Jobs\r\n",
    "\r\n",
    "Similar to satellite jobs, submit weather job for each boundary using azure farmbeats weather.begin_create_data_ingestion_job() and WeatherDataIngestionJob() methods. This returns the weather job objects for each boundary. \r\n",
    "\r\n",
    "This also require the details of weather data provider that you want to use. The details are specific to weather, but typically includes extension id, APP_KEY, APP_ID, etc. and these needs to be added to config.py acoordingly"
   ]
  },
  {
   "cell_type": "code",
   "execution_count": null,
   "metadata": {},
   "outputs": [],
   "source": [
    "# Weather API inputs\n",
    "extension_id = farmbeats_config[\"weather_provider_extension_id\"]\n",
    "extension_data_provider_api_key = farmbeats_config[\"weather_provider_key\"]\n",
    "extension_data_provider_app_id = farmbeats_config[\"weather_provider_id\"]\n",
    "extension_api_name = \"dailyhistorical\""
   ]
  },
  {
   "cell_type": "code",
   "execution_count": null,
   "metadata": {},
   "outputs": [],
   "source": [
    "weather_jobs = []\n",
    "for i, boundary_obj in enumerate(boundary_objs):\n",
    "    job_id = \"w-hist\" + str(i) + str(RUN_ID)\n",
    "    st_unix = int(start_dt.timestamp())\n",
    "    ed_unix = int(end_dt.timestamp())\n",
    "    try:\n",
    "        print(\"Queuing weather job... \", end=\"\", flush=True)\n",
    "        weather_job = fb_client.weather.begin_create_data_ingestion_job(\n",
    "            job_id=job_id,\n",
    "            job=WeatherDataIngestionJob(\n",
    "                farmer_id=boundary_obj.farmer_id,\n",
    "                boundary_id=boundary_obj.id,\n",
    "                extension_id=extension_id, \n",
    "                extension_api_name=extension_api_name, \n",
    "                extension_api_input={\"start\": st_unix, \"end\": ed_unix},\n",
    "                extension_data_provider_api_key=extension_data_provider_api_key,\n",
    "                extension_data_provider_app_id=extension_data_provider_app_id\n",
    "            ),\n",
    "            polling=True\n",
    "        )\n",
    "        print(\"Submitted Weather Job\")\n",
    "    except HttpResponseError as e:\n",
    "        print(e.response.body())\n",
    "        raise\n",
    "    weather_jobs.append(weather_job)"
   ]
  },
  {
   "cell_type": "markdown",
   "metadata": {},
   "source": [
    "### Check Status of Weather (Historical) Jobs\r\n",
    "Wait for weather jobs to get completed. Log the weather job ids which have failed and can be investigated further. The failed jobs can be submitted again the same weather.begin_create_data_ingestion_job() method. "
   ]
  },
  {
   "cell_type": "code",
   "execution_count": null,
   "metadata": {},
   "outputs": [],
   "source": [
    "for wth_job in weather_jobs:\n",
    "    print(\"Waiting\")\n",
    "    wth_job.result()\n",
    "\n",
    "for wth_job in weather_jobs:\n",
    "    print(wth_job.result().as_dict()['id'])\n",
    "    print(wth_job.status())\n",
    "    \n",
    "# TODO: Save job ids with Job request body to track failed jobs if any!"
   ]
  },
  {
   "cell_type": "markdown",
   "metadata": {},
   "source": [
    "### Submit Weather (forecast) jobs\r\n",
    "Similar to historical weather data, we need weather forecast data for model training. Submit the jobs for each boundary using weather.begin_create_data_ingestion_job and provide extension_api_name as according to weather provider  (e.g., DTN ClearAg, the extension api name for forecast data is 'dailyforecast')"
   ]
  },
  {
   "cell_type": "code",
   "execution_count": null,
   "metadata": {},
   "outputs": [],
   "source": [
    "weather_forecast_jobs = []\n",
    "START = 0\n",
    "END = 10\n",
    "extension_api_name = \"dailyforecast\"\n",
    "for i, boundary_obj in enumerate(boundary_objs):\n",
    "    job_id = \"w-fcast\"+ str(i) + str(RUN_ID)\n",
    "    \n",
    "    try:\n",
    "        print(\"Queuing weather job... \", end=\"\", flush=True)\n",
    "        weather_job = fb_client.weather.begin_create_data_ingestion_job(\n",
    "            job_id=job_id,\n",
    "            job=WeatherDataIngestionJob(\n",
    "                farmer_id=boundary_obj.farmer_id,\n",
    "                boundary_id=boundary_obj.id,\n",
    "                extension_id=extension_id,\n",
    "                extension_api_name=extension_api_name,\n",
    "                extension_api_input={\"start\": START, \"end\": END},\n",
    "                extension_data_provider_api_key=extension_data_provider_api_key,\n",
    "                extension_data_provider_app_id=extension_data_provider_app_id\n",
    "            ),\n",
    "            polling=True\n",
    "        )\n",
    "        print(\"Submitted Weather Job\")\n",
    "    except HttpResponseError as e:\n",
    "        print(e.response.body())\n",
    "        raise\n",
    "    weather_forecast_jobs.append(weather_job)"
   ]
  },
  {
   "cell_type": "markdown",
   "metadata": {},
   "source": [
    "### Check Status of Weather (forecast) jobs"
   ]
  },
  {
   "cell_type": "code",
   "execution_count": null,
   "metadata": {},
   "outputs": [],
   "source": [
    "for wth_job in weather_forecast_jobs:\n",
    "    print(\"Waiting\")\n",
    "    wth_job.result()\n",
    "\n",
    "for wth_job in weather_forecast_jobs:\n",
    "    print(wth_job.result().as_dict()['id'])\n",
    "    print(wth_job.status())\n",
    "    \n",
    "# TODO: Save job ids with Job request body to track failed jobs if any!"
   ]
  },
  {
   "cell_type": "markdown",
   "metadata": {},
   "source": [
    "### Download Satellite Data to Compute\r\n",
    "\r\n",
    "Once the data has been ingested to Azure Farmbeats PaaS, it can be downloaded to your local machine or AML compute or Data Science VM.\r\n",
    "The data gets downloaded using scenes download method. This would be dependent on network bandwidth of your compute."
   ]
  },
  {
   "cell_type": "code",
   "execution_count": null,
   "metadata": {},
   "outputs": [],
   "source": [
    "df = SatelliteUtil(farmbeats_client=fb_client).download_and_get_sat_file_paths(farmer_id, boundary_objs,\n",
    "                                                                            start_dt,\n",
    "                                                                            end_dt,\n",
    "                                                                            root_dir)\n",
    "# Write output to result directory\n",
    "IOUtil.create_dir_safely(CONSTANTS[\"results_dir\"])\n",
    "df.to_csv(os.path.join(CONSTANTS[\"results_dir\"], \"satellite_paths.csv\"), index=None)"
   ]
  },
  {
   "cell_type": "markdown",
   "metadata": {},
   "source": [
    "### Download Weather Data (Historical) to Compute\r\n",
    "\r\n",
    "We query the weather data from Azure Farmbeats and the resposne is list of json object. This gets conveted into pandas dataframe (The typical data format for ML model inputs) and saved to your compute."
   ]
  },
  {
   "cell_type": "code",
   "execution_count": null,
   "metadata": {},
   "outputs": [],
   "source": [
    "for boundary_obj in boundary_objs:\n",
    "    weather_list = fb_client.weather.list(\n",
    "            farmer_id=boundary_obj.farmer_id,\n",
    "            boundary_id=boundary_obj.id,\n",
    "            extension_id=extension_id,\n",
    "            weather_data_type=\"historical\",\n",
    "            granularity=\"daily\")\n",
    "\n",
    "    weather_data = []\n",
    "    for w_data in weather_list:\n",
    "        weather_data.append(w_data)\n",
    "\n",
    "    w_hist_df = WeatherUtil.get_weather_data_df(weather_data)\n",
    "    w_hist_df.to_csv(os.path.join(root_dir, boundary_obj.id + \"_historical.csv\"), index=False)\n",
    "\n",
    "print('Downloaded weather (historical) data!!')"
   ]
  },
  {
   "cell_type": "markdown",
   "metadata": {},
   "source": [
    "### Download Weather Data (Forecast) to Compute\r\n",
    "Similar to historical weather data, we query forecast data and save it to csv files. "
   ]
  },
  {
   "cell_type": "code",
   "execution_count": null,
   "metadata": {},
   "outputs": [],
   "source": [
    "for boundary_obj in boundary_objs:\n",
    "    weather_list = fb_client.weather.list(\n",
    "            farmer_id=boundary_obj.farmer_id,\n",
    "            boundary_id=boundary_obj.id,\n",
    "            extension_id=extension_id, \n",
    "            weather_data_type=\"forecast\", \n",
    "            granularity=\"daily\")\n",
    "\n",
    "    weather_data = []\n",
    "    for w_data in weather_list:\n",
    "        weather_data.append(w_data)\n",
    "\n",
    "    w_frcst_df = WeatherUtil.get_weather_data_df(weather_data)\n",
    "    w_frcst_df.to_csv(os.path.join(root_dir, boundary_obj.id + \"_forecast.csv\"), index=False)\n",
    "\n",
    "print('Downloaded weather (forecast) data!!')"
   ]
  }
 ],
 "metadata": {
  "kernel_info": {
   "name": "python3-azureml"
  },
  "kernelspec": {
   "display_name": "Python 3.6.13 64-bit ('biomass_env': conda)",
   "name": "python3613jvsc74a57bd01b8909cd682ad2031a3fb3175342cff3c40a9610f558a75a8a5d8e13c2847353"
  },
  "language_info": {
   "name": "python",
   "version": ""
  },
  "nteract": {
   "version": "nteract-front-end@1.0.0"
  }
 },
 "nbformat": 4,
 "nbformat_minor": 5
}