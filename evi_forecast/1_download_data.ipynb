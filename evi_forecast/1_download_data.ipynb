{
 "cells": [
  {
   "cell_type": "markdown",
   "id": "d1eb2272",
   "metadata": {},
   "source": [
    "# Data Download using Azure FarmBeats\n",
    "Download of required satellite and weather data using Azure FarmBeats PaaS."
   ]
  },
  {
   "cell_type": "markdown",
   "id": "d36359eb",
   "metadata": {},
   "source": [
    "### Import 3rd party libraies"
   ]
  },
  {
   "cell_type": "code",
   "execution_count": 1,
   "id": "70115dbb",
   "metadata": {},
   "outputs": [],
   "source": [
    "# Disable unnecessary logs \n",
    "import sys\n",
    "import logging\n",
    "logging.disable(sys.maxsize)\n",
    "\n",
    "from datetime import datetime\n",
    "import json\n",
    "import numpy as np\n",
    "import os\n",
    "import pandas as pd\n",
    "import rasterio\n",
    "from azure.identity import ClientSecretCredential"
   ]
  },
  {
   "cell_type": "markdown",
   "id": "564c2d5e",
   "metadata": {},
   "source": [
    "### Import Farmbeats and Utilities"
   ]
  },
  {
   "cell_type": "code",
   "execution_count": 2,
   "id": "9633c8e2",
   "metadata": {},
   "outputs": [],
   "source": [
    "from azure.farmbeats.models import Farmer, Boundary, Polygon, SatelliteIngestionJobRequest, WeatherIngestionJobRequest\n",
    "from azure.farmbeats import FarmBeatsClient\n",
    "from utils.config import farmbeats_config\n",
    "from utils.weather_util import WeatherUtil\n",
    "from utils.satellite_util import SatelliteUtil\n",
    "from utils.constants import CONSTANTS"
   ]
  },
  {
   "cell_type": "markdown",
   "id": "49896af5",
   "metadata": {},
   "source": [
    "### Farmbeats Configuration"
   ]
  },
  {
   "cell_type": "code",
   "execution_count": 3,
   "id": "69f2b59c",
   "metadata": {},
   "outputs": [],
   "source": [
    "# FarmBeats Client definition\n",
    "credential = ClientSecretCredential(\n",
    "    tenant_id=\"e21b7e4f-4b6c-4ead-bb26-b615da83f381\",\n",
    "    client_id=\"640027d7-3e96-49fc-8ecf-775f47a1e7b8\",\n",
    "    client_secret=\"rC.NHz~YPJn_xKGMh-OTg3M4P2kn6EbI90\",\n",
    "    authority=\"https://login.windows-ppe.net\"\n",
    ")\n",
    "\n",
    "credential_scopes = [\"https://farmbeats-dogfood.azure.net/.default\"]\n",
    "\n",
    "fb_client = FarmBeatsClient(\n",
    "    base_url=\"https://agadhibjs-one.farmbeats-dogfood.azure.net\",\n",
    "    credential=credential,\n",
    "    credential_scopes=credential_scopes,\n",
    "    logging_enable=True\n",
    ")"
   ]
  },
  {
   "cell_type": "code",
   "execution_count": 4,
   "id": "8560b2a8",
   "metadata": {},
   "outputs": [],
   "source": [
    "RUN = 103\n",
    "NO_BOUNDARIES = 10"
   ]
  },
  {
   "cell_type": "markdown",
   "id": "cf2644fd",
   "metadata": {},
   "source": [
    "### Create Farmer"
   ]
  },
  {
   "cell_type": "code",
   "execution_count": 5,
   "id": "cd5b22b6",
   "metadata": {},
   "outputs": [
    {
     "name": "stdout",
     "output_type": "stream",
     "text": [
      "Farmer Exists\n"
     ]
    }
   ],
   "source": [
    "farmer_id = \"annam_farmer\"\n",
    "try:\n",
    "    farmer = fb_client.farmers.get(farmer_id=farmer_id)\n",
    "    if farmer is not None:\n",
    "        print(\"Farmer Exists\")\n",
    "    else:\n",
    "        print(\"Farmer doesn't exist...Creating one \", end=\"\", flush=True)\n",
    "        farmer = fb_client.farmers.create_or_update(\n",
    "            farmer_id=farmer_id,\n",
    "            farmer=Farmer()\n",
    "        )\n",
    "except Exception as e:\n",
    "    print(e)"
   ]
  },
  {
   "cell_type": "markdown",
   "id": "e45327ca",
   "metadata": {},
   "source": [
    "### Create Boundaries"
   ]
  },
  {
   "cell_type": "code",
   "execution_count": 6,
   "id": "e518eb70",
   "metadata": {},
   "outputs": [
    {
     "name": "stdout",
     "output_type": "stream",
     "text": [
      "Creating boundary with id boundary0103... Created\n",
      "Creating boundary with id boundary1103... Created\n",
      "Creating boundary with id boundary2103... Created\n",
      "Creating boundary with id boundary3103... Created\n",
      "Creating boundary with id boundary4103... Created\n",
      "Creating boundary with id boundary5103... Created\n",
      "Creating boundary with id boundary6103... Created\n",
      "Creating boundary with id boundary7103... Created\n",
      "Creating boundary with id boundary8103... Created\n",
      "Creating boundary with id boundary9103... Created\n"
     ]
    }
   ],
   "source": [
    "# Read 1000 farm geojsons from farms_1kmx1km.csv\n",
    "locations_df = pd.read_csv(\"farms_sample_1kmx1km.csv\")\n",
    "locations_df[\"farms1\"] = locations_df.farms.apply(json.loads)  # farm geojsons converted from string to list with numeric elements\n",
    "\n",
    "boundaries = []\n",
    "\n",
    "for i, item in enumerate(locations_df.farms1.values[:NO_BOUNDARIES]):\n",
    "    boundary_id=\"boundary\" + str(i) + str(RUN)\n",
    "    try:\n",
    "        boundary = fb_client.boundaries.get(\n",
    "            farmer_id=farmer_id,\n",
    "            boundary_id=boundary_id\n",
    "        )\n",
    "        if boundary is not None:\n",
    "            print(\"Exist\")\n",
    "        else:\n",
    "            print(f\"Creating boundary with id {boundary_id}... \", end=\"\")\n",
    "            boundary = fb_client.boundaries.create_or_update(\n",
    "                farmer_id=farmer_id,\n",
    "                boundary_id=boundary_id,\n",
    "                boundary=Boundary(\n",
    "                    description=\"Created by SDK\",\n",
    "                    geometry=Polygon(\n",
    "                        coordinates=[\n",
    "                        item\n",
    "                        ]\n",
    "                    )\n",
    "                )\n",
    "            )\n",
    "            print(\"Created\")\n",
    "    except Exception as e:\n",
    "        print(e)\n",
    "    boundaries.append(boundary)"
   ]
  },
  {
   "cell_type": "markdown",
   "id": "8250a3d5",
   "metadata": {},
   "source": [
    "###  Submit Satellite Jobs"
   ]
  },
  {
   "cell_type": "code",
   "execution_count": 7,
   "id": "7aaca4ac",
   "metadata": {},
   "outputs": [
    {
     "name": "stdout",
     "output_type": "stream",
     "text": [
      "Queuing satellite job... Submitted Satellite Job\n",
      "Queuing satellite job... Submitted Satellite Job\n",
      "Queuing satellite job... Submitted Satellite Job\n",
      "Queuing satellite job... Submitted Satellite Job\n",
      "Queuing satellite job... Submitted Satellite Job\n",
      "Queuing satellite job... Submitted Satellite Job\n",
      "Queuing satellite job... Submitted Satellite Job\n",
      "Queuing satellite job... Submitted Satellite Job\n",
      "Queuing satellite job... Submitted Satellite Job\n",
      "Queuing satellite job... Submitted Satellite Job\n"
     ]
    }
   ],
   "source": [
    "# Start and End data for Satellite and Weather data to be pulled\n",
    "start_dt = datetime.strptime(CONSTANTS[\"interp_date_start\"], \"%d-%m-%Y\")\n",
    "end_dt = datetime.strptime(CONSTANTS[\"interp_date_end\"], \"%d-%m-%Y\")\n",
    "\n",
    "satellite_jobs = []\n",
    "for i, boundary in enumerate(boundaries[:NO_BOUNDARIES]):\n",
    "    job_id = \"satellitejob\"+ str(i) + str(RUN)\n",
    "    \n",
    "    # Submit Satellite Job\n",
    "    try:\n",
    "        print(\"Queuing satellite job... \", end=\"\", flush=True)\n",
    "        satellite_job = fb_client.scenes.begin_create_satellite_data_ingestion_job(\n",
    "            job_id=job_id,\n",
    "            job=SatelliteIngestionJobRequest(\n",
    "                farmer_id=boundary.farmer_id,\n",
    "                boundary_id=boundary.id,\n",
    "                start_date_time=start_dt,\n",
    "                end_date_time=end_dt,\n",
    "            ),\n",
    "            polling=True\n",
    "        )\n",
    "        print(\"Submitted Satellite Job\")\n",
    "\n",
    "    except HttpResponseError as e:\n",
    "        print(e)\n",
    "        raise\n",
    "    satellite_jobs.append(satellite_job)"
   ]
  },
  {
   "cell_type": "markdown",
   "id": "37a2e960",
   "metadata": {},
   "source": [
    "### Check status of Satellite Jobs"
   ]
  },
  {
   "cell_type": "code",
   "execution_count": 8,
   "id": "cd9315c2",
   "metadata": {},
   "outputs": [
    {
     "name": "stdout",
     "output_type": "stream",
     "text": [
      "Waiting\n",
      "Waiting\n",
      "Waiting\n",
      "Waiting\n",
      "Waiting\n",
      "Waiting\n",
      "Waiting\n",
      "Waiting\n",
      "Waiting\n",
      "Waiting\n",
      "satellitejob0103\n",
      "Succeeded\n",
      "satellitejob1103\n",
      "Succeeded\n",
      "satellitejob2103\n",
      "Succeeded\n",
      "satellitejob3103\n",
      "Succeeded\n",
      "satellitejob4103\n",
      "Succeeded\n",
      "satellitejob5103\n",
      "Succeeded\n",
      "satellitejob6103\n",
      "Succeeded\n",
      "satellitejob7103\n",
      "Succeeded\n",
      "satellitejob8103\n",
      "Succeeded\n",
      "satellitejob9103\n",
      "Succeeded\n"
     ]
    }
   ],
   "source": [
    "for sat_job in satellite_jobs:\n",
    "    print(\"Waiting\")\n",
    "    sat_job.result()\n",
    "\n",
    "for sat_job in satellite_jobs:\n",
    "    print(sat_job.result().as_dict()['id'])\n",
    "    print(sat_job.status())\n",
    "    \n",
    "# TODO: Save job ids with Job request body to track failed jobs if any!"
   ]
  },
  {
   "cell_type": "markdown",
   "id": "cdc9184f",
   "metadata": {},
   "source": [
    "### Submit Weather Jobs"
   ]
  },
  {
   "cell_type": "code",
   "execution_count": 9,
   "id": "5c5b3677",
   "metadata": {},
   "outputs": [],
   "source": [
    "# Weather API inputs\n",
    "extension_id = \"dtn.clearAg\"\n",
    "extension_api_name = \"dailyhistorical\"\n",
    "extension_data_provider_api_key = farmbeats_config[\"weather_provider_key\"]\n",
    "extension_data_provider_app_id = farmbeats_config[\"weather_provider_id\"]\n"
   ]
  },
  {
   "cell_type": "code",
   "execution_count": 10,
   "id": "05d392e9",
   "metadata": {},
   "outputs": [
    {
     "name": "stdout",
     "output_type": "stream",
     "text": [
      "Queuing weather job... Submitted Weather Job\n",
      "Queuing weather job... Submitted Weather Job\n",
      "Queuing weather job... Submitted Weather Job\n",
      "Queuing weather job... Submitted Weather Job\n",
      "Queuing weather job... Submitted Weather Job\n",
      "Queuing weather job... Submitted Weather Job\n",
      "Queuing weather job... Submitted Weather Job\n",
      "Queuing weather job... Submitted Weather Job\n",
      "Queuing weather job... Submitted Weather Job\n",
      "Queuing weather job... Submitted Weather Job\n"
     ]
    }
   ],
   "source": [
    "weather_jobs = []\n",
    "for i, boundary in enumerate(boundaries[:NO_BOUNDARIES]):\n",
    "    job_id = \"weatherjob\"+ str(i) + str(RUN)\n",
    "    st_unix = int(start_dt.timestamp())\n",
    "    ed_unix = int(end_dt.timestamp())\n",
    "    \n",
    "    try:\n",
    "        print(\"Queuing weather job... \", end=\"\", flush=True)\n",
    "        weather_job = fb_client.weather.begin_create_data_ingestion_job(\n",
    "            job_id=job_id,\n",
    "            job=WeatherIngestionJobRequest(\n",
    "                farmer_id=boundary.farmer_id,\n",
    "                boundary_id=boundary.id,\n",
    "                extension_id= extension_id, \n",
    "                extension_api_name= extension_api_name, \n",
    "                extension_api_input= {\"start\": st_unix, \"end\": ed_unix},\n",
    "                extension_data_provider_api_key= extension_data_provider_api_key,\n",
    "                extension_data_provider_app_id=extension_data_provider_app_id\n",
    "            ),\n",
    "            polling=True\n",
    "        )\n",
    "        print(\"Submitted Weather Job\")\n",
    "    except HttpResponseError as e:\n",
    "        print(e)\n",
    "        raise\n",
    "    weather_jobs.append(weather_job)"
   ]
  },
  {
   "cell_type": "markdown",
   "id": "18fc6aa7",
   "metadata": {},
   "source": [
    "### Check status of Weather Jobs"
   ]
  },
  {
   "cell_type": "code",
   "execution_count": 11,
   "id": "3cf8e29c",
   "metadata": {},
   "outputs": [
    {
     "name": "stdout",
     "output_type": "stream",
     "text": [
      "Waiting\n",
      "Waiting\n",
      "Waiting\n",
      "Waiting\n",
      "Waiting\n",
      "Waiting\n",
      "Waiting\n",
      "Waiting\n",
      "Waiting\n",
      "Waiting\n",
      "weatherjob0103\n",
      "Succeeded\n",
      "weatherjob1103\n",
      "Succeeded\n",
      "weatherjob2103\n",
      "Succeeded\n",
      "weatherjob3103\n",
      "Succeeded\n",
      "weatherjob4103\n",
      "Succeeded\n",
      "weatherjob5103\n",
      "Succeeded\n",
      "weatherjob6103\n",
      "Succeeded\n",
      "weatherjob7103\n",
      "Succeeded\n",
      "weatherjob8103\n",
      "Succeeded\n",
      "weatherjob9103\n",
      "Succeeded\n"
     ]
    }
   ],
   "source": [
    "for wth_job in weather_jobs:\n",
    "    print(\"Waiting\")\n",
    "    wth_job.result()\n",
    "\n",
    "for wth_job in weather_jobs:\n",
    "    print(wth_job.result().as_dict()['id'])\n",
    "    print(wth_job.status())\n",
    "    \n",
    "# TODO: Save job ids with Job request body to track failed jobs if any!"
   ]
  },
  {
   "cell_type": "markdown",
   "id": "87f28019",
   "metadata": {},
   "source": [
    "### Download Satellite Data to Local"
   ]
  },
  {
   "cell_type": "code",
   "execution_count": 12,
   "id": "d76f56d5",
   "metadata": {},
   "outputs": [],
   "source": [
    "root_dir = \"C:\\\\farmbeats\\\\\""
   ]
  },
  {
   "cell_type": "code",
   "execution_count": 14,
   "id": "f9c258c6",
   "metadata": {},
   "outputs": [
    {
     "name": "stdout",
     "output_type": "stream",
     "text": [
      "Downloading image https://agadhibjs-one.farmbeats-dogfood.azure.net/scenes/downloadFiles?api-version=2021-03-31-preview&filePath=Microsoft%2fSentinel_2_L2A%2fannam_farmer%2fboundary0102%2f2019-12-29%2f00-00-00%2fndvi_10.tif... Downloading image https://agadhibjs-one.farmbeats-dogfood.azure.net/scenes/downloadFiles?api-version=2021-03-31-preview&filePath=Microsoft%2fSentinel_2_L2A%2fannam_farmer%2fboundary0102%2f2019-12-27%2f00-00-00%2fndvi_10.tif... Downloading image https://agadhibjs-one.farmbeats-dogfood.azure.net/scenes/downloadFiles?api-version=2021-03-31-preview&filePath=Microsoft%2fSentinel_2_L2A%2fannam_farmer%2fboundary0102%2f2019-12-24%2f00-00-00%2fndvi_10.tif... Downloading image https://agadhibjs-one.farmbeats-dogfood.azure.net/scenes/downloadFiles?api-version=2021-03-31-preview&filePath=Microsoft%2fSentinel_2_L2A%2fannam_farmer%2fboundary0102%2f2019-12-22%2f00-00-00%2fndvi_10.tif... Downloading image https://agadhibjs-one.farmbeats-dogfood.azure.net/scenes/downloadFiles?api-version=2021-03-31-preview&filePath=Microsoft%2fSentinel_2_L2A%2fannam_farmer%2fboundary0102%2f2019-12-19%2f00-00-00%2fndvi_10.tif... Downloading image https://agadhibjs-one.farmbeats-dogfood.azure.net/scenes/downloadFiles?api-version=2021-03-31-preview&filePath=Microsoft%2fSentinel_2_L2A%2fannam_farmer%2fboundary0102%2f2019-12-17%2f00-00-00%2fndvi_10.tif... Downloading image https://agadhibjs-one.farmbeats-dogfood.azure.net/scenes/downloadFiles?api-version=2021-03-31-preview&filePath=Microsoft%2fSentinel_2_L2A%2fannam_farmer%2fboundary0102%2f2019-12-14%2f00-00-00%2fndvi_10.tif... Downloading image https://agadhibjs-one.farmbeats-dogfood.azure.net/scenes/downloadFiles?api-version=2021-03-31-preview&filePath=Microsoft%2fSentinel_2_L2A%2fannam_farmer%2fboundary0102%2f2019-12-12%2f00-00-00%2fndvi_10.tif... Downloading image https://agadhibjs-one.farmbeats-dogfood.azure.net/scenes/downloadFiles?api-version=2021-03-31-preview&filePath=Microsoft%2fSentinel_2_L2A%2fannam_farmer%2fboundary0102%2f2019-12-09%2f00-00-00%2fndvi_10.tif... Downloading image https://agadhibjs-one.farmbeats-dogfood.azure.net/scenes/downloadFiles?api-version=2021-03-31-preview&filePath=Microsoft%2fSentinel_2_L2A%2fannam_farmer%2fboundary0102%2f2019-12-07%2f00-00-00%2fndvi_10.tif... Downloading image https://agadhibjs-one.farmbeats-dogfood.azure.net/scenes/downloadFiles?api-version=2021-03-31-preview&filePath=Microsoft%2fSentinel_2_L2A%2fannam_farmer%2fboundary0102%2f2019-12-04%2f00-00-00%2fndvi_10.tif... Downloading image https://agadhibjs-one.farmbeats-dogfood.azure.net/scenes/downloadFiles?api-version=2021-03-31-preview&filePath=Microsoft%2fSentinel_2_L2A%2fannam_farmer%2fboundary0102%2f2019-12-02%2f00-00-00%2fndvi_10.tif... Downloading image https://agadhibjs-one.farmbeats-dogfood.azure.net/scenes/downloadFiles?api-version=2021-03-31-preview&filePath=Microsoft%2fSentinel_2_L2A%2fannam_farmer%2fboundary0102%2f2019-11-29%2f00-00-00%2fndvi_10.tif... Downloading image https://agadhibjs-one.farmbeats-dogfood.azure.net/scenes/downloadFiles?api-version=2021-03-31-preview&filePath=Microsoft%2fSentinel_2_L2A%2fannam_farmer%2fboundary0102%2f2019-11-27%2f00-00-00%2fndvi_10.tif... Downloading image https://agadhibjs-one.farmbeats-dogfood.azure.net/scenes/downloadFiles?api-version=2021-03-31-preview&filePath=Microsoft%2fSentinel_2_L2A%2fannam_farmer%2fboundary0102%2f2019-11-24%2f00-00-00%2fndvi_10.tif... Downloading image https://agadhibjs-one.farmbeats-dogfood.azure.net/scenes/downloadFiles?api-version=2021-03-31-preview&filePath=Microsoft%2fSentinel_2_L2A%2fannam_farmer%2fboundary0102%2f2019-11-22%2f00-00-00%2fndvi_10.tif... Downloading image https://agadhibjs-one.farmbeats-dogfood.azure.net/scenes/downloadFiles?api-version=2021-03-31-preview&filePath=Microsoft%2fSentinel_2_L2A%2fannam_farmer%2fboundary0102%2f2019-11-19%2f00-00-00%2fndvi_10.tif... Downloading image https://agadhibjs-one.farmbeats-dogfood.azure.net/scenes/downloadFiles?api-version=2021-03-31-preview&filePath=Microsoft%2fSentinel_2_L2A%2fannam_farmer%2fboundary0102%2f2019-11-17%2f00-00-00%2fndvi_10.tif... Downloading image https://agadhibjs-one.farmbeats-dogfood.azure.net/scenes/downloadFiles?api-version=2021-03-31-preview&filePath=Microsoft%2fSentinel_2_L2A%2fannam_farmer%2fboundary0102%2f2019-11-14%2f00-00-00%2fndvi_10.tif... Downloading image https://agadhibjs-one.farmbeats-dogfood.azure.net/scenes/downloadFiles?api-version=2021-03-31-preview&filePath=Microsoft%2fSentinel_2_L2A%2fannam_farmer%2fboundary0102%2f2019-11-12%2f00-00-00%2fndvi_10.tif... Downloading image https://agadhibjs-one.farmbeats-dogfood.azure.net/scenes/downloadFiles?api-version=2021-03-31-preview&filePath=Microsoft%2fSentinel_2_L2A%2fannam_farmer%2fboundary0102%2f2019-11-09%2f00-00-00%2fndvi_10.tif... Downloading image https://agadhibjs-one.farmbeats-dogfood.azure.net/scenes/downloadFiles?api-version=2021-03-31-preview&filePath=Microsoft%2fSentinel_2_L2A%2fannam_farmer%2fboundary0102%2f2019-11-07%2f00-00-00%2fndvi_10.tif... Downloading image https://agadhibjs-one.farmbeats-dogfood.azure.net/scenes/downloadFiles?api-version=2021-03-31-preview&filePath=Microsoft%2fSentinel_2_L2A%2fannam_farmer%2fboundary0102%2f2019-11-04%2f00-00-00%2fndvi_10.tif... Downloading image https://agadhibjs-one.farmbeats-dogfood.azure.net/scenes/downloadFiles?api-version=2021-03-31-preview&filePath=Microsoft%2fSentinel_2_L2A%2fannam_farmer%2fboundary0102%2f2019-11-02%2f00-00-00%2fndvi_10.tif... Downloading image https://agadhibjs-one.farmbeats-dogfood.azure.net/scenes/downloadFiles?api-version=2021-03-31-preview&filePath=Microsoft%2fSentinel_2_L2A%2fannam_farmer%2fboundary0102%2f2019-10-30%2f00-00-00%2fndvi_10.tif... Downloading image https://agadhibjs-one.farmbeats-dogfood.azure.net/scenes/downloadFiles?api-version=2021-03-31-preview&filePath=Microsoft%2fSentinel_2_L2A%2fannam_farmer%2fboundary0102%2f2019-10-28%2f00-00-00%2fndvi_10.tif... Downloading image https://agadhibjs-one.farmbeats-dogfood.azure.net/scenes/downloadFiles?api-version=2021-03-31-preview&filePath=Microsoft%2fSentinel_2_L2A%2fannam_farmer%2fboundary0102%2f2019-10-25%2f00-00-00%2fndvi_10.tif... Downloading image https://agadhibjs-one.farmbeats-dogfood.azure.net/scenes/downloadFiles?api-version=2021-03-31-preview&filePath=Microsoft%2fSentinel_2_L2A%2fannam_farmer%2fboundary0102%2f2019-10-23%2f00-00-00%2fndvi_10.tif... Downloading image https://agadhibjs-one.farmbeats-dogfood.azure.net/scenes/downloadFiles?api-version=2021-03-31-preview&filePath=Microsoft%2fSentinel_2_L2A%2fannam_farmer%2fboundary0102%2f2019-10-20%2f00-00-00%2fndvi_10.tif... Downloading image https://agadhibjs-one.farmbeats-dogfood.azure.net/scenes/downloadFiles?api-version=2021-03-31-preview&filePath=Microsoft%2fSentinel_2_L2A%2fannam_farmer%2fboundary0102%2f2019-10-18%2f00-00-00%2fndvi_10.tif... Downloading image https://agadhibjs-one.farmbeats-dogfood.azure.net/scenes/downloadFiles?api-version=2021-03-31-preview&filePath=Microsoft%2fSentinel_2_L2A%2fannam_farmer%2fboundary0102%2f2019-10-15%2f00-00-00%2fndvi_10.tif... Downloading image https://agadhibjs-one.farmbeats-dogfood.azure.net/scenes/downloadFiles?api-version=2021-03-31-preview&filePath=Microsoft%2fSentinel_2_L2A%2fannam_farmer%2fboundary0102%2f2019-10-13%2f00-00-00%2fndvi_10.tif... Downloading image https://agadhibjs-one.farmbeats-dogfood.azure.net/scenes/downloadFiles?api-version=2021-03-31-preview&filePath=Microsoft%2fSentinel_2_L2A%2fannam_farmer%2fboundary0102%2f2019-10-10%2f00-00-00%2fndvi_10.tif... Downloading image https://agadhibjs-one.farmbeats-dogfood.azure.net/scenes/downloadFiles?api-version=2021-03-31-preview&filePath=Microsoft%2fSentinel_2_L2A%2fannam_farmer%2fboundary0102%2f2019-10-08%2f00-00-00%2fndvi_10.tif... Downloading image https://agadhibjs-one.farmbeats-dogfood.azure.net/scenes/downloadFiles?api-version=2021-03-31-preview&filePath=Microsoft%2fSentinel_2_L2A%2fannam_farmer%2fboundary0102%2f2019-10-05%2f00-00-00%2fndvi_10.tif... Downloading image https://agadhibjs-one.farmbeats-dogfood.azure.net/scenes/downloadFiles?api-version=2021-03-31-preview&filePath=Microsoft%2fSentinel_2_L2A%2fannam_farmer%2fboundary0102%2f2019-10-03%2f00-00-00%2fndvi_10.tif... Downloading image https://agadhibjs-one.farmbeats-dogfood.azure.net/scenes/downloadFiles?api-version=2021-03-31-preview&filePath=Microsoft%2fSentinel_2_L2A%2fannam_farmer%2fboundary0102%2f2019-09-30%2f00-00-00%2fndvi_10.tif... "
     ]
    },
    {
     "name": "stdout",
     "output_type": "stream",
     "text": [
      "Downloading image https://agadhibjs-one.farmbeats-dogfood.azure.net/scenes/downloadFiles?api-version=2021-03-31-preview&filePath=Microsoft%2fSentinel_2_L2A%2fannam_farmer%2fboundary0102%2f2019-09-28%2f00-00-00%2fndvi_10.tif... Downloading image https://agadhibjs-one.farmbeats-dogfood.azure.net/scenes/downloadFiles?api-version=2021-03-31-preview&filePath=Microsoft%2fSentinel_2_L2A%2fannam_farmer%2fboundary0102%2f2019-09-25%2f00-00-00%2fndvi_10.tif... Downloading image https://agadhibjs-one.farmbeats-dogfood.azure.net/scenes/downloadFiles?api-version=2021-03-31-preview&filePath=Microsoft%2fSentinel_2_L2A%2fannam_farmer%2fboundary0102%2f2019-09-20%2f00-00-00%2fndvi_10.tif... Downloading image https://agadhibjs-one.farmbeats-dogfood.azure.net/scenes/downloadFiles?api-version=2021-03-31-preview&filePath=Microsoft%2fSentinel_2_L2A%2fannam_farmer%2fboundary0102%2f2019-09-18%2f00-00-00%2fndvi_10.tif... Downloading image https://agadhibjs-one.farmbeats-dogfood.azure.net/scenes/downloadFiles?api-version=2021-03-31-preview&filePath=Microsoft%2fSentinel_2_L2A%2fannam_farmer%2fboundary0102%2f2019-09-15%2f00-00-00%2fndvi_10.tif... Downloading image https://agadhibjs-one.farmbeats-dogfood.azure.net/scenes/downloadFiles?api-version=2021-03-31-preview&filePath=Microsoft%2fSentinel_2_L2A%2fannam_farmer%2fboundary0102%2f2019-09-13%2f00-00-00%2fndvi_10.tif... Downloading image https://agadhibjs-one.farmbeats-dogfood.azure.net/scenes/downloadFiles?api-version=2021-03-31-preview&filePath=Microsoft%2fSentinel_2_L2A%2fannam_farmer%2fboundary0102%2f2019-09-10%2f00-00-00%2fndvi_10.tif... Downloading image https://agadhibjs-one.farmbeats-dogfood.azure.net/scenes/downloadFiles?api-version=2021-03-31-preview&filePath=Microsoft%2fSentinel_2_L2A%2fannam_farmer%2fboundary0102%2f2019-09-08%2f00-00-00%2fndvi_10.tif... Downloading image https://agadhibjs-one.farmbeats-dogfood.azure.net/scenes/downloadFiles?api-version=2021-03-31-preview&filePath=Microsoft%2fSentinel_2_L2A%2fannam_farmer%2fboundary0102%2f2019-09-05%2f00-00-00%2fndvi_10.tif... Downloading image https://agadhibjs-one.farmbeats-dogfood.azure.net/scenes/downloadFiles?api-version=2021-03-31-preview&filePath=Microsoft%2fSentinel_2_L2A%2fannam_farmer%2fboundary0102%2f2019-09-03%2f00-00-00%2fndvi_10.tif... Downloading image https://agadhibjs-one.farmbeats-dogfood.azure.net/scenes/downloadFiles?api-version=2021-03-31-preview&filePath=Microsoft%2fSentinel_2_L2A%2fannam_farmer%2fboundary0102%2f2019-08-31%2f00-00-00%2fndvi_10.tif... Downloading image https://agadhibjs-one.farmbeats-dogfood.azure.net/scenes/downloadFiles?api-version=2021-03-31-preview&filePath=Microsoft%2fSentinel_2_L2A%2fannam_farmer%2fboundary0102%2f2019-08-29%2f00-00-00%2fndvi_10.tif... Downloading image https://agadhibjs-one.farmbeats-dogfood.azure.net/scenes/downloadFiles?api-version=2021-03-31-preview&filePath=Microsoft%2fSentinel_2_L2A%2fannam_farmer%2fboundary0102%2f2019-08-26%2f00-00-00%2fndvi_10.tif... Downloading image https://agadhibjs-one.farmbeats-dogfood.azure.net/scenes/downloadFiles?api-version=2021-03-31-preview&filePath=Microsoft%2fSentinel_2_L2A%2fannam_farmer%2fboundary0102%2f2019-08-24%2f00-00-00%2fndvi_10.tif... Downloading image https://agadhibjs-one.farmbeats-dogfood.azure.net/scenes/downloadFiles?api-version=2021-03-31-preview&filePath=Microsoft%2fSentinel_2_L2A%2fannam_farmer%2fboundary0102%2f2019-08-21%2f00-00-00%2fndvi_10.tif... Downloading image https://agadhibjs-one.farmbeats-dogfood.azure.net/scenes/downloadFiles?api-version=2021-03-31-preview&filePath=Microsoft%2fSentinel_2_L2A%2fannam_farmer%2fboundary0102%2f2019-08-19%2f00-00-00%2fndvi_10.tif... Downloading image https://agadhibjs-one.farmbeats-dogfood.azure.net/scenes/downloadFiles?api-version=2021-03-31-preview&filePath=Microsoft%2fSentinel_2_L2A%2fannam_farmer%2fboundary0102%2f2019-08-16%2f00-00-00%2fndvi_10.tif... Downloading image https://agadhibjs-one.farmbeats-dogfood.azure.net/scenes/downloadFiles?api-version=2021-03-31-preview&filePath=Microsoft%2fSentinel_2_L2A%2fannam_farmer%2fboundary0102%2f2019-08-14%2f00-00-00%2fndvi_10.tif... Downloading image https://agadhibjs-one.farmbeats-dogfood.azure.net/scenes/downloadFiles?api-version=2021-03-31-preview&filePath=Microsoft%2fSentinel_2_L2A%2fannam_farmer%2fboundary0102%2f2019-08-11%2f00-00-00%2fndvi_10.tif... Downloading image https://agadhibjs-one.farmbeats-dogfood.azure.net/scenes/downloadFiles?api-version=2021-03-31-preview&filePath=Microsoft%2fSentinel_2_L2A%2fannam_farmer%2fboundary0102%2f2019-08-09%2f00-00-00%2fndvi_10.tif... Downloading image https://agadhibjs-one.farmbeats-dogfood.azure.net/scenes/downloadFiles?api-version=2021-03-31-preview&filePath=Microsoft%2fSentinel_2_L2A%2fannam_farmer%2fboundary0102%2f2019-08-06%2f00-00-00%2fndvi_10.tif... Downloading image https://agadhibjs-one.farmbeats-dogfood.azure.net/scenes/downloadFiles?api-version=2021-03-31-preview&filePath=Microsoft%2fSentinel_2_L2A%2fannam_farmer%2fboundary0102%2f2019-08-04%2f00-00-00%2fndvi_10.tif... Downloading image https://agadhibjs-one.farmbeats-dogfood.azure.net/scenes/downloadFiles?api-version=2021-03-31-preview&filePath=Microsoft%2fSentinel_2_L2A%2fannam_farmer%2fboundary0102%2f2019-08-01%2f00-00-00%2fndvi_10.tif... Downloading image https://agadhibjs-one.farmbeats-dogfood.azure.net/scenes/downloadFiles?api-version=2021-03-31-preview&filePath=Microsoft%2fSentinel_2_L2A%2fannam_farmer%2fboundary0102%2f2019-07-30%2f00-00-00%2fndvi_10.tif... Downloading image https://agadhibjs-one.farmbeats-dogfood.azure.net/scenes/downloadFiles?api-version=2021-03-31-preview&filePath=Microsoft%2fSentinel_2_L2A%2fannam_farmer%2fboundary0102%2f2019-07-27%2f00-00-00%2fndvi_10.tif... Downloading image https://agadhibjs-one.farmbeats-dogfood.azure.net/scenes/downloadFiles?api-version=2021-03-31-preview&filePath=Microsoft%2fSentinel_2_L2A%2fannam_farmer%2fboundary0102%2f2019-07-25%2f00-00-00%2fndvi_10.tif... Downloading image https://agadhibjs-one.farmbeats-dogfood.azure.net/scenes/downloadFiles?api-version=2021-03-31-preview&filePath=Microsoft%2fSentinel_2_L2A%2fannam_farmer%2fboundary0102%2f2019-07-22%2f00-00-00%2fndvi_10.tif... Downloading image https://agadhibjs-one.farmbeats-dogfood.azure.net/scenes/downloadFiles?api-version=2021-03-31-preview&filePath=Microsoft%2fSentinel_2_L2A%2fannam_farmer%2fboundary0102%2f2019-07-20%2f00-00-00%2fndvi_10.tif... Downloading image https://agadhibjs-one.farmbeats-dogfood.azure.net/scenes/downloadFiles?api-version=2021-03-31-preview&filePath=Microsoft%2fSentinel_2_L2A%2fannam_farmer%2fboundary0102%2f2019-07-17%2f00-00-00%2fndvi_10.tif... Downloading image https://agadhibjs-one.farmbeats-dogfood.azure.net/scenes/downloadFiles?api-version=2021-03-31-preview&filePath=Microsoft%2fSentinel_2_L2A%2fannam_farmer%2fboundary0102%2f2019-07-15%2f00-00-00%2fndvi_10.tif... Downloading image https://agadhibjs-one.farmbeats-dogfood.azure.net/scenes/downloadFiles?api-version=2021-03-31-preview&filePath=Microsoft%2fSentinel_2_L2A%2fannam_farmer%2fboundary0102%2f2019-07-12%2f00-00-00%2fndvi_10.tif... Downloading image https://agadhibjs-one.farmbeats-dogfood.azure.net/scenes/downloadFiles?api-version=2021-03-31-preview&filePath=Microsoft%2fSentinel_2_L2A%2fannam_farmer%2fboundary0102%2f2019-07-10%2f00-00-00%2fndvi_10.tif... Downloading image https://agadhibjs-one.farmbeats-dogfood.azure.net/scenes/downloadFiles?api-version=2021-03-31-preview&filePath=Microsoft%2fSentinel_2_L2A%2fannam_farmer%2fboundary0102%2f2019-07-07%2f00-00-00%2fndvi_10.tif... Downloading image https://agadhibjs-one.farmbeats-dogfood.azure.net/scenes/downloadFiles?api-version=2021-03-31-preview&filePath=Microsoft%2fSentinel_2_L2A%2fannam_farmer%2fboundary0102%2f2019-07-05%2f00-00-00%2fndvi_10.tif... Downloading image https://agadhibjs-one.farmbeats-dogfood.azure.net/scenes/downloadFiles?api-version=2021-03-31-preview&filePath=Microsoft%2fSentinel_2_L2A%2fannam_farmer%2fboundary0102%2f2019-07-02%2f00-00-00%2fndvi_10.tif... Downloading image https://agadhibjs-one.farmbeats-dogfood.azure.net/scenes/downloadFiles?api-version=2021-03-31-preview&filePath=Microsoft%2fSentinel_2_L2A%2fannam_farmer%2fboundary0102%2f2019-06-30%2f00-00-00%2fndvi_10.tif... Downloading image https://agadhibjs-one.farmbeats-dogfood.azure.net/scenes/downloadFiles?api-version=2021-03-31-preview&filePath=Microsoft%2fSentinel_2_L2A%2fannam_farmer%2fboundary0102%2f2019-06-27%2f00-00-00%2fndvi_10.tif... "
     ]
    },
    {
     "name": "stdout",
     "output_type": "stream",
     "text": [
      "Downloading image https://agadhibjs-one.farmbeats-dogfood.azure.net/scenes/downloadFiles?api-version=2021-03-31-preview&filePath=Microsoft%2fSentinel_2_L2A%2fannam_farmer%2fboundary0102%2f2019-06-25%2f00-00-00%2fndvi_10.tif... Downloading image https://agadhibjs-one.farmbeats-dogfood.azure.net/scenes/downloadFiles?api-version=2021-03-31-preview&filePath=Microsoft%2fSentinel_2_L2A%2fannam_farmer%2fboundary0102%2f2019-06-22%2f00-00-00%2fndvi_10.tif... Downloading image https://agadhibjs-one.farmbeats-dogfood.azure.net/scenes/downloadFiles?api-version=2021-03-31-preview&filePath=Microsoft%2fSentinel_2_L2A%2fannam_farmer%2fboundary0102%2f2019-06-20%2f00-00-00%2fndvi_10.tif... Downloading image https://agadhibjs-one.farmbeats-dogfood.azure.net/scenes/downloadFiles?api-version=2021-03-31-preview&filePath=Microsoft%2fSentinel_2_L2A%2fannam_farmer%2fboundary0102%2f2019-06-17%2f00-00-00%2fndvi_10.tif... Downloading image https://agadhibjs-one.farmbeats-dogfood.azure.net/scenes/downloadFiles?api-version=2021-03-31-preview&filePath=Microsoft%2fSentinel_2_L2A%2fannam_farmer%2fboundary0102%2f2019-06-15%2f00-00-00%2fndvi_10.tif... Downloading image https://agadhibjs-one.farmbeats-dogfood.azure.net/scenes/downloadFiles?api-version=2021-03-31-preview&filePath=Microsoft%2fSentinel_2_L2A%2fannam_farmer%2fboundary0102%2f2019-06-12%2f00-00-00%2fndvi_10.tif... Downloading image https://agadhibjs-one.farmbeats-dogfood.azure.net/scenes/downloadFiles?api-version=2021-03-31-preview&filePath=Microsoft%2fSentinel_2_L2A%2fannam_farmer%2fboundary0102%2f2019-06-10%2f00-00-00%2fndvi_10.tif... Downloading image https://agadhibjs-one.farmbeats-dogfood.azure.net/scenes/downloadFiles?api-version=2021-03-31-preview&filePath=Microsoft%2fSentinel_2_L2A%2fannam_farmer%2fboundary0102%2f2019-06-07%2f00-00-00%2fndvi_10.tif... Downloading image https://agadhibjs-one.farmbeats-dogfood.azure.net/scenes/downloadFiles?api-version=2021-03-31-preview&filePath=Microsoft%2fSentinel_2_L2A%2fannam_farmer%2fboundary0102%2f2019-06-05%2f00-00-00%2fndvi_10.tif... Downloading image https://agadhibjs-one.farmbeats-dogfood.azure.net/scenes/downloadFiles?api-version=2021-03-31-preview&filePath=Microsoft%2fSentinel_2_L2A%2fannam_farmer%2fboundary0102%2f2019-06-02%2f00-00-00%2fndvi_10.tif... Downloading image https://agadhibjs-one.farmbeats-dogfood.azure.net/scenes/downloadFiles?api-version=2021-03-31-preview&filePath=Microsoft%2fSentinel_2_L2A%2fannam_farmer%2fboundary0102%2f2019-05-31%2f00-00-00%2fndvi_10.tif... Downloading image https://agadhibjs-one.farmbeats-dogfood.azure.net/scenes/downloadFiles?api-version=2021-03-31-preview&filePath=Microsoft%2fSentinel_2_L2A%2fannam_farmer%2fboundary0102%2f2019-05-28%2f00-00-00%2fndvi_10.tif... Downloading image https://agadhibjs-one.farmbeats-dogfood.azure.net/scenes/downloadFiles?api-version=2021-03-31-preview&filePath=Microsoft%2fSentinel_2_L2A%2fannam_farmer%2fboundary0102%2f2019-05-26%2f00-00-00%2fndvi_10.tif... Downloading image https://agadhibjs-one.farmbeats-dogfood.azure.net/scenes/downloadFiles?api-version=2021-03-31-preview&filePath=Microsoft%2fSentinel_2_L2A%2fannam_farmer%2fboundary0102%2f2019-05-23%2f00-00-00%2fndvi_10.tif... Downloading image https://agadhibjs-one.farmbeats-dogfood.azure.net/scenes/downloadFiles?api-version=2021-03-31-preview&filePath=Microsoft%2fSentinel_2_L2A%2fannam_farmer%2fboundary0102%2f2019-05-21%2f00-00-00%2fndvi_10.tif... Downloading image https://agadhibjs-one.farmbeats-dogfood.azure.net/scenes/downloadFiles?api-version=2021-03-31-preview&filePath=Microsoft%2fSentinel_2_L2A%2fannam_farmer%2fboundary0102%2f2019-05-18%2f00-00-00%2fndvi_10.tif... Downloading image https://agadhibjs-one.farmbeats-dogfood.azure.net/scenes/downloadFiles?api-version=2021-03-31-preview&filePath=Microsoft%2fSentinel_2_L2A%2fannam_farmer%2fboundary0102%2f2019-05-16%2f00-00-00%2fndvi_10.tif... Downloading image https://agadhibjs-one.farmbeats-dogfood.azure.net/scenes/downloadFiles?api-version=2021-03-31-preview&filePath=Microsoft%2fSentinel_2_L2A%2fannam_farmer%2fboundary0102%2f2019-05-13%2f00-00-00%2fndvi_10.tif... Downloading image https://agadhibjs-one.farmbeats-dogfood.azure.net/scenes/downloadFiles?api-version=2021-03-31-preview&filePath=Microsoft%2fSentinel_2_L2A%2fannam_farmer%2fboundary0102%2f2019-05-11%2f00-00-00%2fndvi_10.tif... Downloading image https://agadhibjs-one.farmbeats-dogfood.azure.net/scenes/downloadFiles?api-version=2021-03-31-preview&filePath=Microsoft%2fSentinel_2_L2A%2fannam_farmer%2fboundary0102%2f2019-05-08%2f00-00-00%2fndvi_10.tif... Downloading image https://agadhibjs-one.farmbeats-dogfood.azure.net/scenes/downloadFiles?api-version=2021-03-31-preview&filePath=Microsoft%2fSentinel_2_L2A%2fannam_farmer%2fboundary0102%2f2019-05-06%2f00-00-00%2fndvi_10.tif... Downloading image https://agadhibjs-one.farmbeats-dogfood.azure.net/scenes/downloadFiles?api-version=2021-03-31-preview&filePath=Microsoft%2fSentinel_2_L2A%2fannam_farmer%2fboundary0102%2f2019-05-03%2f00-00-00%2fndvi_10.tif... Downloading image https://agadhibjs-one.farmbeats-dogfood.azure.net/scenes/downloadFiles?api-version=2021-03-31-preview&filePath=Microsoft%2fSentinel_2_L2A%2fannam_farmer%2fboundary0102%2f2019-05-01%2f00-00-00%2fndvi_10.tif... Downloading image https://agadhibjs-one.farmbeats-dogfood.azure.net/scenes/downloadFiles?api-version=2021-03-31-preview&filePath=Microsoft%2fSentinel_2_L2A%2fannam_farmer%2fboundary0102%2f2019-04-28%2f00-00-00%2fndvi_10.tif... Downloading image https://agadhibjs-one.farmbeats-dogfood.azure.net/scenes/downloadFiles?api-version=2021-03-31-preview&filePath=Microsoft%2fSentinel_2_L2A%2fannam_farmer%2fboundary0102%2f2019-04-26%2f00-00-00%2fndvi_10.tif... Downloading image https://agadhibjs-one.farmbeats-dogfood.azure.net/scenes/downloadFiles?api-version=2021-03-31-preview&filePath=Microsoft%2fSentinel_2_L2A%2fannam_farmer%2fboundary0102%2f2019-04-21%2f00-00-00%2fndvi_10.tif... Downloading image https://agadhibjs-one.farmbeats-dogfood.azure.net/scenes/downloadFiles?api-version=2021-03-31-preview&filePath=Microsoft%2fSentinel_2_L2A%2fannam_farmer%2fboundary0102%2f2019-04-18%2f00-00-00%2fndvi_10.tif... Downloading image https://agadhibjs-one.farmbeats-dogfood.azure.net/scenes/downloadFiles?api-version=2021-03-31-preview&filePath=Microsoft%2fSentinel_2_L2A%2fannam_farmer%2fboundary0102%2f2019-04-16%2f00-00-00%2fndvi_10.tif... Downloading image https://agadhibjs-one.farmbeats-dogfood.azure.net/scenes/downloadFiles?api-version=2021-03-31-preview&filePath=Microsoft%2fSentinel_2_L2A%2fannam_farmer%2fboundary0102%2f2019-04-13%2f00-00-00%2fndvi_10.tif... Downloading image https://agadhibjs-one.farmbeats-dogfood.azure.net/scenes/downloadFiles?api-version=2021-03-31-preview&filePath=Microsoft%2fSentinel_2_L2A%2fannam_farmer%2fboundary0102%2f2019-04-11%2f00-00-00%2fndvi_10.tif... Downloading image https://agadhibjs-one.farmbeats-dogfood.azure.net/scenes/downloadFiles?api-version=2021-03-31-preview&filePath=Microsoft%2fSentinel_2_L2A%2fannam_farmer%2fboundary0102%2f2019-04-08%2f00-00-00%2fndvi_10.tif... Downloading image https://agadhibjs-one.farmbeats-dogfood.azure.net/scenes/downloadFiles?api-version=2021-03-31-preview&filePath=Microsoft%2fSentinel_2_L2A%2fannam_farmer%2fboundary0102%2f2019-04-06%2f00-00-00%2fndvi_10.tif... Downloading image https://agadhibjs-one.farmbeats-dogfood.azure.net/scenes/downloadFiles?api-version=2021-03-31-preview&filePath=Microsoft%2fSentinel_2_L2A%2fannam_farmer%2fboundary0102%2f2019-04-03%2f00-00-00%2fndvi_10.tif... Downloading image https://agadhibjs-one.farmbeats-dogfood.azure.net/scenes/downloadFiles?api-version=2021-03-31-preview&filePath=Microsoft%2fSentinel_2_L2A%2fannam_farmer%2fboundary0102%2f2019-04-01%2f00-00-00%2fndvi_10.tif... Downloading image https://agadhibjs-one.farmbeats-dogfood.azure.net/scenes/downloadFiles?api-version=2021-03-31-preview&filePath=Microsoft%2fSentinel_2_L2A%2fannam_farmer%2fboundary0102%2f2019-03-29%2f00-00-00%2fndvi_10.tif... Downloading image https://agadhibjs-one.farmbeats-dogfood.azure.net/scenes/downloadFiles?api-version=2021-03-31-preview&filePath=Microsoft%2fSentinel_2_L2A%2fannam_farmer%2fboundary0102%2f2019-03-27%2f00-00-00%2fndvi_10.tif... Downloading image https://agadhibjs-one.farmbeats-dogfood.azure.net/scenes/downloadFiles?api-version=2021-03-31-preview&filePath=Microsoft%2fSentinel_2_L2A%2fannam_farmer%2fboundary0102%2f2019-03-24%2f00-00-00%2fndvi_10.tif... "
     ]
    },
    {
     "name": "stdout",
     "output_type": "stream",
     "text": [
      "Downloading image https://agadhibjs-one.farmbeats-dogfood.azure.net/scenes/downloadFiles?api-version=2021-03-31-preview&filePath=Microsoft%2fSentinel_2_L2A%2fannam_farmer%2fboundary0102%2f2019-03-22%2f00-00-00%2fndvi_10.tif... Downloading image https://agadhibjs-one.farmbeats-dogfood.azure.net/scenes/downloadFiles?api-version=2021-03-31-preview&filePath=Microsoft%2fSentinel_2_L2A%2fannam_farmer%2fboundary0102%2f2019-03-19%2f00-00-00%2fndvi_10.tif... Downloading image https://agadhibjs-one.farmbeats-dogfood.azure.net/scenes/downloadFiles?api-version=2021-03-31-preview&filePath=Microsoft%2fSentinel_2_L2A%2fannam_farmer%2fboundary0102%2f2019-03-17%2f00-00-00%2fndvi_10.tif... Downloading image https://agadhibjs-one.farmbeats-dogfood.azure.net/scenes/downloadFiles?api-version=2021-03-31-preview&filePath=Microsoft%2fSentinel_2_L2A%2fannam_farmer%2fboundary0102%2f2019-03-14%2f00-00-00%2fndvi_10.tif... Downloading image https://agadhibjs-one.farmbeats-dogfood.azure.net/scenes/downloadFiles?api-version=2021-03-31-preview&filePath=Microsoft%2fSentinel_2_L2A%2fannam_farmer%2fboundary0102%2f2019-03-12%2f00-00-00%2fndvi_10.tif... Downloading image https://agadhibjs-one.farmbeats-dogfood.azure.net/scenes/downloadFiles?api-version=2021-03-31-preview&filePath=Microsoft%2fSentinel_2_L2A%2fannam_farmer%2fboundary0102%2f2019-03-09%2f00-00-00%2fndvi_10.tif... Downloading image https://agadhibjs-one.farmbeats-dogfood.azure.net/scenes/downloadFiles?api-version=2021-03-31-preview&filePath=Microsoft%2fSentinel_2_L2A%2fannam_farmer%2fboundary0102%2f2019-03-07%2f00-00-00%2fndvi_10.tif... Downloading image https://agadhibjs-one.farmbeats-dogfood.azure.net/scenes/downloadFiles?api-version=2021-03-31-preview&filePath=Microsoft%2fSentinel_2_L2A%2fannam_farmer%2fboundary0102%2f2019-03-04%2f00-00-00%2fndvi_10.tif... Downloading image https://agadhibjs-one.farmbeats-dogfood.azure.net/scenes/downloadFiles?api-version=2021-03-31-preview&filePath=Microsoft%2fSentinel_2_L2A%2fannam_farmer%2fboundary0102%2f2019-03-02%2f00-00-00%2fndvi_10.tif... Downloading image https://agadhibjs-one.farmbeats-dogfood.azure.net/scenes/downloadFiles?api-version=2021-03-31-preview&filePath=Microsoft%2fSentinel_2_L2A%2fannam_farmer%2fboundary0102%2f2019-02-27%2f00-00-00%2fndvi_10.tif... Downloading image https://agadhibjs-one.farmbeats-dogfood.azure.net/scenes/downloadFiles?api-version=2021-03-31-preview&filePath=Microsoft%2fSentinel_2_L2A%2fannam_farmer%2fboundary0102%2f2019-02-25%2f00-00-00%2fndvi_10.tif... Downloading image https://agadhibjs-one.farmbeats-dogfood.azure.net/scenes/downloadFiles?api-version=2021-03-31-preview&filePath=Microsoft%2fSentinel_2_L2A%2fannam_farmer%2fboundary0102%2f2019-02-22%2f00-00-00%2fndvi_10.tif... Downloading image https://agadhibjs-one.farmbeats-dogfood.azure.net/scenes/downloadFiles?api-version=2021-03-31-preview&filePath=Microsoft%2fSentinel_2_L2A%2fannam_farmer%2fboundary0102%2f2019-02-20%2f00-00-00%2fndvi_10.tif... Downloading image https://agadhibjs-one.farmbeats-dogfood.azure.net/scenes/downloadFiles?api-version=2021-03-31-preview&filePath=Microsoft%2fSentinel_2_L2A%2fannam_farmer%2fboundary0102%2f2019-02-17%2f00-00-00%2fndvi_10.tif... Downloading image https://agadhibjs-one.farmbeats-dogfood.azure.net/scenes/downloadFiles?api-version=2021-03-31-preview&filePath=Microsoft%2fSentinel_2_L2A%2fannam_farmer%2fboundary0102%2f2019-02-15%2f00-00-00%2fndvi_10.tif... Downloading image https://agadhibjs-one.farmbeats-dogfood.azure.net/scenes/downloadFiles?api-version=2021-03-31-preview&filePath=Microsoft%2fSentinel_2_L2A%2fannam_farmer%2fboundary0102%2f2019-02-12%2f00-00-00%2fndvi_10.tif... Downloading image https://agadhibjs-one.farmbeats-dogfood.azure.net/scenes/downloadFiles?api-version=2021-03-31-preview&filePath=Microsoft%2fSentinel_2_L2A%2fannam_farmer%2fboundary0102%2f2019-02-10%2f00-00-00%2fndvi_10.tif... Downloading image https://agadhibjs-one.farmbeats-dogfood.azure.net/scenes/downloadFiles?api-version=2021-03-31-preview&filePath=Microsoft%2fSentinel_2_L2A%2fannam_farmer%2fboundary0102%2f2019-02-07%2f00-00-00%2fndvi_10.tif... Downloading image https://agadhibjs-one.farmbeats-dogfood.azure.net/scenes/downloadFiles?api-version=2021-03-31-preview&filePath=Microsoft%2fSentinel_2_L2A%2fannam_farmer%2fboundary0102%2f2019-02-05%2f00-00-00%2fndvi_10.tif... Downloading image https://agadhibjs-one.farmbeats-dogfood.azure.net/scenes/downloadFiles?api-version=2021-03-31-preview&filePath=Microsoft%2fSentinel_2_L2A%2fannam_farmer%2fboundary0102%2f2019-02-02%2f00-00-00%2fndvi_10.tif... Downloading image https://agadhibjs-one.farmbeats-dogfood.azure.net/scenes/downloadFiles?api-version=2021-03-31-preview&filePath=Microsoft%2fSentinel_2_L2A%2fannam_farmer%2fboundary0102%2f2019-01-31%2f00-00-00%2fndvi_10.tif... Downloading image https://agadhibjs-one.farmbeats-dogfood.azure.net/scenes/downloadFiles?api-version=2021-03-31-preview&filePath=Microsoft%2fSentinel_2_L2A%2fannam_farmer%2fboundary0102%2f2019-01-28%2f00-00-00%2fndvi_10.tif... Downloading image https://agadhibjs-one.farmbeats-dogfood.azure.net/scenes/downloadFiles?api-version=2021-03-31-preview&filePath=Microsoft%2fSentinel_2_L2A%2fannam_farmer%2fboundary0102%2f2019-01-26%2f00-00-00%2fndvi_10.tif... Downloading image https://agadhibjs-one.farmbeats-dogfood.azure.net/scenes/downloadFiles?api-version=2021-03-31-preview&filePath=Microsoft%2fSentinel_2_L2A%2fannam_farmer%2fboundary0102%2f2019-01-23%2f00-00-00%2fndvi_10.tif... Downloading image https://agadhibjs-one.farmbeats-dogfood.azure.net/scenes/downloadFiles?api-version=2021-03-31-preview&filePath=Microsoft%2fSentinel_2_L2A%2fannam_farmer%2fboundary0102%2f2019-01-21%2f00-00-00%2fndvi_10.tif... Downloading image https://agadhibjs-one.farmbeats-dogfood.azure.net/scenes/downloadFiles?api-version=2021-03-31-preview&filePath=Microsoft%2fSentinel_2_L2A%2fannam_farmer%2fboundary0102%2f2019-01-18%2f00-00-00%2fndvi_10.tif... Downloading image https://agadhibjs-one.farmbeats-dogfood.azure.net/scenes/downloadFiles?api-version=2021-03-31-preview&filePath=Microsoft%2fSentinel_2_L2A%2fannam_farmer%2fboundary0102%2f2019-01-16%2f00-00-00%2fndvi_10.tif... Downloading image https://agadhibjs-one.farmbeats-dogfood.azure.net/scenes/downloadFiles?api-version=2021-03-31-preview&filePath=Microsoft%2fSentinel_2_L2A%2fannam_farmer%2fboundary0102%2f2019-01-13%2f00-00-00%2fndvi_10.tif... Downloading image https://agadhibjs-one.farmbeats-dogfood.azure.net/scenes/downloadFiles?api-version=2021-03-31-preview&filePath=Microsoft%2fSentinel_2_L2A%2fannam_farmer%2fboundary0102%2f2019-01-11%2f00-00-00%2fndvi_10.tif... Downloading image https://agadhibjs-one.farmbeats-dogfood.azure.net/scenes/downloadFiles?api-version=2021-03-31-preview&filePath=Microsoft%2fSentinel_2_L2A%2fannam_farmer%2fboundary0102%2f2019-01-08%2f00-00-00%2fndvi_10.tif... Downloading image https://agadhibjs-one.farmbeats-dogfood.azure.net/scenes/downloadFiles?api-version=2021-03-31-preview&filePath=Microsoft%2fSentinel_2_L2A%2fannam_farmer%2fboundary0102%2f2019-01-06%2f00-00-00%2fndvi_10.tif... Downloading image https://agadhibjs-one.farmbeats-dogfood.azure.net/scenes/downloadFiles?api-version=2021-03-31-preview&filePath=Microsoft%2fSentinel_2_L2A%2fannam_farmer%2fboundary0102%2f2019-01-03%2f00-00-00%2fndvi_10.tif... Downloading image https://agadhibjs-one.farmbeats-dogfood.azure.net/scenes/downloadFiles?api-version=2021-03-31-preview&filePath=Microsoft%2fSentinel_2_L2A%2fannam_farmer%2fboundary0102%2f2019-01-01%2f00-00-00%2fndvi_10.tif... Downloading image https://agadhibjs-one.farmbeats-dogfood.azure.net/scenes/downloadFiles?api-version=2021-03-31-preview&filePath=Microsoft%2fSentinel_2_L2A%2fannam_farmer%2fboundary0102%2f2019-12-27%2f00-00-00%2fndvi_10.tif... "
     ]
    },
    {
     "name": "stderr",
     "output_type": "stream",
     "text": [
      "C:\\azure-farmbeats-samples\\evi_forecast\\utils\\satellite_util.py:175: SettingWithCopyWarning: \n",
      "A value is trying to be set on a copy of a slice from a DataFrame.\n",
      "Try using .loc[row_indexer,col_indexer] = value instead\n",
      "\n",
      "See the caveats in the documentation: https://pandas.pydata.org/pandas-docs/stable/user_guide/indexing.html#returning-a-view-versus-a-copy\n",
      "  ).name.transform(len)\n"
     ]
    },
    {
     "name": "stdout",
     "output_type": "stream",
     "text": [
      "Downloading image https://agadhibjs-one.farmbeats-dogfood.azure.net/scenes/downloadFiles?api-version=2021-03-31-preview&filePath=Microsoft%2fSentinel_2_L2A%2fannam_farmer%2fboundary0102%2f2019-12-17%2f00-00-00%2fndvi_10.tif... Downloading image https://agadhibjs-one.farmbeats-dogfood.azure.net/scenes/downloadFiles?api-version=2021-03-31-preview&filePath=Microsoft%2fSentinel_2_L2A%2fannam_farmer%2fboundary0102%2f2019-12-14%2f00-00-00%2fndvi_10.tif... Downloading image https://agadhibjs-one.farmbeats-dogfood.azure.net/scenes/downloadFiles?api-version=2021-03-31-preview&filePath=Microsoft%2fSentinel_2_L2A%2fannam_farmer%2fboundary0102%2f2019-12-09%2f00-00-00%2fndvi_10.tif... Downloading image https://agadhibjs-one.farmbeats-dogfood.azure.net/scenes/downloadFiles?api-version=2021-03-31-preview&filePath=Microsoft%2fSentinel_2_L2A%2fannam_farmer%2fboundary0102%2f2019-12-04%2f00-00-00%2fndvi_10.tif... Downloading image https://agadhibjs-one.farmbeats-dogfood.azure.net/scenes/downloadFiles?api-version=2021-03-31-preview&filePath=Microsoft%2fSentinel_2_L2A%2fannam_farmer%2fboundary0102%2f2019-11-22%2f00-00-00%2fndvi_10.tif... Downloading image https://agadhibjs-one.farmbeats-dogfood.azure.net/scenes/downloadFiles?api-version=2021-03-31-preview&filePath=Microsoft%2fSentinel_2_L2A%2fannam_farmer%2fboundary0102%2f2019-11-07%2f00-00-00%2fndvi_10.tif... Downloading image https://agadhibjs-one.farmbeats-dogfood.azure.net/scenes/downloadFiles?api-version=2021-03-31-preview&filePath=Microsoft%2fSentinel_2_L2A%2fannam_farmer%2fboundary0102%2f2019-10-28%2f00-00-00%2fndvi_10.tif... Downloading image https://agadhibjs-one.farmbeats-dogfood.azure.net/scenes/downloadFiles?api-version=2021-03-31-preview&filePath=Microsoft%2fSentinel_2_L2A%2fannam_farmer%2fboundary0102%2f2019-10-25%2f00-00-00%2fndvi_10.tif... Downloading image https://agadhibjs-one.farmbeats-dogfood.azure.net/scenes/downloadFiles?api-version=2021-03-31-preview&filePath=Microsoft%2fSentinel_2_L2A%2fannam_farmer%2fboundary0102%2f2019-10-18%2f00-00-00%2fndvi_10.tif... Downloading image https://agadhibjs-one.farmbeats-dogfood.azure.net/scenes/downloadFiles?api-version=2021-03-31-preview&filePath=Microsoft%2fSentinel_2_L2A%2fannam_farmer%2fboundary0102%2f2019-10-08%2f00-00-00%2fndvi_10.tif... Downloading image https://agadhibjs-one.farmbeats-dogfood.azure.net/scenes/downloadFiles?api-version=2021-03-31-preview&filePath=Microsoft%2fSentinel_2_L2A%2fannam_farmer%2fboundary0102%2f2019-09-28%2f00-00-00%2fndvi_10.tif... Downloading image https://agadhibjs-one.farmbeats-dogfood.azure.net/scenes/downloadFiles?api-version=2021-03-31-preview&filePath=Microsoft%2fSentinel_2_L2A%2fannam_farmer%2fboundary0102%2f2019-09-25%2f00-00-00%2fndvi_10.tif... Downloading image https://agadhibjs-one.farmbeats-dogfood.azure.net/scenes/downloadFiles?api-version=2021-03-31-preview&filePath=Microsoft%2fSentinel_2_L2A%2fannam_farmer%2fboundary0102%2f2019-09-20%2f00-00-00%2fndvi_10.tif... Downloading image https://agadhibjs-one.farmbeats-dogfood.azure.net/scenes/downloadFiles?api-version=2021-03-31-preview&filePath=Microsoft%2fSentinel_2_L2A%2fannam_farmer%2fboundary0102%2f2019-09-18%2f00-00-00%2fndvi_10.tif... Downloading image https://agadhibjs-one.farmbeats-dogfood.azure.net/scenes/downloadFiles?api-version=2021-03-31-preview&filePath=Microsoft%2fSentinel_2_L2A%2fannam_farmer%2fboundary0102%2f2019-09-15%2f00-00-00%2fndvi_10.tif... Downloading image https://agadhibjs-one.farmbeats-dogfood.azure.net/scenes/downloadFiles?api-version=2021-03-31-preview&filePath=Microsoft%2fSentinel_2_L2A%2fannam_farmer%2fboundary0102%2f2019-09-05%2f00-00-00%2fndvi_10.tif... Downloading image https://agadhibjs-one.farmbeats-dogfood.azure.net/scenes/downloadFiles?api-version=2021-03-31-preview&filePath=Microsoft%2fSentinel_2_L2A%2fannam_farmer%2fboundary0102%2f2019-08-31%2f00-00-00%2fndvi_10.tif... Downloading image https://agadhibjs-one.farmbeats-dogfood.azure.net/scenes/downloadFiles?api-version=2021-03-31-preview&filePath=Microsoft%2fSentinel_2_L2A%2fannam_farmer%2fboundary0102%2f2019-08-24%2f00-00-00%2fndvi_10.tif... Downloading image https://agadhibjs-one.farmbeats-dogfood.azure.net/scenes/downloadFiles?api-version=2021-03-31-preview&filePath=Microsoft%2fSentinel_2_L2A%2fannam_farmer%2fboundary0102%2f2019-08-21%2f00-00-00%2fndvi_10.tif... Downloading image https://agadhibjs-one.farmbeats-dogfood.azure.net/scenes/downloadFiles?api-version=2021-03-31-preview&filePath=Microsoft%2fSentinel_2_L2A%2fannam_farmer%2fboundary0102%2f2019-08-19%2f00-00-00%2fndvi_10.tif... Downloading image https://agadhibjs-one.farmbeats-dogfood.azure.net/scenes/downloadFiles?api-version=2021-03-31-preview&filePath=Microsoft%2fSentinel_2_L2A%2fannam_farmer%2fboundary0102%2f2019-08-16%2f00-00-00%2fndvi_10.tif... Downloading image https://agadhibjs-one.farmbeats-dogfood.azure.net/scenes/downloadFiles?api-version=2021-03-31-preview&filePath=Microsoft%2fSentinel_2_L2A%2fannam_farmer%2fboundary0102%2f2019-08-06%2f00-00-00%2fndvi_10.tif... Downloading image https://agadhibjs-one.farmbeats-dogfood.azure.net/scenes/downloadFiles?api-version=2021-03-31-preview&filePath=Microsoft%2fSentinel_2_L2A%2fannam_farmer%2fboundary0102%2f2019-08-01%2f00-00-00%2fndvi_10.tif... Downloading image https://agadhibjs-one.farmbeats-dogfood.azure.net/scenes/downloadFiles?api-version=2021-03-31-preview&filePath=Microsoft%2fSentinel_2_L2A%2fannam_farmer%2fboundary0102%2f2019-07-30%2f00-00-00%2fndvi_10.tif... Downloading image https://agadhibjs-one.farmbeats-dogfood.azure.net/scenes/downloadFiles?api-version=2021-03-31-preview&filePath=Microsoft%2fSentinel_2_L2A%2fannam_farmer%2fboundary0102%2f2019-07-22%2f00-00-00%2fndvi_10.tif... Downloading image https://agadhibjs-one.farmbeats-dogfood.azure.net/scenes/downloadFiles?api-version=2021-03-31-preview&filePath=Microsoft%2fSentinel_2_L2A%2fannam_farmer%2fboundary0102%2f2019-07-17%2f00-00-00%2fndvi_10.tif... Downloading image https://agadhibjs-one.farmbeats-dogfood.azure.net/scenes/downloadFiles?api-version=2021-03-31-preview&filePath=Microsoft%2fSentinel_2_L2A%2fannam_farmer%2fboundary0102%2f2019-07-15%2f00-00-00%2fndvi_10.tif... Downloading image https://agadhibjs-one.farmbeats-dogfood.azure.net/scenes/downloadFiles?api-version=2021-03-31-preview&filePath=Microsoft%2fSentinel_2_L2A%2fannam_farmer%2fboundary0102%2f2019-07-12%2f00-00-00%2fndvi_10.tif... Downloading image https://agadhibjs-one.farmbeats-dogfood.azure.net/scenes/downloadFiles?api-version=2021-03-31-preview&filePath=Microsoft%2fSentinel_2_L2A%2fannam_farmer%2fboundary0102%2f2019-07-07%2f00-00-00%2fndvi_10.tif... Downloading image https://agadhibjs-one.farmbeats-dogfood.azure.net/scenes/downloadFiles?api-version=2021-03-31-preview&filePath=Microsoft%2fSentinel_2_L2A%2fannam_farmer%2fboundary0102%2f2019-07-02%2f00-00-00%2fndvi_10.tif... Downloading image https://agadhibjs-one.farmbeats-dogfood.azure.net/scenes/downloadFiles?api-version=2021-03-31-preview&filePath=Microsoft%2fSentinel_2_L2A%2fannam_farmer%2fboundary0102%2f2019-06-12%2f00-00-00%2fndvi_10.tif... Downloading image https://agadhibjs-one.farmbeats-dogfood.azure.net/scenes/downloadFiles?api-version=2021-03-31-preview&filePath=Microsoft%2fSentinel_2_L2A%2fannam_farmer%2fboundary0102%2f2019-06-10%2f00-00-00%2fndvi_10.tif... Downloading image https://agadhibjs-one.farmbeats-dogfood.azure.net/scenes/downloadFiles?api-version=2021-03-31-preview&filePath=Microsoft%2fSentinel_2_L2A%2fannam_farmer%2fboundary0102%2f2019-06-07%2f00-00-00%2fndvi_10.tif... Downloading image https://agadhibjs-one.farmbeats-dogfood.azure.net/scenes/downloadFiles?api-version=2021-03-31-preview&filePath=Microsoft%2fSentinel_2_L2A%2fannam_farmer%2fboundary0102%2f2019-06-05%2f00-00-00%2fndvi_10.tif... Downloading image https://agadhibjs-one.farmbeats-dogfood.azure.net/scenes/downloadFiles?api-version=2021-03-31-preview&filePath=Microsoft%2fSentinel_2_L2A%2fannam_farmer%2fboundary0102%2f2019-06-02%2f00-00-00%2fndvi_10.tif... Downloading image https://agadhibjs-one.farmbeats-dogfood.azure.net/scenes/downloadFiles?api-version=2021-03-31-preview&filePath=Microsoft%2fSentinel_2_L2A%2fannam_farmer%2fboundary0102%2f2019-05-26%2f00-00-00%2fndvi_10.tif... Downloading image https://agadhibjs-one.farmbeats-dogfood.azure.net/scenes/downloadFiles?api-version=2021-03-31-preview&filePath=Microsoft%2fSentinel_2_L2A%2fannam_farmer%2fboundary0102%2f2019-05-13%2f00-00-00%2fndvi_10.tif... "
     ]
    },
    {
     "name": "stdout",
     "output_type": "stream",
     "text": [
      "Downloading image https://agadhibjs-one.farmbeats-dogfood.azure.net/scenes/downloadFiles?api-version=2021-03-31-preview&filePath=Microsoft%2fSentinel_2_L2A%2fannam_farmer%2fboundary0102%2f2019-04-26%2f00-00-00%2fndvi_10.tif... Downloading image https://agadhibjs-one.farmbeats-dogfood.azure.net/scenes/downloadFiles?api-version=2021-03-31-preview&filePath=Microsoft%2fSentinel_2_L2A%2fannam_farmer%2fboundary0102%2f2019-04-21%2f00-00-00%2fndvi_10.tif... Downloading image https://agadhibjs-one.farmbeats-dogfood.azure.net/scenes/downloadFiles?api-version=2021-03-31-preview&filePath=Microsoft%2fSentinel_2_L2A%2fannam_farmer%2fboundary0102%2f2019-04-16%2f00-00-00%2fndvi_10.tif... Downloading image https://agadhibjs-one.farmbeats-dogfood.azure.net/scenes/downloadFiles?api-version=2021-03-31-preview&filePath=Microsoft%2fSentinel_2_L2A%2fannam_farmer%2fboundary0102%2f2019-04-13%2f00-00-00%2fndvi_10.tif... Downloading image https://agadhibjs-one.farmbeats-dogfood.azure.net/scenes/downloadFiles?api-version=2021-03-31-preview&filePath=Microsoft%2fSentinel_2_L2A%2fannam_farmer%2fboundary0102%2f2019-04-03%2f00-00-00%2fndvi_10.tif... Downloading image https://agadhibjs-one.farmbeats-dogfood.azure.net/scenes/downloadFiles?api-version=2021-03-31-preview&filePath=Microsoft%2fSentinel_2_L2A%2fannam_farmer%2fboundary0102%2f2019-03-29%2f00-00-00%2fndvi_10.tif... Downloading image https://agadhibjs-one.farmbeats-dogfood.azure.net/scenes/downloadFiles?api-version=2021-03-31-preview&filePath=Microsoft%2fSentinel_2_L2A%2fannam_farmer%2fboundary0102%2f2019-03-27%2f00-00-00%2fndvi_10.tif... Downloading image https://agadhibjs-one.farmbeats-dogfood.azure.net/scenes/downloadFiles?api-version=2021-03-31-preview&filePath=Microsoft%2fSentinel_2_L2A%2fannam_farmer%2fboundary0102%2f2019-03-22%2f00-00-00%2fndvi_10.tif... Downloading image https://agadhibjs-one.farmbeats-dogfood.azure.net/scenes/downloadFiles?api-version=2021-03-31-preview&filePath=Microsoft%2fSentinel_2_L2A%2fannam_farmer%2fboundary0102%2f2019-03-19%2f00-00-00%2fndvi_10.tif... Downloading image https://agadhibjs-one.farmbeats-dogfood.azure.net/scenes/downloadFiles?api-version=2021-03-31-preview&filePath=Microsoft%2fSentinel_2_L2A%2fannam_farmer%2fboundary0102%2f2019-03-17%2f00-00-00%2fndvi_10.tif... Downloading image https://agadhibjs-one.farmbeats-dogfood.azure.net/scenes/downloadFiles?api-version=2021-03-31-preview&filePath=Microsoft%2fSentinel_2_L2A%2fannam_farmer%2fboundary0102%2f2019-03-07%2f00-00-00%2fndvi_10.tif... Downloading image https://agadhibjs-one.farmbeats-dogfood.azure.net/scenes/downloadFiles?api-version=2021-03-31-preview&filePath=Microsoft%2fSentinel_2_L2A%2fannam_farmer%2fboundary0102%2f2019-03-02%2f00-00-00%2fndvi_10.tif... Downloading image https://agadhibjs-one.farmbeats-dogfood.azure.net/scenes/downloadFiles?api-version=2021-03-31-preview&filePath=Microsoft%2fSentinel_2_L2A%2fannam_farmer%2fboundary0102%2f2019-02-27%2f00-00-00%2fndvi_10.tif... Downloading image https://agadhibjs-one.farmbeats-dogfood.azure.net/scenes/downloadFiles?api-version=2021-03-31-preview&filePath=Microsoft%2fSentinel_2_L2A%2fannam_farmer%2fboundary0102%2f2019-02-15%2f00-00-00%2fndvi_10.tif... Downloading image https://agadhibjs-one.farmbeats-dogfood.azure.net/scenes/downloadFiles?api-version=2021-03-31-preview&filePath=Microsoft%2fSentinel_2_L2A%2fannam_farmer%2fboundary0102%2f2019-02-12%2f00-00-00%2fndvi_10.tif... Downloading image https://agadhibjs-one.farmbeats-dogfood.azure.net/scenes/downloadFiles?api-version=2021-03-31-preview&filePath=Microsoft%2fSentinel_2_L2A%2fannam_farmer%2fboundary0102%2f2019-01-31%2f00-00-00%2fndvi_10.tif... Downloading image https://agadhibjs-one.farmbeats-dogfood.azure.net/scenes/downloadFiles?api-version=2021-03-31-preview&filePath=Microsoft%2fSentinel_2_L2A%2fannam_farmer%2fboundary0102%2f2019-01-26%2f00-00-00%2fndvi_10.tif... Downloading image https://agadhibjs-one.farmbeats-dogfood.azure.net/scenes/downloadFiles?api-version=2021-03-31-preview&filePath=Microsoft%2fSentinel_2_L2A%2fannam_farmer%2fboundary0102%2f2019-01-16%2f00-00-00%2fndvi_10.tif... Downloading image https://agadhibjs-one.farmbeats-dogfood.azure.net/scenes/downloadFiles?api-version=2021-03-31-preview&filePath=Microsoft%2fSentinel_2_L2A%2fannam_farmer%2fboundary0102%2f2019-01-11%2f00-00-00%2fndvi_10.tif... Downloading image https://agadhibjs-one.farmbeats-dogfood.azure.net/scenes/downloadFiles?api-version=2021-03-31-preview&filePath=Microsoft%2fSentinel_2_L2A%2fannam_farmer%2fboundary0102%2f2019-01-03%2f00-00-00%2fndvi_10.tif... "
     ]
    },
    {
     "name": "stderr",
     "output_type": "stream",
     "text": [
      "C:\\azure-farmbeats-samples\\evi_forecast\\utils\\satellite_util.py:179: SettingWithCopyWarning: \n",
      "A value is trying to be set on a copy of a slice from a DataFrame.\n",
      "Try using .loc[row_indexer,col_indexer] = value instead\n",
      "\n",
      "See the caveats in the documentation: https://pandas.pydata.org/pandas-docs/stable/user_guide/indexing.html#returning-a-view-versus-a-copy\n",
      "  for x in df_allscenes_band.fileLink.values\n"
     ]
    }
   ],
   "source": [
    "df = SatelliteUtil(farmbeats_client = fb_client).download_and_get_sat_file_paths(\"annam-farmer\", \"b\", \n",
    "                                                                              start_dt, \n",
    "                                                                              end_dt, \n",
    "                                                                              root_dir)\n",
    "df.to_csv(\"satellite_paths.csv\", index=None)"
   ]
  },
  {
   "cell_type": "markdown",
   "id": "96a4f31d",
   "metadata": {},
   "source": [
    "### Download Weather Data to Local"
   ]
  },
  {
   "cell_type": "code",
   "execution_count": 17,
   "id": "055c2370",
   "metadata": {},
   "outputs": [
    {
     "name": "stderr",
     "output_type": "stream",
     "text": [
      "C:\\azure-farmbeats-samples\\evi_forecast\\utils\\weather_util.py:26: FutureWarning: pandas.io.json.json_normalize is deprecated, use pandas.json_normalize instead\n",
      "  df_flat = pd.io.json.json_normalize([x.serialize() for x in weather_data])\n"
     ]
    }
   ],
   "source": [
    "for boundary in boundaries:\n",
    "    weather_list = fb_client.weather.list(\n",
    "            farmer_id=  boundary.farmer_id,\n",
    "            boundary_id= boundary.id,\n",
    "            extension_id=\"dtn.clearAg\", \n",
    "            weather_data_type= \"historical\", \n",
    "            granularity=\"daily\")\n",
    "\n",
    "    weather_data = []\n",
    "    for w_data in weather_list:\n",
    "        weather_data.append(w_data)\n",
    "\n",
    "    w_df = WeatherUtil.get_weather_data_df(weather_data)\n",
    "    w_df.to_csv(boundary.id + \"_weather_data.csv\", index=False)"
   ]
  }
 ],
 "metadata": {
  "kernel_info": {
   "name": "python3-azureml"
  },
  "kernelspec": {
   "display_name": "Python 3",
   "language": "python",
   "name": "python3"
  },
  "language_info": {
   "codemirror_mode": {
    "name": "ipython",
    "version": 3
   },
   "file_extension": ".py",
   "mimetype": "text/x-python",
   "name": "python",
   "nbconvert_exporter": "python",
   "pygments_lexer": "ipython3",
   "version": "3.6.9"
  },
  "nteract": {
   "version": "nteract-front-end@1.0.0"
  }
 },
 "nbformat": 4,
 "nbformat_minor": 5
}
