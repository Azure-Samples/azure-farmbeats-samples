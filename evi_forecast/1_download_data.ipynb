{
 "cells": [
  {
   "cell_type": "markdown",
   "id": "16dc6d7b",
   "metadata": {},
   "source": [
    "Copyright (c) Microsoft Corporation. All rights reserved.\n",
    "\n",
    "Licensed under the MIT License."
   ]
  },
  {
   "cell_type": "markdown",
   "id": "64e64069",
   "metadata": {},
   "source": [
    "# Azure FarmBeats: Satellite and Weather Data\n",
    "\n",
    "In this notebook, you learn the following things:\n",
    "\n",
    "> * Create a farmer\n",
    "> * Create boundaries\n",
    "> * How to submit satellite and weather (historical and forecast) jobs for boundaries\n",
    "> * Check the status of jobs\n",
    "> * Download satellite data to local compute\n",
    "> * Download weather data to local compute"
   ]
  },
  {
   "cell_type": "markdown",
   "id": "4617cabc",
   "metadata": {},
   "source": [
    "### Import libraies"
   ]
  },
  {
   "cell_type": "code",
   "execution_count": null,
   "id": "77e96676",
   "metadata": {},
   "outputs": [],
   "source": [
    "# Standard library imports\n",
    "import json\n",
    "import os\n",
    "import sys\n",
    "import uuid\n",
    "from datetime import datetime\n",
    "\n",
    "# Disable unnecessary logs \n",
    "import logging\n",
    "logging.disable(sys.maxsize)\n",
    "import warnings\n",
    "warnings.filterwarnings(\"ignore\")\n",
    "\n",
    "# Third party imports\n",
    "import pandas as pd\n",
    "\n",
    "# Local imports\n",
    "from utils.config import farmbeats_config\n",
    "from utils.constants import CONSTANTS\n",
    "from utils.io_utils import IOUtil\n",
    "from utils.satellite_util import SatelliteUtil\n",
    "from utils.weather_util import WeatherUtil\n",
    "\n",
    "# Azure imports\n",
    "from azure.core.exceptions import HttpResponseError\n",
    "from azure.identity import ClientSecretCredential\n",
    "\n",
    "# SDK imports\n",
    "from azure.farmbeats import FarmBeatsClient\n",
    "from azure.farmbeats.models import (Farmer, Boundary, Polygon,\n",
    "                                    SatelliteDataIngestionJob,\n",
    "                                    WeatherDataIngestionJob, \n",
    "                                    SatelliteData)"
   ]
  },
  {
   "cell_type": "markdown",
   "id": "da7f516f",
   "metadata": {},
   "source": [
    "### Farmbeats Configuration\n",
    "Please follow the instrucitons at \"{TODO: Add file link}\" to create Azue Farmbeats resource and generate client id, client secrets, etc.. These values needs to be added in config.py accordingly\n"
   ]
  },
  {
   "cell_type": "code",
   "execution_count": null,
   "id": "04951f0c",
   "metadata": {},
   "outputs": [],
   "source": [
    "# FarmBeats Client definition\n",
    "credential = ClientSecretCredential(\n",
    "    tenant_id=farmbeats_config['tenant_id'],\n",
    "    client_id=farmbeats_config['client_id'],\n",
    "    client_secret=farmbeats_config['client_secret'],\n",
    "    authority=farmbeats_config['authority']\n",
    ")\n",
    "\n",
    "credential_scopes = [farmbeats_config['default_scope']]\n",
    "\n",
    "fb_client = FarmBeatsClient(\n",
    "    base_url=farmbeats_config['instance_url'],\n",
    "    credential=credential,\n",
    "    credential_scopes=credential_scopes,\n",
    "    logging_enable=True\n",
    ")"
   ]
  },
  {
   "cell_type": "code",
   "execution_count": null,
   "id": "53ca2b9c",
   "metadata": {},
   "outputs": [],
   "source": [
    "RUN_ID = uuid.uuid1()  # This helps in creating unique job id everytime you run\n",
    "NO_BOUNDARIES = 10  # Defaults 10;\n",
    "root_dir = CONSTANTS['root_dir']  # Satellite data gets downloaded here"
   ]
  },
  {
   "cell_type": "markdown",
   "id": "49b6feb0",
   "metadata": {},
   "source": [
    "### Create Farmer\n",
    "\n",
    "Create a Farmer entity in Farmbeats system. You need to provide a farmer id as input"
   ]
  },
  {
   "cell_type": "code",
   "execution_count": null,
   "id": "22ee8727",
   "metadata": {},
   "outputs": [],
   "source": [
    "farmer_id = \"contoso_farmer\"\n",
    "try:\n",
    "    farmer = fb_client.farmers.get(farmer_id=farmer_id)\n",
    "    if farmer is not None:\n",
    "        print(\"Farmer {} Exists.\".format(farmer_id))\n",
    "    else:\n",
    "        print(\"Farmer doesn't exist...Creating ... \", end=\"\", flush=True)\n",
    "        farmer = fb_client.farmers.create_or_update(\n",
    "            farmer_id=farmer_id,\n",
    "            farmer=Farmer()\n",
    "        )\n",
    "except Exception as e:\n",
    "    print(e)"
   ]
  },
  {
   "cell_type": "markdown",
   "id": "90ff487f",
   "metadata": {},
   "source": [
    "### Create Boundaries\n",
    "\n",
    "Reads bounary geojson objects from a csv file and create boundary entity in Farmbeats ssytem per each geojson object. \n",
    "\n",
    "<b>Inputs:</b> Boundary geojson string, boundar id"
   ]
  },
  {
   "cell_type": "code",
   "execution_count": null,
   "id": "cc52eecb",
   "metadata": {},
   "outputs": [],
   "source": [
    "# farms_sample_1kmx1km.csv file contains farm boundaries curated from Crop Data Layer.\n",
    "# You can plug-in your own data file in the same format\n",
    "locations_df = pd.read_csv(os.path.join(\"data\",\"farms_sample_1kmx1km.csv\"))\n",
    "locations_df[\"farm_boundaries\"] = locations_df.farms.apply(json.loads)  # converted from string to list with numeric elements"
   ]
  },
  {
   "cell_type": "code",
   "execution_count": null,
   "id": "2e66cbd2",
   "metadata": {},
   "outputs": [],
   "source": [
    "boundaries = locations_df.farm_boundaries.values[:NO_BOUNDARIES]\n",
    "boundary_objs = []  # List of boundaru objects\n",
    "\n",
    "for i, boundary_polygon in enumerate(boundaries):\n",
    "    boundary_id = \"boundary\" + str(i)\n",
    "    try:\n",
    "        boundary = fb_client.boundaries.get(\n",
    "            farmer_id=farmer_id,\n",
    "            boundary_id=boundary_id\n",
    "        )\n",
    "        if boundary is not None:\n",
    "            print(f\"Boundary with id {boundary.id} Exist\", end=\"\\n\")\n",
    "        else:\n",
    "            print(f\"Creating boundary with id {boundary_id}... \", end=\"\")\n",
    "            boundary = fb_client.boundaries.create_or_update(\n",
    "                farmer_id=farmer_id,\n",
    "                boundary_id=boundary_id,\n",
    "                boundary=Boundary(\n",
    "                    description=\"Created by SDK\",\n",
    "                    geometry=Polygon(\n",
    "                        coordinates=[\n",
    "                            boundary_polygon\n",
    "                        ]\n",
    "                    )\n",
    "                )\n",
    "            )\n",
    "            print(\"Created\")\n",
    "    except Exception as e:\n",
    "        print(e)\n",
    "    boundary_objs.append(boundary)\n",
    "\n",
    "#TODO: If Boundary ID + Different geometry given, needs force delete existing and create new one with same ID "
   ]
  },
  {
   "cell_type": "markdown",
   "id": "570801f1",
   "metadata": {},
   "source": [
    "###  Submit Satellite Jobs\n",
    "Create a satellite job for a given set of boundaries using Azure Farmbeats satellite_data_ingestion_job and SatelliteIngestionJobRequest() methods. \n",
    "This return a pollable object for each satellite job. We can query this object to know the status of each job untill gets completed."
   ]
  },
  {
   "cell_type": "code",
   "execution_count": null,
   "id": "51409fe7",
   "metadata": {},
   "outputs": [],
   "source": [
    "# Start and End data for Satellite and Weather data to be pulled\n",
    "start_dt = datetime.strptime(CONSTANTS[\"interp_date_start\"], \"%d-%m-%Y\")\n",
    "end_dt = datetime.strptime(CONSTANTS[\"interp_date_end\"], \"%d-%m-%Y\")"
   ]
  },
  {
   "cell_type": "code",
   "execution_count": null,
   "id": "d9f06873",
   "metadata": {},
   "outputs": [],
   "source": [
    "satellite_jobs = []\n",
    "for i, boundary_obj in enumerate(boundary_objs):\n",
    "    job_id = \"satellitejob\"+ str(i) + str(RUN_ID)\n",
    "    \n",
    "    # Submit Satellite Job\n",
    "    try:\n",
    "        print(\"Queuing satellite job... \", end=\"\", flush=True)\n",
    "        satellite_job = fb_client.scenes.begin_create_satellite_data_ingestion_job(\n",
    "            job_id=job_id,\n",
    "            job=SatelliteDataIngestionJob(\n",
    "                farmer_id=boundary_obj.farmer_id,\n",
    "                boundary_id=boundary_obj.id,\n",
    "                start_date_time=start_dt,\n",
    "                end_date_time=end_dt,\n",
    "                data=SatelliteData(\n",
    "                    image_names=[\n",
    "                        # \"B01\",\n",
    "                        # \"B02\",\n",
    "                        # \"B03\",\n",
    "                        # \"B04\",\n",
    "                        \"NDVI\"\n",
    "                    ]\n",
    "                )\n",
    "            ),\n",
    "            polling=True\n",
    "        )\n",
    "        print(\"Submitted Satellite Job\")\n",
    "\n",
    "    except HttpResponseError as e:\n",
    "        print(e.response.body())\n",
    "        raise\n",
    "    satellite_jobs.append(satellite_job)"
   ]
  },
  {
   "cell_type": "markdown",
   "id": "e26364b1",
   "metadata": {},
   "source": [
    "### Check status of Satellite Jobs\n",
    "Now, wait for the satellie jobs to be completed. We can check the status of each job which results in <i> succeeded </i> or <i> failed </i> or <i> waiting </i>. Needs further investigation for failed jobs. "
   ]
  },
  {
   "cell_type": "code",
   "execution_count": null,
   "id": "e4d52710",
   "metadata": {},
   "outputs": [],
   "source": [
    "for sat_job in satellite_jobs:\n",
    "    print(\"Waiting\")\n",
    "    sat_job.result()\n",
    "\n",
    "for sat_job in satellite_jobs:\n",
    "    print(sat_job.result().as_dict()['id'])\n",
    "    print(sat_job.status())   \n",
    "# TODO: Save job ids with Job request body to track failed jobs if any!"
   ]
  },
  {
   "cell_type": "markdown",
   "id": "2fe40753",
   "metadata": {},
   "source": [
    "### Submit Weather (Historical) Jobs\n",
    "\n",
    "Similar to satellite job, submit weather job for each boundary using azure farmbeats weather.begin_create_data_ingestion_job() and WeatherIngestionJobRequest() methods. This returns the weather job objects for each boundary. \n",
    "\n",
    "This also require the details of weather data provider that you want to use. The details are specific to weather, but typically includes extension id, APP_KEY, APP_ID, etc."
   ]
  },
  {
   "cell_type": "code",
   "execution_count": null,
   "id": "12f209d6",
   "metadata": {},
   "outputs": [],
   "source": [
    "# Weather API inputs\n",
    "extension_id = farmbeats_config[\"weather_provider_extension_id\"]\n",
    "extension_data_provider_api_key = farmbeats_config[\"weather_provider_key\"]\n",
    "extension_data_provider_app_id = farmbeats_config[\"weather_provider_id\"]\n",
    "extension_api_name = \"dailyhistorical\""
   ]
  },
  {
   "cell_type": "code",
   "execution_count": null,
   "id": "e51b6771",
   "metadata": {},
   "outputs": [],
   "source": [
    "weather_jobs = []\n",
    "for i, boundary_obj in enumerate(boundary_objs):\n",
    "    job_id = \"w-historical\" + str(i) + str(RUN_ID)\n",
    "    st_unix = int(start_dt.timestamp())\n",
    "    ed_unix = int(end_dt.timestamp())\n",
    "    try:\n",
    "        print(\"Queuing weather job... \", end=\"\", flush=True)\n",
    "        weather_job = fb_client.weather.begin_create_data_ingestion_job(\n",
    "            job_id=job_id,\n",
    "            job=WeatherDataIngestionJob(\n",
    "                farmer_id=boundary_obj.farmer_id,\n",
    "                boundary_id=boundary_obj.id,\n",
    "                extension_id=extension_id, \n",
    "                extension_api_name=extension_api_name, \n",
    "                extension_api_input={\"start\": st_unix, \"end\": ed_unix},\n",
    "                extension_data_provider_api_key=extension_data_provider_api_key,\n",
    "                extension_data_provider_app_id=extension_data_provider_app_id\n",
    "            ),\n",
    "            polling=True\n",
    "        )\n",
    "        print(\"Submitted Weather Job\")\n",
    "    except HttpResponseError as e:\n",
    "        print(e.response.body())\n",
    "        raise\n",
    "    weather_jobs.append(weather_job)"
   ]
  },
  {
   "cell_type": "markdown",
   "id": "275adb63",
   "metadata": {},
   "source": [
    "### Check status of Weather (Historical) Jobs\n",
    "Wait for weather jobs to get completed. Log the weather job ids which have failed and can be investigated further. The failed jobs can be submitted again the same weather.begin_create_data_ingestion_job() method. "
   ]
  },
  {
   "cell_type": "code",
   "execution_count": null,
   "id": "88ec4c75",
   "metadata": {},
   "outputs": [],
   "source": [
    "for wth_job in weather_jobs:\n",
    "    print(\"Waiting\")\n",
    "    wth_job.result()\n",
    "\n",
    "for wth_job in weather_jobs:\n",
    "    print(wth_job.result().as_dict()['id'])\n",
    "    print(wth_job.status())\n",
    "    \n",
    "# TODO: Save job ids with Job request body to track failed jobs if any!"
   ]
  },
  {
   "cell_type": "markdown",
   "id": "f2fac610",
   "metadata": {},
   "source": [
    "### Submit Weather (forecast) jobs\n",
    "Similar to historical weather data, we need weather forecast data. Submit the jobs for each boundary using weather.begin_create_data_ingestion_job and provide extension_api_name as according to weather provider  (E.g., DTN ClearAg, the extension api name for forecast data is 'dailyforecast')"
   ]
  },
  {
   "cell_type": "code",
   "execution_count": null,
   "id": "fd18a3a8",
   "metadata": {},
   "outputs": [],
   "source": [
    "weather_forecast_jobs = []\n",
    "START = 0\n",
    "END = 10\n",
    "extension_api_name = \"dailyforecast\"\n",
    "for i, boundary_obj in enumerate(boundary_objs):\n",
    "    job_id = \"w-forecast\"+ str(i) + str(RUN_ID)\n",
    "    \n",
    "    try:\n",
    "        print(\"Queuing weather job... \", end=\"\", flush=True)\n",
    "        weather_job = fb_client.weather.begin_create_data_ingestion_job(\n",
    "            job_id=job_id,\n",
    "            job=WeatherDataIngestionJob(\n",
    "                farmer_id=boundary_obj.farmer_id,\n",
    "                boundary_id=boundary_obj.id,\n",
    "                extension_id=extension_id,\n",
    "                extension_api_name=extension_api_name,\n",
    "                extension_api_input={\"start\": START, \"end\": END},\n",
    "                extension_data_provider_api_key=extension_data_provider_api_key,\n",
    "                extension_data_provider_app_id=extension_data_provider_app_id\n",
    "            ),\n",
    "            polling=True\n",
    "        )\n",
    "        print(\"Submitted Weather Job\")\n",
    "    except HttpResponseError as e:\n",
    "        print(e.response.body())\n",
    "        raise\n",
    "    weather_forecast_jobs.append(weather_job)"
   ]
  },
  {
   "cell_type": "markdown",
   "id": "2c435853",
   "metadata": {},
   "source": [
    "### Check status of Weather (forecast) jobs"
   ]
  },
  {
   "cell_type": "code",
   "execution_count": null,
   "id": "841d013b",
   "metadata": {},
   "outputs": [],
   "source": [
    "for wth_job in weather_forecast_jobs:\n",
    "    print(\"Waiting\")\n",
    "    wth_job.result()\n",
    "\n",
    "for wth_job in weather_forecast_jobs:\n",
    "    print(wth_job.result().as_dict()['id'])\n",
    "    print(wth_job.status())\n",
    "    \n",
    "# TODO: Save job ids with Job request body to track failed jobs if any!"
   ]
  },
  {
   "cell_type": "markdown",
   "id": "8b16e707",
   "metadata": {},
   "source": [
    "### Download Satellite Data to Local\n",
    "\n",
    "Once the data has been ingested to Azure Farmbeats, it can be downloaded to you local compute or AML compute or Data Science VM.\n",
    "The data gets downloaded using scenes download method. This would dependent on network bandwidth of your compute."
   ]
  },
  {
   "cell_type": "code",
   "execution_count": null,
   "id": "97c06c4e",
   "metadata": {},
   "outputs": [],
   "source": [
    "df = SatelliteUtil(farmbeats_client=fb_client).download_and_get_sat_file_paths(farmer_id, boundary_objs,\n",
    "                                                                            start_dt,\n",
    "                                                                            end_dt,\n",
    "                                                                            root_dir)\n",
    "# Write output to result directory\n",
    "IOUtil.create_dir_safely(CONSTANTS[\"results_dir\"])\n",
    "df.to_csv(os.path.join(CONSTANTS[\"results_dir\"], \"satellite_paths.csv\"), index=None)"
   ]
  },
  {
   "cell_type": "markdown",
   "id": "7466b1d8",
   "metadata": {},
   "source": [
    "### Download Weather Data (Historical) to Local\n",
    "\n",
    "We query the weather data from Azure Farmbeats and the resposne is list of json object. This gets conveted into pandas dataframes (The typical data format for ML model inputs) and saved to your compute."
   ]
  },
  {
   "cell_type": "code",
   "execution_count": null,
   "id": "2edbbcc6",
   "metadata": {},
   "outputs": [],
   "source": [
    "for boundary_obj in boundary_objs:\n",
    "    weather_list = fb_client.weather.list(\n",
    "            farmer_id=boundary_obj.farmer_id,\n",
    "            boundary_id=boundary_obj.id,\n",
    "            extension_id=extension_id,\n",
    "            weather_data_type=\"historical\",\n",
    "            granularity=\"daily\")\n",
    "\n",
    "    weather_data = []\n",
    "    for w_data in weather_list:\n",
    "        weather_data.append(w_data)\n",
    "\n",
    "    w_hist_df = WeatherUtil.get_weather_data_df(weather_data)\n",
    "    w_hist_df.to_csv(os.path.join(root_dir, boundary_obj.id + \"_historical.csv\"), index=False)\n",
    "\n",
    "print('Downloaded weather (historical) data!!')"
   ]
  },
  {
   "cell_type": "markdown",
   "id": "fa544546",
   "metadata": {},
   "source": [
    "### Download Weather Data (Forecast) to Local"
   ]
  },
  {
   "cell_type": "code",
   "execution_count": null,
   "id": "f33aec73",
   "metadata": {},
   "outputs": [],
   "source": [
    "for boundary_obj in boundary_objs:\n",
    "    weather_list = fb_client.weather.list(\n",
    "            farmer_id=boundary_obj.farmer_id,\n",
    "            boundary_id=boundary_obj.id,\n",
    "            extension_id=extension_id, \n",
    "            weather_data_type=\"forecast\", \n",
    "            granularity=\"daily\")\n",
    "\n",
    "    weather_data = []\n",
    "    for w_data in weather_list:\n",
    "        weather_data.append(w_data)\n",
    "\n",
    "    w_frcst_df = WeatherUtil.get_weather_data_df(weather_data)\n",
    "    w_frcst_df.to_csv(os.path.join(root_dir, boundary_obj.id + \"_forecast.csv\"), index=False)\n",
    "\n",
    "print('Downloaded weather (forecast) data!!')"
   ]
  }
 ],
 "metadata": {
  "kernel_info": {
   "name": "python3-azureml"
  },
  "kernelspec": {
   "display_name": "Python 3",
   "language": "python",
   "name": "python3"
  },
  "language_info": {
   "codemirror_mode": {
    "name": "ipython",
    "version": 3
   },
   "file_extension": ".py",
   "mimetype": "text/x-python",
   "name": "python",
   "nbconvert_exporter": "python",
   "pygments_lexer": "ipython3",
   "version": "3.6.8"
  },
  "nteract": {
   "version": "nteract-front-end@1.0.0"
  }
 },
 "nbformat": 4,
 "nbformat_minor": 5
}