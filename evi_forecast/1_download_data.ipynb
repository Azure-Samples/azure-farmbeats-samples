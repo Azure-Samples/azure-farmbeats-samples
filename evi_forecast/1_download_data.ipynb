{
 "cells": [
  {
   "cell_type": "markdown",
   "id": "d1eb2272",
   "metadata": {},
   "source": [
    "# Data Download using Azure FarmBeats\n",
    "Download the required satellite and weather data using Azure FarmBeats PaaS."
   ]
  },
  {
   "cell_type": "markdown",
   "id": "d36359eb",
   "metadata": {},
   "source": [
    "### Import 3rd party libraies"
   ]
  },
  {
   "cell_type": "code",
   "execution_count": null,
   "id": "70115dbb",
   "metadata": {},
   "outputs": [],
   "source": [
    "# Disable unnecessary logs \n",
    "import sys\n",
    "import logging\n",
    "logging.disable(sys.maxsize)\n",
    "\n",
    "from datetime import datetime\n",
    "import json\n",
    "import numpy as np\n",
    "import os\n",
    "import pandas as pd\n",
    "import rasterio\n",
    "from azure.identity import ClientSecretCredential"
   ]
  },
  {
   "cell_type": "markdown",
   "id": "564c2d5e",
   "metadata": {},
   "source": [
    "### Import Farmbeats and Utilities"
   ]
  },
  {
   "cell_type": "code",
   "execution_count": null,
   "id": "9633c8e2",
   "metadata": {},
   "outputs": [],
   "source": [
    "from azure.farmbeats.models import Farmer, Boundary, Polygon, SatelliteIngestionJobRequest, WeatherIngestionJobRequest\n",
    "from azure.farmbeats import FarmBeatsClient\n",
    "\n",
    "from utils.config import farmbeats_config\n",
    "from utils.weather_util import WeatherUtil\n",
    "from utils.satellite_util import SatelliteUtil\n",
    "from utils.constants import CONSTANTS"
   ]
  },
  {
   "cell_type": "markdown",
   "id": "49896af5",
   "metadata": {},
   "source": [
    "### Farmbeats Configuration"
   ]
  },
  {
   "cell_type": "code",
   "execution_count": null,
   "id": "69f2b59c",
   "metadata": {},
   "outputs": [],
   "source": [
    "# FarmBeats Client definition\n",
    "credential = ClientSecretCredential(\n",
    "    tenant_id=farmbeats_config['tenant_id'],\n",
    "    client_id=farmbeats_config['client_id'],\n",
    "    client_secret=farmbeats_config['client_secret'],\n",
    "    authority=farmbeats_config['authority']\n",
    ")\n",
    "\n",
    "credential_scopes = [farmbeats_config['default_scope']]\n",
    "\n",
    "fb_client = FarmBeatsClient(\n",
    "    base_url=farmbeats_config['instance_url'],\n",
    "    credential=credential,\n",
    "    credential_scopes=credential_scopes,\n",
    "    logging_enable=True\n",
    ")"
   ]
  },
  {
   "cell_type": "code",
   "execution_count": null,
   "id": "8560b2a8",
   "metadata": {},
   "outputs": [],
   "source": [
    "RUN = 56\n",
    "NO_BOUNDARIES = 1\n",
    "root_dir = \"C:\\\\farmbeats\\\\\" # Satellite data gets downloaded here"
   ]
  },
  {
   "cell_type": "markdown",
   "id": "cf2644fd",
   "metadata": {},
   "source": [
    "### Create Farmer"
   ]
  },
  {
   "cell_type": "code",
   "execution_count": null,
   "id": "cd5b22b6",
   "metadata": {},
   "outputs": [],
   "source": [
    "farmer_id = \"annam_farmer\"\n",
    "try:\n",
    "    farmer = fb_client.farmers.get(farmer_id=farmer_id)\n",
    "    if farmer is not None:\n",
    "        print(\"Farmer Exists\")\n",
    "    else:\n",
    "        print(\"Farmer doesn't exist...Creating one \", end=\"\", flush=True)\n",
    "        farmer = fb_client.farmers.create_or_update(\n",
    "            farmer_id=farmer_id,\n",
    "            farmer=Farmer()\n",
    "        )\n",
    "except Exception as e:\n",
    "    print(e)"
   ]
  },
  {
   "cell_type": "markdown",
   "id": "e45327ca",
   "metadata": {},
   "source": [
    "### Create Boundaries"
   ]
  },
  {
   "cell_type": "code",
   "execution_count": null,
   "id": "e518eb70",
   "metadata": {},
   "outputs": [],
   "source": [
    "# Read 1000 farm geojsons from farms_1kmx1km.csv\n",
    "locations_df = pd.read_csv(\"farms_sample_1kmx1km.csv\")\n",
    "locations_df[\"farms1\"] = locations_df.farms.apply(json.loads)  # farm geojsons converted from string to list with numeric elements\n",
    "\n",
    "boundaries = []\n",
    "\n",
    "for i, item in enumerate(locations_df.farms1.values[:NO_BOUNDARIES]):\n",
    "    boundary_id=\"boundary\" + str(i) + str(RUN)\n",
    "    try:\n",
    "        boundary = fb_client.boundaries.get(\n",
    "            farmer_id=farmer_id,\n",
    "            boundary_id=boundary_id\n",
    "        )\n",
    "        if boundary is not None:\n",
    "            print(\"Exist\")\n",
    "        else:\n",
    "            print(f\"Creating boundary with id {boundary_id}... \", end=\"\")\n",
    "            boundary = fb_client.boundaries.create_or_update(\n",
    "                farmer_id=farmer_id,\n",
    "                boundary_id=boundary_id,\n",
    "                boundary=Boundary(\n",
    "                    description=\"Created by SDK\",\n",
    "                    geometry=Polygon(\n",
    "                        coordinates=[\n",
    "                        item\n",
    "                        ]\n",
    "                    )\n",
    "                )\n",
    "            )\n",
    "            print(\"Created\")\n",
    "    except Exception as e:\n",
    "        print(e)\n",
    "    boundaries.append(boundary)"
   ]
  },
  {
   "cell_type": "markdown",
   "id": "8250a3d5",
   "metadata": {},
   "source": [
    "###  Submit Satellite Jobs"
   ]
  },
  {
   "cell_type": "code",
   "execution_count": null,
   "id": "71abaf18",
   "metadata": {},
   "outputs": [],
   "source": [
    "# Start and End data for Satellite and Weather data to be pulled\n",
    "start_dt = datetime.strptime(CONSTANTS[\"interp_date_start\"], \"%d-%m-%Y\")\n",
    "end_dt = datetime.strptime(CONSTANTS[\"interp_date_end\"], \"%d-%m-%Y\")"
   ]
  },
  {
   "cell_type": "code",
   "execution_count": null,
   "id": "7aaca4ac",
   "metadata": {},
   "outputs": [],
   "source": [
    "satellite_jobs = []\n",
    "for i, boundary in enumerate(boundaries[:NO_BOUNDARIES]):\n",
    "    job_id = \"satellitejob\"+ str(i) + str(RUN)\n",
    "    \n",
    "    # Submit Satellite Job\n",
    "    try:\n",
    "        print(\"Queuing satellite job... \", end=\"\", flush=True)\n",
    "        satellite_job = fb_client.scenes.begin_create_satellite_data_ingestion_job(\n",
    "            job_id=job_id,\n",
    "            job=SatelliteIngestionJobRequest(\n",
    "                farmer_id=boundary.farmer_id,\n",
    "                boundary_id=boundary.id,\n",
    "                start_date_time=start_dt,\n",
    "                end_date_time=end_dt,\n",
    "            ),\n",
    "            polling=True\n",
    "        )\n",
    "        print(\"Submitted Satellite Job\")\n",
    "\n",
    "    except HttpResponseError as e:\n",
    "        print(e)\n",
    "        raise\n",
    "    satellite_jobs.append(satellite_job)"
   ]
  },
  {
   "cell_type": "markdown",
   "id": "37a2e960",
   "metadata": {},
   "source": [
    "### Check status of Satellite Jobs"
   ]
  },
  {
   "cell_type": "code",
   "execution_count": null,
   "id": "cd9315c2",
   "metadata": {},
   "outputs": [],
   "source": [
    "for sat_job in satellite_jobs:\n",
    "    print(\"Waiting\")\n",
    "    sat_job.result()\n",
    "\n",
    "for sat_job in satellite_jobs:\n",
    "    print(sat_job.result().as_dict()['id'])\n",
    "    print(sat_job.status())\n",
    "    \n",
    "# TODO: Save job ids with Job request body to track failed jobs if any!"
   ]
  },
  {
   "cell_type": "markdown",
   "id": "cdc9184f",
   "metadata": {},
   "source": [
    "### Submit Weather (Historical) Jobs"
   ]
  },
  {
   "cell_type": "code",
   "execution_count": null,
   "id": "5c5b3677",
   "metadata": {},
   "outputs": [],
   "source": [
    "# Weather API inputs\n",
    "extension_id = \"dtn.clearAg\"\n",
    "extension_api_name = \"dailyhistorical\"\n",
    "extension_data_provider_api_key = farmbeats_config[\"weather_provider_key\"]\n",
    "extension_data_provider_app_id = farmbeats_config[\"weather_provider_id\"]"
   ]
  },
  {
   "cell_type": "code",
   "execution_count": null,
   "id": "05d392e9",
   "metadata": {},
   "outputs": [],
   "source": [
    "weather_jobs = []\n",
    "for i, boundary in enumerate(boundaries[:NO_BOUNDARIES]):\n",
    "    job_id = \"weatherjob\"+ str(i) + str(RUN)\n",
    "    st_unix = int(start_dt.timestamp())\n",
    "    ed_unix = int(end_dt.timestamp())\n",
    "    \n",
    "    try:\n",
    "        print(\"Queuing weather job... \", end=\"\", flush=True)\n",
    "        weather_job = fb_client.weather.begin_create_data_ingestion_job(\n",
    "            job_id=job_id,\n",
    "            job=WeatherIngestionJobRequest(\n",
    "                farmer_id=boundary.farmer_id,\n",
    "                boundary_id=boundary.id,\n",
    "                extension_id= extension_id, \n",
    "                extension_api_name= extension_api_name, \n",
    "                extension_api_input= {\"start\": st_unix, \"end\": ed_unix},\n",
    "                extension_data_provider_api_key= extension_data_provider_api_key,\n",
    "                extension_data_provider_app_id=extension_data_provider_app_id\n",
    "            ),\n",
    "            polling=True\n",
    "        )\n",
    "        print(\"Submitted Weather Job\")\n",
    "    except HttpResponseError as e:\n",
    "        print(e)\n",
    "        raise\n",
    "    weather_jobs.append(weather_job)"
   ]
  },
  {
   "cell_type": "markdown",
   "id": "18fc6aa7",
   "metadata": {},
   "source": [
    "### Check status of Weather (Historical) Jobs"
   ]
  },
  {
   "cell_type": "code",
   "execution_count": null,
   "id": "3cf8e29c",
   "metadata": {},
   "outputs": [],
   "source": [
    "for wth_job in weather_jobs:\n",
    "    print(\"Waiting\")\n",
    "    wth_job.result()\n",
    "\n",
    "for wth_job in weather_jobs:\n",
    "    print(wth_job.result().as_dict()['id'])\n",
    "    print(wth_job.status())\n",
    "    \n",
    "# TODO: Save job ids with Job request body to track failed jobs if any!"
   ]
  },
  {
   "cell_type": "markdown",
   "id": "ea5d5662",
   "metadata": {},
   "source": [
    "### Submit Weather (forecast) jobs"
   ]
  },
  {
   "cell_type": "code",
   "execution_count": null,
   "id": "084fcda4",
   "metadata": {},
   "outputs": [],
   "source": [
    "from datetime import datetime, timedelta\n",
    "weather_forecast_jobs = []\n",
    "extension_api_name = \"dailyforecast\"\n",
    "for i, boundary in enumerate(boundaries[:NO_BOUNDARIES]):\n",
    "    job_id = \"weatherforecastjob\"+ str(i) + str(RUN)\n",
    "    \n",
    "    try:\n",
    "        print(\"Queuing weather job... \", end=\"\", flush=True)\n",
    "        weather_job = fb_client.weather.begin_create_data_ingestion_job(\n",
    "            job_id=job_id,\n",
    "            job=WeatherIngestionJobRequest(\n",
    "                farmer_id=boundary.farmer_id,\n",
    "                boundary_id=boundary.id,\n",
    "                extension_id= extension_id, \n",
    "                extension_api_name= extension_api_name, \n",
    "                extension_api_input= {\"start\": 0, \"end\": 10},\n",
    "                extension_data_provider_api_key= extension_data_provider_api_key,\n",
    "                extension_data_provider_app_id=extension_data_provider_app_id\n",
    "            ),\n",
    "            polling=True\n",
    "        )\n",
    "        print(\"Submitted Weather Job\")\n",
    "    except HttpResponseError as e:\n",
    "        print(e)\n",
    "        raise\n",
    "    weather_forecast_jobs.append(weather_job)"
   ]
  },
  {
   "cell_type": "code",
   "execution_count": null,
   "id": "b035d490",
   "metadata": {},
   "outputs": [],
   "source": [
    "for wth_job in weather_forecast_jobs:\n",
    "    print(\"Waiting\")\n",
    "    wth_job.result()\n",
    "\n",
    "for wth_job in weather_forecast_jobs:\n",
    "    print(wth_job.result().as_dict()['id'])\n",
    "    print(wth_job.status())\n",
    "    \n",
    "# TODO: Save job ids with Job request body to track failed jobs if any!"
   ]
  },
  {
   "cell_type": "markdown",
   "id": "87f28019",
   "metadata": {},
   "source": [
    "### Download Satellite Data to Local"
   ]
  },
  {
   "cell_type": "code",
   "execution_count": null,
   "id": "d76f56d5",
   "metadata": {},
   "outputs": [],
   "source": [
    "df = SatelliteUtil(farmbeats_client = fb_client).download_and_get_sat_file_paths(farmer_id, boundaries, \n",
    "                                                                              start_dt, \n",
    "                                                                              end_dt, \n",
    "                                                                              root_dir)\n",
    "df.to_csv(\"satellite_paths.csv\", index=None)"
   ]
  },
  {
   "cell_type": "markdown",
   "id": "96a4f31d",
   "metadata": {},
   "source": [
    "### Download Weather Data to Local"
   ]
  },
  {
   "cell_type": "code",
   "execution_count": null,
   "id": "055c2370",
   "metadata": {},
   "outputs": [],
   "source": [
    "for boundary in boundaries:\n",
    "    weather_list = fb_client.weather.list(\n",
    "            farmer_id=  boundary.farmer_id,\n",
    "            boundary_id= boundary.id,\n",
    "            extension_id=\"dtn.clearAg\", \n",
    "            weather_data_type= \"historical\", \n",
    "            granularity=\"daily\")\n",
    "\n",
    "    weather_data = []\n",
    "    for w_data in weather_list:\n",
    "        weather_data.append(w_data)\n",
    "\n",
    "    w_df = WeatherUtil.get_weather_data_df(weather_data)\n",
    "    w_df.to_csv(boundary.id + \"_historical.csv\", index=False)"
   ]
  },
  {
   "cell_type": "code",
   "execution_count": null,
   "id": "e955c2e5",
   "metadata": {},
   "outputs": [],
   "source": [
    "for boundary in boundaries:\n",
    "    weather_list = fb_client.weather.list(\n",
    "            farmer_id=  boundary.farmer_id,\n",
    "            boundary_id= boundary.id,\n",
    "            extension_id=\"dtn.clearAg\", \n",
    "            weather_data_type= \"forecast\", \n",
    "            granularity=\"daily\")\n",
    "\n",
    "    weather_data = []\n",
    "    for w_data in weather_list:\n",
    "        weather_data.append(w_data)\n",
    "\n",
    "    w_df = WeatherUtil.get_weather_data_df(weather_data)\n",
    "    w_df.to_csv(boundary.id + \"_forecast.csv\", index=False)"
   ]
  }
 ],
 "metadata": {
  "kernel_info": {
   "name": "python3-azureml"
  },
  "kernelspec": {
   "display_name": "Python 3",
   "language": "python",
   "name": "python3"
  },
  "language_info": {
   "codemirror_mode": {
    "name": "ipython",
    "version": 3
   },
   "file_extension": ".py",
   "mimetype": "text/x-python",
   "name": "python",
   "nbconvert_exporter": "python",
   "pygments_lexer": "ipython3",
   "version": "3.6.9"
  },
  "nteract": {
   "version": "nteract-front-end@1.0.0"
  }
 },
 "nbformat": 4,
 "nbformat_minor": 5
}
