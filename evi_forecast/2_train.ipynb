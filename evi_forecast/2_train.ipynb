{
 "cells": [
  {
   "cell_type": "markdown",
   "id": "98f6f319",
   "metadata": {},
   "source": [
    "# Data Download using Azure FarmBeats\n",
    "Download of required satellite and weather data using Azure FarmBeats PaaS."
   ]
  },
  {
   "cell_type": "code",
   "execution_count": null,
   "id": "backed-metropolitan",
   "metadata": {},
   "outputs": [],
   "source": [
    "import sys\n",
    "print(sys.executable)\n",
    "print (sys.version)\n",
    "\n",
    "!pip install --disable-pip-version-check --quiet azure_farmbeats-0.1.0-py3-none-any.whl\n",
    "!pip install --quiet geopandas\n",
    "!pip install --quiet rasterio\n",
    "!pip install --quiet pandas==1.0.3\n",
    "!pip install --quiet xarray"
   ]
  },
  {
   "cell_type": "code",
   "execution_count": null,
   "id": "furnished-patient",
   "metadata": {},
   "outputs": [],
   "source": [
    "# Check packages installed or not!\n",
    "import geopandas\n",
    "import rasterio\n",
    "from azure.farmbeats.models import Farmer\n",
    "import xarray"
   ]
  },
  {
   "cell_type": "markdown",
   "id": "f1b117d2",
   "metadata": {},
   "source": [
    "### Import 3rd party libraies"
   ]
  },
  {
   "cell_type": "code",
   "execution_count": null,
   "id": "cd68d62e",
   "metadata": {},
   "outputs": [],
   "source": [
    "# Disable unnecessary logs \n",
    "import logging\n",
    "logging.disable(sys.maxsize)\n",
    "\n",
    "from concurrent.futures import ThreadPoolExecutor\n",
    "from datetime import datetime\n",
    "import json\n",
    "import numpy as np\n",
    "import os\n",
    "import pandas as pd\n",
    "import rasterio"
   ]
  },
  {
   "cell_type": "markdown",
   "id": "c3b3bcfa",
   "metadata": {},
   "source": [
    "### Import Farmbeats and Utilities"
   ]
  },
  {
   "cell_type": "code",
   "execution_count": null,
   "id": "241c1d1c",
   "metadata": {},
   "outputs": [],
   "source": [
    "from azure.farmbeats.models import Farmer\n",
    "from utils.config import farmbeats_config\n",
    "\n",
    "from utils.weather_util import fetch_weather, get_weather\n",
    "from utils.satellite_util import (\n",
    "    satellite_job_request,\n",
    "    queue_sat_data,\n",
    "    get_sat_file_paths\n",
    ")\n",
    "\n",
    "from c_funcs.constants import CONSTANTS"
   ]
  },
  {
   "cell_type": "markdown",
   "id": "89268b2a",
   "metadata": {},
   "source": [
    "### Farmbeats Configuration"
   ]
  },
  {
   "cell_type": "code",
   "execution_count": null,
   "id": "41016fcb",
   "metadata": {},
   "outputs": [],
   "source": [
    "# FarmBeats Client definition\n",
    "FB_Client = call_farmbeats(config)\n",
    "\n",
    "# Start and End data for Satellite and Weather data to be pulled\n",
    "start_dt = datetime.strptime(CONSTANTS[\"interp_date_start\"], \"%d-%m-%Y\")\n",
    "end_dt = datetime.strptime(CONSTANTS[\"interp_date_end\"], \"%d-%m-%Y\")"
   ]
  },
  {
   "cell_type": "markdown",
   "id": "b3320cd5",
   "metadata": {},
   "source": [
    "### Read Farm Boundaries"
   ]
  },
  {
   "cell_type": "code",
   "execution_count": null,
   "id": "3eb03fae",
   "metadata": {},
   "outputs": [],
   "source": [
    "# Read 1000 farm geojsons from farms_1kmx1km.csv\n",
    "locations_df = pd.read_csv(CONSTANTS[\"farm_geojsons\"])\n",
    "locations_df[\"farms1\"] = locations_df.farms.apply(\n",
    "    json.loads\n",
    ")  # farm geojsons converted from string to list with numeric elements\n",
    "\n",
    "TOKEN = 5034\n",
    "NO_FARMS = 1"
   ]
  },
  {
   "cell_type": "code",
   "execution_count": null,
   "id": "05fd4734",
   "metadata": {},
   "outputs": [],
   "source": [
    "farmzip = zip(locations_df.farms1.values[:NO_FARMS], [str(TOKEN)])"
   ]
  },
  {
   "cell_type": "code",
   "execution_count": null,
   "id": "e3276e30",
   "metadata": {},
   "outputs": [],
   "source": [
    "'''\n",
    "# Farmer object creation if not yet created\n",
    "farmer = FB_Client.farmers.create(\n",
    "    farmer_id=farmer_details[\"farmer_id\"],\n",
    "    farmer=Farmer(\n",
    "        name=farmer_details[\"farmer_name\"]\n",
    "        + \"'s SDK Farmer \"\n",
    "        + str(farmer_details[\"TOKEN\"])\n",
    "    ),\n",
    ")\n",
    "'''"
   ]
  },
  {
   "cell_type": "code",
   "execution_count": null,
   "id": "cf683e7e",
   "metadata": {},
   "outputs": [],
   "source": [
    "def satellite_job_request_farmcode(farm_code, farm_geojson):\n",
    "    # function for satellite job request just using farm_code and geojson\n",
    "    # other information will be derived locally\n",
    "    try:\n",
    "        sjr = satellite_job_request(\n",
    "            FB_Client=FB_Client,\n",
    "            farm_geojson=np.array(farm_geojson),\n",
    "            farm_code=farm_code,\n",
    "            farm_id=farmer_details[\"farmer_name\"] + \"_sdk_farm_\" + farm_code,\n",
    "            field_id=farmer_details[\"farmer_name\"] + \"_sdk_field_\" + farm_code,\n",
    "            boundary_id=farmer_details[\"farmer_name\"] + \"_sdk_boundary_\" + farm_code,\n",
    "            farmer_id=farmer_details[\"farmer_id\"],\n",
    "            out_file=CONSTANTS[\"sat_job_ids\"],\n",
    "            farmer_name=farmer_details[\"farmer_name\"],\n",
    "            start_dt=start_dt,\n",
    "            end_dt=end_dt,\n",
    "        )\n",
    "    except Exception as e:\n",
    "        print(e.message)\n",
    "        return e\n",
    "    return sjr\n",
    "\n",
    "def get_weather_farmcode(farm_code):\n",
    "    # function for queueing weather job in FarmBeats using only farm_code\n",
    "    # other reuired information will be derived locally\n",
    "    gwf = get_weather(\n",
    "        FB_Client=FB_Client,\n",
    "        farmer_id=farmer_details[\"farmer_id\"],\n",
    "        field_id=farmer_details[\"farmer_name\"] + \"_sdk_field_\" + farm_code,\n",
    "        start_dt=start_dt,\n",
    "        end_dt=end_dt,\n",
    "        api_name=\"dailyhistorical\",\n",
    "        name=\"Downloading 1000 farms\",\n",
    "        config=config,\n",
    "    )\n",
    "    return gwf\n",
    "\n",
    "def fetch_weather_farmcode(farm_code):\n",
    "    fwf = fetch_weather(\n",
    "        FB_Client=FB_Client,\n",
    "        farmer_id=farmer_details[\"farmer_id\"],\n",
    "        field_id=farmer_details[\"farmer_name\"] + \"_sdk_field_\" + farm_code,\n",
    "        start_dt=start_dt,\n",
    "        end_dt=end_dt,\n",
    "        weather_data_type=\"historical\",\n",
    "        out_folder=CONSTANTS[\"weather_data_fldr\"],\n",
    "    )\n",
    "    return fwf"
   ]
  },
  {
   "cell_type": "markdown",
   "id": "f166bb0c",
   "metadata": {},
   "source": [
    "### Submit Satellite Jobs"
   ]
  },
  {
   "cell_type": "code",
   "execution_count": null,
   "id": "1b6a66c8",
   "metadata": {},
   "outputs": [],
   "source": [
    "# Create Satellite job for 1000 farms, the job ID will be saved in o_file\n",
    "with ThreadPoolExecutor(max_workers=100) as executor:\n",
    "    futures = [\n",
    "        executor.submit(satellite_job_request_farmcode, farm_code, farm_geojson)\n",
    "        for farm_geojson, farm_code in farmzip\n",
    "    ]"
   ]
  },
  {
   "cell_type": "code",
   "execution_count": null,
   "id": "36090f68",
   "metadata": {},
   "outputs": [],
   "source": [
    "# Get satellite job id and status\n",
    "futures[0].result().serialize()['id']"
   ]
  },
  {
   "cell_type": "markdown",
   "id": "5c9c0028",
   "metadata": {},
   "source": [
    "### Save satellite job ids"
   ]
  },
  {
   "cell_type": "code",
   "execution_count": null,
   "id": "202510ea",
   "metadata": {},
   "outputs": [],
   "source": [
    "df_sat_jobid = pd.read_csv(\n",
    "    CONSTANTS[\"sat_job_ids\"],\n",
    "    names=[\n",
    "        \"farm_code\",\n",
    "        \"polygon\",\n",
    "        \"id\",\n",
    "        \"farm_id\",\n",
    "        \"field_id\",\n",
    "        \"boundary_id\",\n",
    "        \"farmer_id\",\n",
    "    ],\n",
    ")"
   ]
  },
  {
   "cell_type": "code",
   "execution_count": null,
   "id": "sixth-cancellation",
   "metadata": {},
   "outputs": [],
   "source": [
    "df_sat_jobid.head(10)"
   ]
  },
  {
   "cell_type": "markdown",
   "id": "acc8881c",
   "metadata": {},
   "source": [
    "### Check Status of Satellite Jobs"
   ]
  },
  {
   "cell_type": "code",
   "execution_count": null,
   "id": "7e620b84",
   "metadata": {},
   "outputs": [],
   "source": [
    "# Wait for Satellite job and weather job untill get succeeded\n",
    "with ThreadPoolExecutor() as executor:\n",
    "    wait_funcs = [\n",
    "        lambda: FB_Client.jobs.wait_for_job(\n",
    "            job_id=futures[0].result().serialize()['id']\n",
    "        )\n",
    "    ]\n",
    "    futures = [executor.submit(func) for func in wait_funcs]\n",
    "\n",
    "# Check for Job status\n",
    "satellite_job_terminal_state = [f.result() for f in futures]"
   ]
  },
  {
   "cell_type": "markdown",
   "id": "624cf22e",
   "metadata": {},
   "source": [
    "### Submit Weather Jobs"
   ]
  },
  {
   "cell_type": "code",
   "execution_count": null,
   "id": "c8f89d8e",
   "metadata": {},
   "outputs": [],
   "source": [
    "# Start weather job for all Farms with Satellite data available\n",
    "with ThreadPoolExecutor(max_workers=10) as executor:\n",
    "    weathers = [\n",
    "        executor.submit(get_weather_farmcode, str(farm_code))\n",
    "        for farm_code in df_sat_jobid.farm_code.values\n",
    "    ]"
   ]
  },
  {
   "cell_type": "markdown",
   "id": "65c04a7a",
   "metadata": {},
   "source": [
    "### Check status of Weather Jobs"
   ]
  },
  {
   "cell_type": "code",
   "execution_count": null,
   "id": "73301c7e",
   "metadata": {},
   "outputs": [],
   "source": [
    "# Wait for Satellite job and weather job untill get succeeded\n",
    "with ThreadPoolExecutor() as executor:\n",
    "    wait_funcs = [\n",
    "        lambda: FB_Client.jobs.wait_for_job(\n",
    "            job_id=weathers[-1].result().serialize()['id']\n",
    "        )\n",
    "    ]\n",
    "    futures = [executor.submit(func) for func in wait_funcs]\n",
    "\n",
    "# Check for Job status\n",
    "satellite_job_terminal_state = [f.result() for f in futures]"
   ]
  },
  {
   "cell_type": "markdown",
   "id": "a8a677d9",
   "metadata": {},
   "source": [
    "### Download Satellite Data to Compute"
   ]
  },
  {
   "cell_type": "code",
   "execution_count": null,
   "id": "466bd94c",
   "metadata": {},
   "outputs": [],
   "source": [
    "\"\"\"\n",
    "Download of Satellite Data and weather data from FarmBeats\n",
    "\"\"\"\n",
    "# make sure that download job has been completed\n",
    "\n",
    "try:\n",
    "    df_ndvi = get_sat_file_paths(\n",
    "        FB_Client=FB_Client,\n",
    "        boundary_ids=[df_sat_jobid.boundary_id.values[-1]],\n",
    "        farmer_id=farmer_details[\"farmer_id\"],\n",
    "        start_dt=start_dt,\n",
    "        end_dt=end_dt,\n",
    "        band_name=CONSTANTS[\"var_name\"].upper()\n",
    "    )\n",
    "except Exception as e:\n",
    "    print(e.response.body())\n",
    "\n",
    "df_ndvi.to_csv(CONSTANTS[\"sat_file_paths\"])  # save NDVI file locations to csv"
   ]
  },
  {
   "cell_type": "markdown",
   "id": "e8de1dac",
   "metadata": {},
   "source": [
    "### Download Weather Data to Compute"
   ]
  },
  {
   "cell_type": "code",
   "execution_count": null,
   "id": "d3af3522",
   "metadata": {},
   "outputs": [],
   "source": [
    "# Fetch weather data for Farms which has complete job from get_weather. The data will be saved to CSV file in weather_fldr with name fieldid.csv\n",
    "with ThreadPoolExecutor(max_workers=100) as executor:\n",
    "    weathers_fetch = [\n",
    "        executor.submit(fetch_weather_farmcode, str(frmcd))\n",
    "        for frmcd in df_sat_jobid.farm_code.values\n",
    "    ]"
   ]
  },
  {
   "cell_type": "code",
   "execution_count": null,
   "id": "informative-microwave",
   "metadata": {},
   "outputs": [],
   "source": [
    "try:  \n",
    "    scenes = FB_Client.scenes.get_all(\n",
    "        farmer_id=farmer_details[\"farmer_id\"],\n",
    "        boundary_id=\"dimattap_sdk_boundary_\"+str(TOKEN),\n",
    "        start_date=start_dt,\n",
    "        end_date=end_dt,\n",
    "    )\n",
    "except Exception as e:\n",
    "    print(e.response.body())\n",
    "    \n",
    "print(\"Total Scenes Downloaded:\", len(scenes))\n",
    "\n",
    "weather_data = FB_Client.weatherdata.get_weather_data(\n",
    "    farmer_id=farmer_details[\"farmer_id\"],\n",
    "    field_id=\"dimattap_sdk_field_\" + str(TOKEN),\n",
    "    start_date_time=start_dt,\n",
    "    end_date_time=end_dt,\n",
    "    extension_id=\"DTN.ClearAg\",\n",
    "    weather_data_type=\"historical\",\n",
    "    granularity=\"daily\",\n",
    ")\n",
    "\n",
    "print(\"Total Weather points Downloaded:\", len(weather_data))"
   ]
  },
  {
   "cell_type": "markdown",
   "id": "6ea66caf",
   "metadata": {},
   "source": [
    "### Visualize Band Files"
   ]
  },
  {
   "cell_type": "code",
   "execution_count": null,
   "id": "artistic-rover",
   "metadata": {},
   "outputs": [],
   "source": [
    "filepaths= df_ndvi.filePath.values[:2]\n",
    "print(filepaths)"
   ]
  },
  {
   "cell_type": "code",
   "execution_count": null,
   "id": "australian-romantic",
   "metadata": {},
   "outputs": [],
   "source": [
    "from rasterio.plot import show\n",
    "from rasterio.plot import show_hist\n",
    "import matplotlib.pyplot as plt\n",
    "\n",
    "with rasterio.open(filepaths[0]) as src:\n",
    "    nir = src.read(1)\n",
    "\n",
    "plt.imshow(nir)\n",
    "plt.colorbar()\n",
    "plt.title('NDVI')\n",
    "plt.xlabel('Column #')\n",
    "plt.ylabel('Row #')"
   ]
  },
  {
   "cell_type": "code",
   "execution_count": null,
   "id": "1456f932",
   "metadata": {},
   "outputs": [],
   "source": [
    "nir.shape"
   ]
  }
 ],
 "metadata": {
  "kernel_info": {
   "name": "python3-azureml"
  },
  "kernelspec": {
   "display_name": "Python 3",
   "language": "python",
   "name": "python3"
  },
  "language_info": {
   "codemirror_mode": {
    "name": "ipython",
    "version": 3
   },
   "file_extension": ".py",
   "mimetype": "text/x-python",
   "name": "python",
   "nbconvert_exporter": "python",
   "pygments_lexer": "ipython3",
   "version": "3.6.9"
  },
  "nteract": {
   "version": "nteract-front-end@1.0.0"
  }
 },
 "nbformat": 4,
 "nbformat_minor": 5
}
