{
  "cells": [
    {
      "cell_type": "markdown",
      "metadata": {},
      "source": [
        "Copyright (c) Microsoft Corporation. All rights reserved.\n",
        "\n",
        "Licensed under the MIT License."
      ]
    },
    {
      "cell_type": "markdown",
      "metadata": {},
      "source": [
        "# Train EVI Forecast Model\r\n",
        "In this notebook, EVI forecast model is built using satellite and weather (historical and forecast) data on dataset (curated locations spread across USA from Crop Data Layer), which predicts EVI for next 10 days in advance for an Area of Interest (AOI). This notebook runs on the data downloaded from 1_download_data.ipynb notebook. "
      ]
    },
    {
      "cell_type": "markdown",
      "metadata": {},
      "source": [
        "### Import Libraries"
      ]
    },
    {
      "cell_type": "code",
      "execution_count": 2,
      "metadata": {
        "gather": {
          "logged": 1619777569557
        }
      },
      "outputs": [],
      "source": [
        "# Standard library imports\n",
        "import os\n",
        "import pickle\n",
        "import sys\n",
        "from datetime import datetime\n",
        "\n",
        "# Third party imports\n",
        "import matplotlib.pyplot as plt\n",
        "import numpy as np\n",
        "import pandas as pd\n",
        "import tensorflow as tf\n",
        "from tensorflow import keras\n",
        "\n",
        "# Disable unnecessary logs \n",
        "import logging\n",
        "logging.disable(sys.maxsize)\n",
        "import warnings\n",
        "warnings.filterwarnings(\"ignore\")\n",
        "\n",
        "# Local  imports\n",
        "from utils.config import farmbeats_config\n",
        "from utils.constants import CONSTANTS\n",
        "from utils.ard_util import ard_preprocess\n",
        "from utils.satellite_util import SatelliteUtil\n",
        "from utils.weather_util import WeatherUtil"
      ]
    },
    {
      "cell_type": "markdown",
      "metadata": {},
      "source": [
        "### Get Satellite and Weatther Data"
      ]
    },
    {
      "cell_type": "code",
      "execution_count": 3,
      "metadata": {
        "gather": {
          "logged": 1619777570641
        }
      },
      "outputs": [],
      "source": [
        "root_dir = CONSTANTS['root_dir']"
      ]
    },
    {
      "cell_type": "markdown",
      "metadata": {},
      "source": [
        "#### Load satellite data  local paths"
      ]
    },
    {
      "cell_type": "code",
      "execution_count": 7,
      "metadata": {
        "gather": {
          "logged": 1619777571933
        }
      },
      "outputs": [
        {
          "data": {
            "text/html": "<div>\n<style scoped>\n    .dataframe tbody tr th:only-of-type {\n        vertical-align: middle;\n    }\n\n    .dataframe tbody tr th {\n        vertical-align: top;\n    }\n\n    .dataframe thead th {\n        text-align: right;\n    }\n</style>\n<table border=\"1\" class=\"dataframe\">\n  <thead>\n    <tr style=\"text-align: right;\">\n      <th></th>\n      <th>fileLink</th>\n      <th>name</th>\n      <th>resolution</th>\n      <th>id</th>\n      <th>sceneDateTime</th>\n      <th>boundaryId</th>\n      <th>cloudCoverPercentage</th>\n      <th>darkPixelPercentage</th>\n      <th>boundary_count</th>\n      <th>filePath</th>\n      <th>fileExist</th>\n    </tr>\n  </thead>\n  <tbody>\n    <tr>\n      <th>0</th>\n      <td>https://internal-wcus.farmbeats.azure.net/scen...</td>\n      <td>NDVI</td>\n      <td>10.0</td>\n      <td>235878a3-498c-58e9-9a91-b72ada3ba579</td>\n      <td>2021-05-10T00:00:00.000Z</td>\n      <td>boundary0</td>\n      <td>0.0</td>\n      <td>0.0</td>\n      <td>52</td>\n      <td>/tmp/farmbeats/Microsoft/Sentinel_2_L2A/contos...</td>\n      <td>True</td>\n    </tr>\n    <tr>\n      <th>1</th>\n      <td>https://internal-wcus.farmbeats.azure.net/scen...</td>\n      <td>NDVI</td>\n      <td>10.0</td>\n      <td>c6be7105-401f-ecad-b608-73ff2b63835b</td>\n      <td>2021-05-07T00:00:00.000Z</td>\n      <td>boundary0</td>\n      <td>0.0</td>\n      <td>0.0</td>\n      <td>52</td>\n      <td>/tmp/farmbeats/Microsoft/Sentinel_2_L2A/contos...</td>\n      <td>True</td>\n    </tr>\n    <tr>\n      <th>2</th>\n      <td>https://internal-wcus.farmbeats.azure.net/scen...</td>\n      <td>NDVI</td>\n      <td>10.0</td>\n      <td>b5da188b-8d4a-28d8-0aab-6ee59153bbdc</td>\n      <td>2021-04-22T00:00:00.000Z</td>\n      <td>boundary0</td>\n      <td>0.0</td>\n      <td>0.0</td>\n      <td>52</td>\n      <td>/tmp/farmbeats/Microsoft/Sentinel_2_L2A/contos...</td>\n      <td>True</td>\n    </tr>\n    <tr>\n      <th>3</th>\n      <td>https://internal-wcus.farmbeats.azure.net/scen...</td>\n      <td>NDVI</td>\n      <td>10.0</td>\n      <td>bcccfcee-9c9c-8a0f-a6da-95270941a3b7</td>\n      <td>2021-04-17T00:00:00.000Z</td>\n      <td>boundary0</td>\n      <td>0.0</td>\n      <td>0.0</td>\n      <td>52</td>\n      <td>/tmp/farmbeats/Microsoft/Sentinel_2_L2A/contos...</td>\n      <td>True</td>\n    </tr>\n    <tr>\n      <th>4</th>\n      <td>https://internal-wcus.farmbeats.azure.net/scen...</td>\n      <td>NDVI</td>\n      <td>10.0</td>\n      <td>257748c7-839c-faee-9f49-73d6d72442d9</td>\n      <td>2021-04-10T00:00:00.000Z</td>\n      <td>boundary0</td>\n      <td>0.0</td>\n      <td>0.0</td>\n      <td>52</td>\n      <td>/tmp/farmbeats/Microsoft/Sentinel_2_L2A/contos...</td>\n      <td>True</td>\n    </tr>\n  </tbody>\n</table>\n</div>",
            "text/plain": "                                            fileLink  name  resolution  \\\n0  https://internal-wcus.farmbeats.azure.net/scen...  NDVI        10.0   \n1  https://internal-wcus.farmbeats.azure.net/scen...  NDVI        10.0   \n2  https://internal-wcus.farmbeats.azure.net/scen...  NDVI        10.0   \n3  https://internal-wcus.farmbeats.azure.net/scen...  NDVI        10.0   \n4  https://internal-wcus.farmbeats.azure.net/scen...  NDVI        10.0   \n\n                                     id             sceneDateTime boundaryId  \\\n0  235878a3-498c-58e9-9a91-b72ada3ba579  2021-05-10T00:00:00.000Z  boundary0   \n1  c6be7105-401f-ecad-b608-73ff2b63835b  2021-05-07T00:00:00.000Z  boundary0   \n2  b5da188b-8d4a-28d8-0aab-6ee59153bbdc  2021-04-22T00:00:00.000Z  boundary0   \n3  bcccfcee-9c9c-8a0f-a6da-95270941a3b7  2021-04-17T00:00:00.000Z  boundary0   \n4  257748c7-839c-faee-9f49-73d6d72442d9  2021-04-10T00:00:00.000Z  boundary0   \n\n   cloudCoverPercentage  darkPixelPercentage  boundary_count  \\\n0                   0.0                  0.0              52   \n1                   0.0                  0.0              52   \n2                   0.0                  0.0              52   \n3                   0.0                  0.0              52   \n4                   0.0                  0.0              52   \n\n                                            filePath  fileExist  \n0  /tmp/farmbeats/Microsoft/Sentinel_2_L2A/contos...       True  \n1  /tmp/farmbeats/Microsoft/Sentinel_2_L2A/contos...       True  \n2  /tmp/farmbeats/Microsoft/Sentinel_2_L2A/contos...       True  \n3  /tmp/farmbeats/Microsoft/Sentinel_2_L2A/contos...       True  \n4  /tmp/farmbeats/Microsoft/Sentinel_2_L2A/contos...       True  "
          },
          "execution_count": 7,
          "metadata": {},
          "output_type": "execute_result"
        }
      ],
      "source": [
        "sat_links = pd.read_csv(os.path.join(CONSTANTS[\"results_dir\"], \"satellite_paths.csv\"))\n",
        "sat_links[\"fileExist\"] = sat_links.filePath.apply(os.path.exists)\n",
        "sat_links.head()\n",
        "\n",
        "# TODO: Check fileExist is True for all rows and raise error  "
      ]
    },
    {
      "cell_type": "markdown",
      "metadata": {},
      "source": [
        "#### List of weather parameter used in model training"
      ]
    },
    {
      "cell_type": "code",
      "execution_count": 8,
      "metadata": {
        "gather": {
          "logged": 1619777572980
        }
      },
      "outputs": [],
      "source": [
        "weather_parms = [\n",
        "    'airTempMax-F', \n",
        "    'airTempMin-F', \n",
        "    'cloudCover-%', \n",
        "    'dewPoint-F', \n",
        "    'dewPointMax-F', \n",
        "    'dewPointMin-F', \n",
        "    'iceAccPeriod-in', \n",
        "    'liquidAccPeriod-in', \n",
        "    'longWaveRadiationAvg-W/m^2', \n",
        "    'petPeriod-in', \n",
        "    'precipitation-in', \n",
        "    'relativeHumidity-%', \n",
        "    'relativeHumidityMax-%', \n",
        "    'relativeHumidityMin-%', \n",
        "    'shortWaveRadiationAvg-W/m^2', \n",
        "    'snowAccPeriod-in', \n",
        "    'sunshineDuration-hours', \n",
        "    'temperature-F', \n",
        "    'windSpeed-mph', \n",
        "    'windSpeed2mAvg-mph', \n",
        "    'windSpeed2mMax-mph', \n",
        "    'windSpeed2mMin-mph', \n",
        "    'windSpeedMax-mph', \n",
        "    'windSpeedMin-mph'\n",
        "]"
      ]
    },
    {
      "cell_type": "markdown",
      "metadata": {},
      "source": [
        "### Prepare Train and Validation sets"
      ]
    },
    {
      "cell_type": "code",
      "execution_count": 9,
      "metadata": {
        "gather": {
          "logged": 1619777573626
        }
      },
      "outputs": [],
      "source": [
        "# Combine satellite file paths and weather file per boundary\n",
        "\n",
        "trainval = (\n",
        "    sat_links.drop_duplicates([\"boundaryId\", \"fileExist\"])\n",
        "    .groupby([\"boundaryId\"])[\"fileExist\"]\n",
        "    .agg({\"count\"})\n",
        "    .reset_index()\n",
        "    .query(\"count == 1\")\n",
        "    .drop([\"count\"], axis=1)\n",
        ")\n",
        "\n",
        "\n",
        "# Check for weather file exists or not\n",
        "trainval[\"w_exists\"] = (trainval[\"boundaryId\"] + \"_historical.csv\").apply(lambda x: os.path.join(root_dir, x)).apply(\n",
        "    os.path.exists\n",
        ")\n",
        "\n",
        "trainval = trainval.query(\"w_exists\")"
      ]
    },
    {
      "cell_type": "code",
      "execution_count": 10,
      "metadata": {
        "gather": {
          "logged": 1619777574362
        }
      },
      "outputs": [],
      "source": [
        "# Split data into train and validation sets in ~70% and ~30% respectively\n",
        "np.random.seed(10)\n",
        "trainval[\"trainval\"] = np.where(\n",
        "    np.random.uniform(0, 1, trainval.shape[0]) < 0.7, \"Train\", \"Val\"\n",
        ")"
      ]
    },
    {
      "cell_type": "code",
      "execution_count": 11,
      "metadata": {
        "collapsed": true,
        "gather": {
          "logged": 1619777575097
        },
        "jupyter": {
          "outputs_hidden": false,
          "source_hidden": false
        },
        "nteract": {
          "transient": {
            "deleting": false
          }
        }
      },
      "outputs": [
        {
          "name": "stdout",
          "output_type": "stream",
          "text": [
            "  boundaryId  w_exists trainval\n",
            "0  boundary0      True      Val\n",
            "1  boundary1      True    Train\n",
            "2  boundary2      True    Train\n"
          ]
        }
      ],
      "source": [
        "print(trainval)"
      ]
    },
    {
      "cell_type": "code",
      "execution_count": 12,
      "metadata": {
        "collapsed": true,
        "gather": {
          "logged": 1619777576015
        },
        "jupyter": {
          "outputs_hidden": false,
          "source_hidden": false
        },
        "nteract": {
          "transient": {
            "deleting": false
          }
        }
      },
      "outputs": [],
      "source": [
        "# get mean and standard deviation of training data weather parameters for normalization\r\n",
        "w_stats = pd.concat(\r\n",
        "    [\r\n",
        "        pd.read_csv(os.path.join(root_dir, x + \"_historical.csv\"))\r\n",
        "        for x in trainval.query('trainval == \"Train\"').boundaryId.values\r\n",
        "    ],\r\n",
        "    axis=0,\r\n",
        ")[weather_parms].agg({\"mean\", \"std\"})"
      ]
    },
    {
      "cell_type": "markdown",
      "metadata": {},
      "source": [
        "### Get Weather Statistics for Normalization"
      ]
    },
    {
      "cell_type": "code",
      "execution_count": 13,
      "metadata": {
        "gather": {
          "logged": 1619777576854
        }
      },
      "outputs": [],
      "source": [
        "# get mean and standard deviation of training data weather parameters for normalization\n",
        "w_stats = pd.concat(\n",
        "    [\n",
        "        pd.read_csv(os.path.join(root_dir, x + \"_historical.csv\"))\n",
        "        for x in trainval.query('trainval == \"Train\"').boundaryId.values\n",
        "    ],\n",
        "    axis=0,\n",
        ")[weather_parms].agg({\"mean\", \"std\"})\n",
        "\n",
        "\n",
        "weather_mean = w_stats.filter(like=\"mean\", axis=0)[weather_parms].values\n",
        "weather_std = w_stats.filter(like=\"std\", axis=0)[weather_parms].values\n",
        "\n",
        "# Save weather parameters normalization stats\n",
        "os.makedirs(os.path.dirname(CONSTANTS[\"w_pkl\"]), exist_ok=True)\n",
        "with open(CONSTANTS[\"w_pkl\"], \"wb+\") as f:\n",
        "    pickle.dump([weather_parms, weather_mean, weather_std], f)"
      ]
    },
    {
      "cell_type": "code",
      "execution_count": 14,
      "metadata": {
        "gather": {
          "logged": 1619777577692
        }
      },
      "outputs": [],
      "source": [
        "def get_ARD(boundaryId):\n",
        "    # function for preparing Analysis Ready Dataset\n",
        "    # intended for use in _2_build_model.py\n",
        "    \n",
        "    boundary_id_sat_links = sat_links.query(\n",
        "        'boundaryId == @boundaryId'\n",
        "    )\n",
        "     \n",
        "    # in reading w_df, if error occurs with farm_code, change it to field_id\n",
        "    w_df = pd.read_csv(os.path.join(root_dir, boundaryId + \"_historical.csv\"))\n",
        "    \n",
        "    da_pc = ard_preprocess(\n",
        "        sat_file_links=boundary_id_sat_links,\n",
        "        w_df=w_df,\n",
        "        sat_res_x=20,\n",
        "        var_name=CONSTANTS[\"var_name\"],\n",
        "        interp_date_start=CONSTANTS[\"interp_date_start\"],\n",
        "        interp_date_end=CONSTANTS[\"interp_date_end\"],\n",
        "        w_parms=weather_parms,\n",
        "        input_days=CONSTANTS[\"input_days\"],\n",
        "        output_days=CONSTANTS[\"output_days\"],\n",
        "        ref_tm=CONSTANTS[\"ref_tm_model\"],\n",
        "        w_mn=weather_mean,\n",
        "        w_sd=weather_std,\n",
        "    )\n",
        "    return da_pc.query(\n",
        "        \"nan_input_evi and nan_input_w and nan_output_evi and nan_output_w and input_evi_le1 and output_evi_le1\"\n",
        "    )"
      ]
    },
    {
      "cell_type": "markdown",
      "metadata": {},
      "source": [
        "### Create Analysis Ready Dataset (ARD)"
      ]
    },
    {
      "cell_type": "code",
      "execution_count": 15,
      "metadata": {
        "gather": {
          "logged": 1619777741570
        }
      },
      "outputs": [],
      "source": [
        "# Get analysis ready dataset\n",
        "from concurrent.futures import ThreadPoolExecutor\n",
        "with ThreadPoolExecutor(max_workers=100) as executor:\n",
        "    ards_fetch = [executor.submit(get_ARD, x) for x in trainval.boundaryId.values]"
      ]
    },
    {
      "cell_type": "code",
      "execution_count": 16,
      "metadata": {
        "gather": {
          "logged": 1619777742280
        }
      },
      "outputs": [
        {
          "data": {
            "text/html": "<div>\n<style scoped>\n    .dataframe tbody tr th:only-of-type {\n        vertical-align: middle;\n    }\n\n    .dataframe tbody tr th {\n        vertical-align: top;\n    }\n\n    .dataframe thead th {\n        text-align: right;\n    }\n</style>\n<table border=\"1\" class=\"dataframe\">\n  <thead>\n    <tr style=\"text-align: right;\">\n      <th></th>\n      <th>lat_</th>\n      <th>long_</th>\n      <th>grp1_</th>\n      <th>input_evi</th>\n      <th>input_weather</th>\n      <th>forecast_weather</th>\n      <th>output_evi</th>\n      <th>input_evi_le1</th>\n      <th>output_evi_le1</th>\n      <th>nan_input_evi</th>\n      <th>nan_input_w</th>\n      <th>nan_output_evi</th>\n      <th>nan_output_w</th>\n    </tr>\n  </thead>\n  <tbody>\n    <tr>\n      <th>205</th>\n      <td>46.670928</td>\n      <td>-97.063391</td>\n      <td>2.0</td>\n      <td>[[0.11104569461863838], [0.10897067325086299],...</td>\n      <td>[[-2.668340873408142, -2.1543828151177946, 1.0...</td>\n      <td>[[-1.480488337830546, -1.7354337102173574, -0....</td>\n      <td>[[0.2221598250230731], [0.22500123573858305], ...</td>\n      <td>True</td>\n      <td>True</td>\n      <td>True</td>\n      <td>True</td>\n      <td>True</td>\n      <td>True</td>\n    </tr>\n    <tr>\n      <th>206</th>\n      <td>46.670928</td>\n      <td>-97.063391</td>\n      <td>3.0</td>\n      <td>[[0.20990959338435608], [0.2048448848277818], ...</td>\n      <td>[[-1.3485047227663687, -1.8750834118508364, 0....</td>\n      <td>[[-3.26226714119694, -2.503507069201492, 0.603...</td>\n      <td>[[0.05564604437032267], [0.05183542590608403],...</td>\n      <td>True</td>\n      <td>True</td>\n      <td>True</td>\n      <td>True</td>\n      <td>True</td>\n      <td>True</td>\n    </tr>\n    <tr>\n      <th>207</th>\n      <td>46.670928</td>\n      <td>-97.063391</td>\n      <td>4.0</td>\n      <td>[[0.016742475943900242], [0.01383843629405176]...</td>\n      <td>[[-2.9982999110685853, -2.2940325167512734, 0....</td>\n      <td>[[-4.648095099370802, -4.877551996970635, -0.8...</td>\n      <td>[[0.048956284882815206], [0.049574203440148415...</td>\n      <td>True</td>\n      <td>True</td>\n      <td>True</td>\n      <td>True</td>\n      <td>True</td>\n      <td>True</td>\n    </tr>\n    <tr>\n      <th>208</th>\n      <td>46.670928</td>\n      <td>-97.063391</td>\n      <td>5.0</td>\n      <td>[[0.08938524433760969], [0.09676993587495475],...</td>\n      <td>[[-1.678463760426812, -1.4561343069503991, 0.8...</td>\n      <td>[[-1.5464801453626347, -2.2940325167512734, -0...</td>\n      <td>[[0.212660275930121], [0.21359955424284693], [...</td>\n      <td>True</td>\n      <td>True</td>\n      <td>True</td>\n      <td>True</td>\n      <td>True</td>\n      <td>True</td>\n    </tr>\n    <tr>\n      <th>212</th>\n      <td>46.670928</td>\n      <td>-97.061596</td>\n      <td>2.0</td>\n      <td>[[0.1146685063628308], [0.11270818233087534], ...</td>\n      <td>[[-2.668340873408142, -2.1543828151177946, 1.0...</td>\n      <td>[[-1.480488337830546, -1.7354337102173574, -0....</td>\n      <td>[[0.20340598334987015], [0.20583955144937077],...</td>\n      <td>True</td>\n      <td>True</td>\n      <td>True</td>\n      <td>True</td>\n      <td>True</td>\n      <td>True</td>\n    </tr>\n    <tr>\n      <th>...</th>\n      <td>...</td>\n      <td>...</td>\n      <td>...</td>\n      <td>...</td>\n      <td>...</td>\n      <td>...</td>\n      <td>...</td>\n      <td>...</td>\n      <td>...</td>\n      <td>...</td>\n      <td>...</td>\n      <td>...</td>\n      <td>...</td>\n    </tr>\n    <tr>\n      <th>40</th>\n      <td>46.663706</td>\n      <td>-97.056210</td>\n      <td>5.0</td>\n      <td>[[0.0649898540789068], [0.07430353121691172], ...</td>\n      <td>[[-1.678463760426812, -1.4561343069503991, 0.8...</td>\n      <td>[[-1.5464801453626347, -2.2940325167512734, -0...</td>\n      <td>[[0.15691392622759676], [0.1574505770910212], ...</td>\n      <td>True</td>\n      <td>True</td>\n      <td>True</td>\n      <td>True</td>\n      <td>True</td>\n      <td>True</td>\n    </tr>\n    <tr>\n      <th>44</th>\n      <td>46.663706</td>\n      <td>-97.054415</td>\n      <td>2.0</td>\n      <td>[[0.11921553633857007], [0.1164741927994773], ...</td>\n      <td>[[-2.668340873408142, -2.1543828151177946, 1.0...</td>\n      <td>[[-1.480488337830546, -1.7354337102173574, -0....</td>\n      <td>[[0.18126091236240693], [0.1812357010372899], ...</td>\n      <td>True</td>\n      <td>True</td>\n      <td>True</td>\n      <td>True</td>\n      <td>True</td>\n      <td>True</td>\n    </tr>\n    <tr>\n      <th>45</th>\n      <td>46.663706</td>\n      <td>-97.054415</td>\n      <td>3.0</td>\n      <td>[[0.15417775545004372], [0.14920126874351466],...</td>\n      <td>[[-1.3485047227663687, -1.8750834118508364, 0....</td>\n      <td>[[-3.26226714119694, -2.503507069201492, 0.603...</td>\n      <td>[[0.02737906266407869], [0.024467744128448484]...</td>\n      <td>True</td>\n      <td>True</td>\n      <td>True</td>\n      <td>True</td>\n      <td>True</td>\n      <td>True</td>\n    </tr>\n    <tr>\n      <th>46</th>\n      <td>46.663706</td>\n      <td>-97.054415</td>\n      <td>4.0</td>\n      <td>[[0.0020055757803993314], [0.00042860668594825...</td>\n      <td>[[-2.9982999110685853, -2.2940325167512734, 0....</td>\n      <td>[[-4.648095099370802, -4.877551996970635, -0.8...</td>\n      <td>[[0.017830664707621402], [0.01766247577589224]...</td>\n      <td>True</td>\n      <td>True</td>\n      <td>True</td>\n      <td>True</td>\n      <td>True</td>\n      <td>True</td>\n    </tr>\n    <tr>\n      <th>47</th>\n      <td>46.663706</td>\n      <td>-97.054415</td>\n      <td>5.0</td>\n      <td>[[0.06513889761293348], [0.07393086832252088],...</td>\n      <td>[[-1.678463760426812, -1.4561343069503991, 0.8...</td>\n      <td>[[-1.5464801453626347, -2.2940325167512734, -0...</td>\n      <td>[[0.1656510797757439], [0.16616376076486594], ...</td>\n      <td>True</td>\n      <td>True</td>\n      <td>True</td>\n      <td>True</td>\n      <td>True</td>\n      <td>True</td>\n    </tr>\n  </tbody>\n</table>\n<p>132 rows × 13 columns</p>\n</div>",
            "text/plain": "          lat_      long_  grp1_  \\\n205  46.670928 -97.063391    2.0   \n206  46.670928 -97.063391    3.0   \n207  46.670928 -97.063391    4.0   \n208  46.670928 -97.063391    5.0   \n212  46.670928 -97.061596    2.0   \n..         ...        ...    ...   \n40   46.663706 -97.056210    5.0   \n44   46.663706 -97.054415    2.0   \n45   46.663706 -97.054415    3.0   \n46   46.663706 -97.054415    4.0   \n47   46.663706 -97.054415    5.0   \n\n                                             input_evi  \\\n205  [[0.11104569461863838], [0.10897067325086299],...   \n206  [[0.20990959338435608], [0.2048448848277818], ...   \n207  [[0.016742475943900242], [0.01383843629405176]...   \n208  [[0.08938524433760969], [0.09676993587495475],...   \n212  [[0.1146685063628308], [0.11270818233087534], ...   \n..                                                 ...   \n40   [[0.0649898540789068], [0.07430353121691172], ...   \n44   [[0.11921553633857007], [0.1164741927994773], ...   \n45   [[0.15417775545004372], [0.14920126874351466],...   \n46   [[0.0020055757803993314], [0.00042860668594825...   \n47   [[0.06513889761293348], [0.07393086832252088],...   \n\n                                         input_weather  \\\n205  [[-2.668340873408142, -2.1543828151177946, 1.0...   \n206  [[-1.3485047227663687, -1.8750834118508364, 0....   \n207  [[-2.9982999110685853, -2.2940325167512734, 0....   \n208  [[-1.678463760426812, -1.4561343069503991, 0.8...   \n212  [[-2.668340873408142, -2.1543828151177946, 1.0...   \n..                                                 ...   \n40   [[-1.678463760426812, -1.4561343069503991, 0.8...   \n44   [[-2.668340873408142, -2.1543828151177946, 1.0...   \n45   [[-1.3485047227663687, -1.8750834118508364, 0....   \n46   [[-2.9982999110685853, -2.2940325167512734, 0....   \n47   [[-1.678463760426812, -1.4561343069503991, 0.8...   \n\n                                      forecast_weather  \\\n205  [[-1.480488337830546, -1.7354337102173574, -0....   \n206  [[-3.26226714119694, -2.503507069201492, 0.603...   \n207  [[-4.648095099370802, -4.877551996970635, -0.8...   \n208  [[-1.5464801453626347, -2.2940325167512734, -0...   \n212  [[-1.480488337830546, -1.7354337102173574, -0....   \n..                                                 ...   \n40   [[-1.5464801453626347, -2.2940325167512734, -0...   \n44   [[-1.480488337830546, -1.7354337102173574, -0....   \n45   [[-3.26226714119694, -2.503507069201492, 0.603...   \n46   [[-4.648095099370802, -4.877551996970635, -0.8...   \n47   [[-1.5464801453626347, -2.2940325167512734, -0...   \n\n                                            output_evi  input_evi_le1  \\\n205  [[0.2221598250230731], [0.22500123573858305], ...           True   \n206  [[0.05564604437032267], [0.05183542590608403],...           True   \n207  [[0.048956284882815206], [0.049574203440148415...           True   \n208  [[0.212660275930121], [0.21359955424284693], [...           True   \n212  [[0.20340598334987015], [0.20583955144937077],...           True   \n..                                                 ...            ...   \n40   [[0.15691392622759676], [0.1574505770910212], ...           True   \n44   [[0.18126091236240693], [0.1812357010372899], ...           True   \n45   [[0.02737906266407869], [0.024467744128448484]...           True   \n46   [[0.017830664707621402], [0.01766247577589224]...           True   \n47   [[0.1656510797757439], [0.16616376076486594], ...           True   \n\n     output_evi_le1  nan_input_evi  nan_input_w  nan_output_evi  nan_output_w  \n205            True           True         True            True          True  \n206            True           True         True            True          True  \n207            True           True         True            True          True  \n208            True           True         True            True          True  \n212            True           True         True            True          True  \n..              ...            ...          ...             ...           ...  \n40             True           True         True            True          True  \n44             True           True         True            True          True  \n45             True           True         True            True          True  \n46             True           True         True            True          True  \n47             True           True         True            True          True  \n\n[132 rows x 13 columns]"
          },
          "execution_count": 16,
          "metadata": {},
          "output_type": "execute_result"
        }
      ],
      "source": [
        "ards_fetch[0].result() # sample model input xarray of first boundary"
      ]
    },
    {
      "cell_type": "code",
      "execution_count": 17,
      "metadata": {
        "gather": {
          "logged": 1619777743189
        }
      },
      "outputs": [],
      "source": [
        "data = pd.concat(\n",
        "    [\n",
        "        ards_fetch[x]\n",
        "        .result()\n",
        "        .assign(\n",
        "            boundary_code=trainval.boundaryId.values[x], trainval=trainval.trainval.values[x]\n",
        "        )\n",
        "        for x in range(len(trainval.boundaryId.values))\n",
        "        if ards_fetch[x].exception() == None\n",
        "    ],\n",
        "    axis=0,\n",
        ")"
      ]
    },
    {
      "cell_type": "markdown",
      "metadata": {},
      "source": [
        "### Model Data Preparation"
      ]
    },
    {
      "cell_type": "code",
      "execution_count": 18,
      "metadata": {},
      "outputs": [],
      "source": [
        "data_train = data.query('trainval == \"Train\"')\n",
        "data_val = data.query('trainval == \"Val\"')\n",
        "\n",
        "# Prepare train and validation tensors\n",
        "# converting list variables in ARD DataFrame to numpy array (tensors)\n",
        "X_train = [\n",
        "    np.array(data_train.input_evi.to_list()),\n",
        "    np.array(data_train.input_weather.to_list()),\n",
        "    np.array(data_train.forecast_weather.to_list()),\n",
        "]\n",
        "Y_train = np.array(data_train.output_evi.to_list())\n",
        "\n",
        "\n",
        "X_val = [\n",
        "    np.array(data_val.input_evi.to_list()),\n",
        "    np.array(data_val.input_weather.to_list()),\n",
        "    np.array(data_val.forecast_weather.to_list()),\n",
        "]\n",
        "Y_val = np.array(data_val.output_evi.to_list())\n",
        "\n",
        "# Save Analysis Ready Dataset (ARD)\n",
        "os.makedirs(os.path.dirname(CONSTANTS[\"ardpkl\"]), exist_ok=True)\n",
        "with open(CONSTANTS[\"ardpkl\"], \"wb\") as f:\n",
        "    pickle.dump(data, f)"
      ]
    },
    {
      "cell_type": "markdown",
      "metadata": {},
      "source": [
        "### Model Architecture"
      ]
    },
    {
      "cell_type": "code",
      "execution_count": 19,
      "metadata": {},
      "outputs": [],
      "source": [
        "def get_model(input_weather, x, y, z):\n",
        "    \"\"\"\n",
        "    Model architecture\n",
        "    \"\"\"\n",
        "    # intended for use in _2_build_model.py\n",
        "    # Define the tensors for the three input images\n",
        "    evi_input = keras.Input((CONSTANTS[\"input_days\"], 1), name=\"evi_input\")\n",
        "    weather_input = keras.Input(\n",
        "        (CONSTANTS[\"input_days\"], input_weather), name=\"weather_input\"\n",
        "    )\n",
        "    forecast_input = keras.Input(\n",
        "        (CONSTANTS[\"output_days\"], input_weather), name=\"forecast_input\"\n",
        "    )\n",
        "\n",
        "    dense_1 = keras.layers.LSTM(\n",
        "        x, activation=\"relu\", name=\"DeNse_1\", dropout=0.1, recurrent_dropout=0.1\n",
        "    )(evi_input)\n",
        "    dense_2 = keras.layers.LSTM(\n",
        "        y, activation=\"relu\", name=\"DeNse_2\", dropout=0.1, recurrent_dropout=0.1\n",
        "    )(weather_input)\n",
        "    dense_3 = keras.layers.LSTM(\n",
        "        z,\n",
        "        activation=\"relu\",\n",
        "        name=\"lstm_1\",\n",
        "        return_sequences=True,\n",
        "        dropout=0.1,\n",
        "        recurrent_dropout=0.1,\n",
        "    )(forecast_input)\n",
        "\n",
        "    dense_12 = keras.layers.concatenate(axis=-1, inputs=[dense_1, dense_2])\n",
        "    dense_12_1 = keras.layers.RepeatVector(10)(dense_12)\n",
        "    dense_123 = keras.layers.concatenate(axis=-1, inputs=[dense_12_1, dense_3])\n",
        "    prediction = keras.layers.LSTM(\n",
        "        1, activation=\"relu\", name=\"lstm_2\", return_sequences=True\n",
        "    )(dense_123)\n",
        "    # Connect the inputs with the outputs\n",
        "    finnet = keras.Model(\n",
        "        inputs=[evi_input, weather_input, forecast_input], outputs=prediction\n",
        "    )\n",
        "    # return the model\n",
        "    return finnet"
      ]
    },
    {
      "cell_type": "markdown",
      "metadata": {},
      "source": [
        "### Model Training"
      ]
    },
    {
      "cell_type": "code",
      "execution_count": 20,
      "metadata": {},
      "outputs": [
        {
          "name": "stdout",
          "output_type": "stream",
          "text": [
            "Epoch 1/20\n",
            "1/1 [==============================] - 2s 2s/step - loss: 0.0822 - mse: 0.0822 - val_loss: 0.0228 - val_mse: 0.0228\n",
            "Epoch 2/20\n",
            "1/1 [==============================] - 0s 351ms/step - loss: 0.0617 - mse: 0.0617 - val_loss: 0.0221 - val_mse: 0.0221\n",
            "Epoch 3/20\n",
            "1/1 [==============================] - 1s 638ms/step - loss: 0.0359 - mse: 0.0359 - val_loss: 0.0750 - val_mse: 0.0750\n",
            "Epoch 4/20\n",
            "1/1 [==============================] - 0s 383ms/step - loss: 0.0407 - mse: 0.0407 - val_loss: 0.1363 - val_mse: 0.1363\n",
            "Epoch 5/20\n",
            "1/1 [==============================] - 0s 338ms/step - loss: 0.0496 - mse: 0.0496 - val_loss: 0.1605 - val_mse: 0.1605\n",
            "Epoch 6/20\n",
            "1/1 [==============================] - 0s 425ms/step - loss: 0.0355 - mse: 0.0355 - val_loss: 0.2815 - val_mse: 0.2815\n",
            "Epoch 7/20\n",
            "1/1 [==============================] - 0s 344ms/step - loss: 0.0186 - mse: 0.0186 - val_loss: 0.2783 - val_mse: 0.2783\n",
            "Epoch 8/20\n",
            "1/1 [==============================] - 0s 378ms/step - loss: 0.0164 - mse: 0.0164 - val_loss: 0.1074 - val_mse: 0.1074\n",
            "Epoch 9/20\n",
            "1/1 [==============================] - 0s 360ms/step - loss: 0.0190 - mse: 0.0190 - val_loss: 0.0362 - val_mse: 0.0362\n",
            "Epoch 10/20\n",
            "1/1 [==============================] - 0s 412ms/step - loss: 0.0208 - mse: 0.0208 - val_loss: 0.0351 - val_mse: 0.0351\n",
            "Epoch 11/20\n",
            "1/1 [==============================] - 0s 376ms/step - loss: 0.0203 - mse: 0.0203 - val_loss: 0.0447 - val_mse: 0.0447\n",
            "Epoch 12/20\n",
            "1/1 [==============================] - 0s 329ms/step - loss: 0.0179 - mse: 0.0179 - val_loss: 0.0850 - val_mse: 0.0850\n",
            "Epoch 13/20\n",
            "1/1 [==============================] - 0s 393ms/step - loss: 0.0160 - mse: 0.0160 - val_loss: 0.3025 - val_mse: 0.3025\n",
            "Epoch 14/20\n",
            "1/1 [==============================] - 0s 283ms/step - loss: 0.0148 - mse: 0.0148 - val_loss: 0.7268 - val_mse: 0.7268\n",
            "Epoch 15/20\n",
            "1/1 [==============================] - 0s 299ms/step - loss: 0.0149 - mse: 0.0149 - val_loss: 0.9239 - val_mse: 0.9239\n",
            "Epoch 16/20\n",
            "1/1 [==============================] - 0s 295ms/step - loss: 0.0155 - mse: 0.0155 - val_loss: 0.8581 - val_mse: 0.8581\n",
            "Epoch 17/20\n",
            "1/1 [==============================] - 0s 303ms/step - loss: 0.0153 - mse: 0.0153 - val_loss: 0.6957 - val_mse: 0.6957\n",
            "Epoch 18/20\n",
            "1/1 [==============================] - 0s 314ms/step - loss: 0.0142 - mse: 0.0142 - val_loss: 0.5293 - val_mse: 0.5293\n",
            "Epoch 19/20\n",
            "1/1 [==============================] - 0s 447ms/step - loss: 0.0130 - mse: 0.0130 - val_loss: 0.3899 - val_mse: 0.3899\n",
            "Epoch 20/20\n",
            "1/1 [==============================] - 0s 367ms/step - loss: 0.0120 - mse: 0.0120 - val_loss: 0.2868 - val_mse: 0.2868\n"
          ]
        }
      ],
      "source": [
        "model = get_model(len(weather_parms), 100, 100, 100)\n",
        "optimizer = tf.keras.optimizers.SGD(learning_rate=0.1, momentum=0.9)\n",
        "model.compile(loss=\"mse\", optimizer=optimizer, metrics=[\"mse\"])\n",
        "# Model run\n",
        "training_history = model.fit(\n",
        "    X_train,\n",
        "    Y_train,\n",
        "    epochs=20,\n",
        "    verbose=1,\n",
        "    validation_data=(X_val, Y_val),\n",
        "    callbacks=[],\n",
        "    batch_size=1000,\n",
        ")\n",
        "val_pred = model.predict(X_val)\n",
        "# Save model to h5 format\n",
        "tf.keras.models.save_model(\n",
        "    model, filepath= CONSTANTS[\"modelh5\"], save_format=\"h5\", overwrite=True\n",
        ")"
      ]
    },
    {
      "cell_type": "markdown",
      "metadata": {},
      "source": [
        "### Visualization of Model Results on Validation Dataset"
      ]
    },
    {
      "cell_type": "code",
      "execution_count": 21,
      "metadata": {},
      "outputs": [
        {
          "data": {
            "image/png": "[encoded data removed]",
            "text/plain": "<Figure size 432x288 with 1 Axes>"
          },
          "metadata": {
            "needs_background": "light"
          },
          "output_type": "display_data"
        }
      ],
      "source": [
        "# visualize model error as function of forecast days\n",
        "err_pred = Y_val[:, :, 0] - val_pred[:, :, 0]\n",
        "err_base = -Y_val[:, :, 0] + X_val[0][:, -1, 0][:, np.newaxis]\n",
        "df_err_mn = pd.DataFrame(\n",
        "    {\n",
        "        \"Day_i_vs_Day_0\": np.sqrt(np.mean(err_base ** 2, axis=0)),\n",
        "        \"Predicted_vs_Actual\": np.sqrt(np.mean(err_pred ** 2, axis=0)),\n",
        "        \"Day\": 1 + np.arange(CONSTANTS[\"output_days\"]),\n",
        "    }\n",
        ").set_index([\"Day\"])\n",
        "df_err_mn.plot()\n",
        "plt.suptitle(\n",
        "    \"RMSE plot comparing Day i to Day 0 vs Day i to ANN model prediction\\n Validation RMSE: \"\n",
        "    + str(np.round(np.sqrt(training_history.history[\"val_mse\"][-1]), 4))\n",
        ")\n",
        "plt.savefig(CONSTANTS[\"model_result_png\"])"
      ]
    },
    {
      "cell_type": "code",
      "execution_count": null,
      "metadata": {},
      "outputs": [],
      "source": []
    }
  ],
  "metadata": {
    "kernelspec": {
      "display_name": "Python 3",
      "name": "python3"
    },
    "language_info": {
      "codemirror_mode": {
        "name": "ipython",
        "version": 3
      },
      "file_extension": ".py",
      "mimetype": "text/x-python",
      "name": "python",
      "nbconvert_exporter": "python",
      "pygments_lexer": "ipython3",
      "version": "3.6.9"
    },
    "orig_nbformat": 3
  },
  "nbformat": 4,
  "nbformat_minor": 5
}