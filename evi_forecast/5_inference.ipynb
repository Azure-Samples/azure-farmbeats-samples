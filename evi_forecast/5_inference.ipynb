{
 "cells": [
  {
   "cell_type": "markdown",
   "metadata": {},
   "source": [
    "# Inference"
   ]
  },
  {
   "cell_type": "markdown",
   "metadata": {},
   "source": [
    "Copyright (c) Microsoft Corporation. All rights reserved.\r\n",
    "\r\n",
    "Licensed under the MIT License."
   ]
  },
  {
   "cell_type": "code",
   "execution_count": null,
   "metadata": {},
   "outputs": [],
   "source": [
    "# System Imports\r\n",
    "import json\r\n",
    "import os\r\n",
    "import numpy as np\r\n",
    "import pandas as pd\r\n",
    "import requests\r\n",
    "from datetime import datetime\r\n",
    "\r\n",
    "# Local Imports\r\n",
    "from utils.config import farmbeats_config"
   ]
  },
  {
   "cell_type": "code",
   "execution_count": null,
   "metadata": {},
   "outputs": [],
   "source": [
    "\"\"\"\n",
    "Open service uri and token for https endpoint\n",
    "\"\"\"\n",
    "\n",
    "with open(\"results//service_uri.pkl\", \"rb\") as f:\n",
    "    scoring_uri, token = pickle.load(f)"
   ]
  },
  {
   "cell_type": "code",
   "execution_count": null,
   "metadata": {},
   "outputs": [],
   "source": [
    "farmer_id = \"annaresh_farmer\"\n",
    "boundary_id = \"boundary1-annaresh\" # TODO: Check later for geometry also\n",
    "bonudary_geometry = '[[-88.55981782720959, 39.767198541032606], [-88.54924932608098, 39.766569945555425], [-88.55007951533537, 39.75856308368464], [-88.56064684852868, 39.75919160723301], [-88.55981782720959, 39.767198541032606]]'"
   ]
  },
  {
   "cell_type": "code",
   "execution_count": null,
   "metadata": {},
   "outputs": [],
   "source": [
    "headers = {\"Content-Type\": \"application/json\"}\n",
    "headers[\"Authorization\"] = f\"Bearer {token}\"\n",
    "test_data = json.dumps(\n",
    "    {\n",
    "        \"config\": farmbeats_config,\n",
    "        \"farmer_id\": farmer_id,\n",
    "        \"boundary_id\": boundary_id,\n",
    "        \"bonudary_geometry\": json.loads(bonudary_geometry)\n",
    "    }\n",
    ")\n",
    "response = requests.post(\n",
    "    scoring_uri, data=test_data, headers=headers, timeout=(240, 240)\n",
    ")"
   ]
  },
  {
   "cell_type": "markdown",
   "metadata": {},
   "source": [
    "### Model Response Body"
   ]
  },
  {
   "cell_type": "code",
   "execution_count": null,
   "metadata": {},
   "outputs": [],
   "source": [
    "print(response.json())"
   ]
  },
  {
   "cell_type": "code",
   "execution_count": null,
   "metadata": {},
   "outputs": [],
   "source": [
    "print(response.status_code)\n",
    "print(response.elapsed)"
   ]
  },
  {
   "cell_type": "code",
   "execution_count": null,
   "metadata": {},
   "outputs": [],
   "source": [
    "pred_df = pd.DataFrame.from_dict(response['model_preds'].json())\r\n",
    "print(pred_df.head())"
   ]
  },
  {
   "cell_type": "markdown",
   "metadata": {},
   "source": [
    "### Write output to tif files"
   ]
  },
  {
   "cell_type": "code",
   "execution_count": null,
   "metadata": {},
   "outputs": [],
   "source": [
    "%matplotlib inline\r\n",
    "import time\r\n",
    "from IPython import display\r\n",
    "from rasterio.plot import show\r\n",
    "\r\n",
    "output_dir = \"results/\"\r\n",
    "ref_tif = response['ref_tif']\r\n",
    "with rasterio.open(ref_tif) as src:\r\n",
    "    ras_meta = src.profile"
   ]
  },
  {
   "cell_type": "code",
   "execution_count": null,
   "metadata": {},
   "outputs": [],
   "source": [
    "for coln in pred_df.columns[:-2]: # Skip last 2 columns: lattiude, longitude\r\n",
    "    data_array = np.array(pred_df[coln]).reshape(src.shape)\r\n",
    "    with rasterio.open(os.path.join(output_dir, coln + '.tif'), 'w', **ras_meta) as dst:\r\n",
    "        dst.write(data_array, indexes=1)"
   ]
  },
  {
   "cell_type": "markdown",
   "metadata": {},
   "source": [
    "### Visualize Outputs"
   ]
  },
  {
   "cell_type": "code",
   "execution_count": null,
   "metadata": {},
   "outputs": [],
   "source": [
    "for coln in pred_df.columns[:-2]: # Skip last 2 columns: lattiude, longitude\r\n",
    "    src = rasterio.open(os.path.join(output_dir, coln + '.tif'))\r\n",
    "    show(src.read(), transform=src.transform, title=coln)\r\n",
    "    #show_hist(src)\r\n",
    "    display.clear_output(wait=True)\r\n",
    "    time.sleep(1) "
   ]
  }
 ],
 "metadata": {
  "kernel_info": {
   "name": "python3-azureml"
  },
  "kernelspec": {
   "display_name": "Python 3",
   "language": "python",
   "name": "python3"
  },
  "language_info": {
   "codemirror_mode": {
    "name": "ipython",
    "version": 3
   },
   "file_extension": ".py",
   "mimetype": "text/x-python",
   "name": "python",
   "nbconvert_exporter": "python",
   "pygments_lexer": "ipython3",
   "version": "3.6.9"
  },
  "nteract": {
   "version": "nteract-front-end@1.0.0"
  }
 },
 "nbformat": 4,
 "nbformat_minor": 5
}