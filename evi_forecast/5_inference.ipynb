{
 "cells": [
  {
   "cell_type": "markdown",
   "id": "98f6f319",
   "metadata": {},
   "source": [
    "# Inference"
   ]
  },
  {
   "cell_type": "code",
   "execution_count": null,
   "id": "cbdafd2f",
   "metadata": {},
   "outputs": [],
   "source": [
    "import numpy as np\n",
    "import requests\n",
    "import json\n",
    "import pandas as pd\n",
    "import pickle\n",
    "from datetime import datetime\n",
    "\n",
    "from utils.config import farmbeats_config"
   ]
  },
  {
   "cell_type": "code",
   "execution_count": null,
   "id": "eb7d3937",
   "metadata": {},
   "outputs": [],
   "source": [
    "\"\"\"\n",
    "Open service uri and token for https endpoint\n",
    "\"\"\"\n",
    "\n",
    "with open(\"results//service_uri.pkl\", \"rb\") as f:\n",
    "    scoring_uri, token = pickle.load(f)"
   ]
  },
  {
   "cell_type": "code",
   "execution_count": null,
   "id": "b9ba88fc",
   "metadata": {},
   "outputs": [],
   "source": [
    "farmer_id = \"annaresh_farmer\"\n",
    "boundary_id = \"boundary1-annaresh\" # TODO: Check later for geometry also\n",
    "bonudary_geometry = '[[-88.55981782720959, 39.767198541032606], [-88.54924932608098, 39.766569945555425], [-88.55007951533537, 39.75856308368464], [-88.56064684852868, 39.75919160723301], [-88.55981782720959, 39.767198541032606]]'"
   ]
  },
  {
   "cell_type": "code",
   "execution_count": null,
   "id": "f5abe66b",
   "metadata": {},
   "outputs": [],
   "source": [
    "headers = {\"Content-Type\": \"application/json\"}\n",
    "headers[\"Authorization\"] = f\"Bearer {token}\"\n",
    "test_data = json.dumps(\n",
    "    {\n",
    "        \"config\": farmbeats_config,\n",
    "        \"farmer_id\": farmer_id,\n",
    "        \"boundary_id\": boundary_id,\n",
    "        \"bonudary_geometry\": json.loads(bonudary_geometry)\n",
    "    }\n",
    ")\n",
    "response = requests.post(\n",
    "    scoring_uri, data=test_data, headers=headers, timeout=(240, 240)\n",
    ")"
   ]
  },
  {
   "cell_type": "code",
   "execution_count": null,
   "id": "799dd3bc",
   "metadata": {},
   "outputs": [],
   "source": [
    "response.json()"
   ]
  },
  {
   "cell_type": "code",
   "execution_count": null,
   "id": "f4871d17",
   "metadata": {},
   "outputs": [],
   "source": [
    "print(response.status_code)\n",
    "print(response.elapsed)"
   ]
  },
  {
   "cell_type": "code",
   "execution_count": null,
   "id": "3b17f548",
   "metadata": {},
   "outputs": [],
   "source": [
    "res1 = pd.DataFrame.from_dict(response.json())\n",
    "print(res1.head())"
   ]
  }
 ],
 "metadata": {
  "kernel_info": {
   "name": "python3-azureml"
  },
  "kernelspec": {
   "display_name": "Python 3",
   "language": "python",
   "name": "python3"
  },
  "language_info": {
   "codemirror_mode": {
    "name": "ipython",
    "version": 3
   },
   "file_extension": ".py",
   "mimetype": "text/x-python",
   "name": "python",
   "nbconvert_exporter": "python",
   "pygments_lexer": "ipython3",
   "version": "3.6.9"
  },
  "nteract": {
   "version": "nteract-front-end@1.0.0"
  }
 },
 "nbformat": 4,
 "nbformat_minor": 5
}
