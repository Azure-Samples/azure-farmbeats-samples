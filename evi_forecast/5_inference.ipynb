{
 "cells": [
  {
   "cell_type": "markdown",
   "id": "98f6f319",
   "metadata": {},
   "source": [
    "# Inference"
   ]
  },
  {
   "cell_type": "code",
   "execution_count": null,
   "id": "eb7d3937",
   "metadata": {},
   "outputs": [],
   "source": [
    "import numpy as np\n",
    "import requests\n",
    "import json\n",
    "import pandas as pd\n",
    "import pickle\n",
    "from configs.config import config, farmer_details\n",
    "from scripts.c_funcs.constants import CONSTANTS\n",
    "from scripts.c_funcs.start_dwnld_in_fb import start_dwnld_in_fb\n",
    "from datetime import datetime\n",
    "\n",
    "\n",
    "boundary_id = 'boundary1'\n",
    "\n",
    "\"\"\"\n",
    "Open service uri and token for https endpoint\n",
    "\"\"\"\n",
    "\n",
    "with open(CONSTANTS[\"service_uri\"], \"rb\") as f:\n",
    "    scoring_uri, token = pickle.load(f)\n",
    "\n",
    "headers = {\"Content-Type\": \"application/json\"}\n",
    "headers[\"Authorization\"] = f\"Bearer {token}\"\n",
    "test_data = json.dumps(\n",
    "    {\n",
    "        \"config\": config,\n",
    "        \"farmer_id\": farmer_details[\"farmer_id\"],\n",
    "        \"field_id\": field_id,\n",
    "        \"boundary_id\": boundary_id,\n",
    "    }\n",
    ")\n",
    "response = requests.post(\n",
    "    scoring_uri, data=test_data, headers=headers, timeout=(240, 240)\n",
    ")\n",
    "res1 = pd.DataFrame.from_dict(response.json())\n",
    "res1\n",
    "print(response.status_code)\n",
    "print(response.elapsed)"
   ]
  }
 ],
 "metadata": {
  "kernel_info": {
   "name": "python3-azureml"
  },
  "kernelspec": {
   "display_name": "Python 3",
   "language": "python",
   "name": "python3"
  },
  "language_info": {
   "codemirror_mode": {
    "name": "ipython",
    "version": 3
   },
   "file_extension": ".py",
   "mimetype": "text/x-python",
   "name": "python",
   "nbconvert_exporter": "python",
   "pygments_lexer": "ipython3",
   "version": "3.6.9"
  },
  "nteract": {
   "version": "nteract-front-end@1.0.0"
  }
 },
 "nbformat": 4,
 "nbformat_minor": 5
}
