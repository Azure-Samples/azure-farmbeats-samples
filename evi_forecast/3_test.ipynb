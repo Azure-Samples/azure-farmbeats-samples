{
 "cells": [
  {
   "cell_type": "markdown",
   "metadata": {},
   "source": [
    "# Test EVI Forecast (local)"
   ]
  },
  {
   "cell_type": "code",
   "execution_count": 1,
   "metadata": {},
   "outputs": [],
   "source": [
    "# System Imports\n",
    "import json\n",
    "import pickle\n",
    "import os\n",
    "import requests\n",
    "from datetime import datetime,timedelta\n",
    "\n",
    "#3rd Party Imports\n",
    "import numpy as np\n",
    "import pandas as pd\n",
    "import rasterio\n",
    "import tensorflow as tf\n",
    "from azure.identity import ClientSecretCredential\n",
    "from tensorflow import keras\n",
    "\n",
    "\n",
    "# Local Imports\n",
    "from azure.farmbeats.models import Farmer, Boundary, Polygon, SatelliteIngestionJobRequest, WeatherIngestionJobRequest\n",
    "from azure.farmbeats import FarmBeatsClient\n",
    "from utils.config import farmbeats_config\n",
    "from utils.weather_util import WeatherUtil\n",
    "from utils.satellite_util import SatelliteUtil\n",
    "from utils.constants import CONSTANTS\n",
    "from utils.ard_util import ard_preprocess\n",
    "\n",
    "# Disable unnecessary logs\n",
    "import sys\n",
    "import logging\n",
    "logging.disable(sys.maxsize)"
   ]
  },
  {
   "cell_type": "markdown",
   "metadata": {},
   "source": [
    "### Farmbeats Configuration"
   ]
  },
  {
   "cell_type": "code",
   "execution_count": 2,
   "metadata": {},
   "outputs": [],
   "source": [
    "# FarmBeats Client definition\n",
    "credential = ClientSecretCredential(\n",
    "    tenant_id=farmbeats_config['tenant_id'],\n",
    "    client_id=farmbeats_config['client_id'],\n",
    "    client_secret=farmbeats_config['client_secret'],\n",
    "    authority=farmbeats_config['authority']\n",
    ")\n",
    "\n",
    "credential_scopes = [farmbeats_config['default_scope']]\n",
    "\n",
    "fb_client = FarmBeatsClient(\n",
    "    base_url=farmbeats_config['instance_url'],\n",
    "    credential=credential,\n",
    "    credential_scopes=credential_scopes,\n",
    "    logging_enable=True\n",
    ")"
   ]
  },
  {
   "cell_type": "markdown",
   "metadata": {},
   "source": [
    "### Forecast EVI for test Boundary"
   ]
  },
  {
   "cell_type": "markdown",
   "metadata": {},
   "source": [
    "#### Satellite Data"
   ]
  },
  {
   "cell_type": "code",
   "execution_count": 3,
   "metadata": {},
   "outputs": [],
   "source": [
    "farmer_id = \"annam_farmer\"\n",
    "boundary_id = \"boundary055\"\n",
    "\n",
    "end_dt = datetime.strptime(datetime.now().strftime(\"%Y-%m-%d\"), \"%Y-%m-%d\")\n",
    "start_dt = end_dt - timedelta(days=60)\n",
    "\n",
    "# get boundary object\n",
    "boundary = fb_client.boundaries.get(\n",
    "            farmer_id=farmer_id,\n",
    "            boundary_id=boundary_id\n",
    "        )\n",
    "\n",
    "root_dir = \"/home/temp/\""
   ]
  },
  {
   "cell_type": "code",
   "execution_count": 4,
   "metadata": {},
   "outputs": [
    {
     "name": "stdout",
     "output_type": "stream",
     "text": [
      "Downloading Images to Local ...\n"
     ]
    },
    {
     "name": "stderr",
     "output_type": "stream",
     "text": [
      "C:\\azure-farmbeats-samples\\evi_forecast\\utils\\satellite_util.py:137: SettingWithCopyWarning: \n",
      "A value is trying to be set on a copy of a slice from a DataFrame.\n",
      "Try using .loc[row_indexer,col_indexer] = value instead\n",
      "\n",
      "See the caveats in the documentation: https://pandas.pydata.org/pandas-docs/stable/user_guide/indexing.html#returning-a-view-versus-a-copy\n",
      "  ).name.transform(len)\n"
     ]
    },
    {
     "name": "stdout",
     "output_type": "stream",
     "text": [
      "Finished Downloading!!\n"
     ]
    },
    {
     "name": "stderr",
     "output_type": "stream",
     "text": [
      "C:\\azure-farmbeats-samples\\evi_forecast\\utils\\satellite_util.py:141: SettingWithCopyWarning: \n",
      "A value is trying to be set on a copy of a slice from a DataFrame.\n",
      "Try using .loc[row_indexer,col_indexer] = value instead\n",
      "\n",
      "See the caveats in the documentation: https://pandas.pydata.org/pandas-docs/stable/user_guide/indexing.html#returning-a-view-versus-a-copy\n",
      "  for x in df_allscenes_band.fileLink.values\n"
     ]
    }
   ],
   "source": [
    "sat_links1 = SatelliteUtil(farmbeats_client = fb_client).download_and_get_sat_file_paths(farmer_id, [boundary], start_dt, end_dt, root_dir)\n",
    "\n",
    "# get last available data of satellite data\n",
    "end_dt_w = datetime.strptime(\n",
    "    sat_links1.sceneDateTime.sort_values(ascending=False).values[0][:10], \"%Y-%m-%d\"\n",
    ")\n",
    "# calculate 30 days from last satellite available date\n",
    "start_dt_w = end_dt_w - timedelta(days=CONSTANTS[\"input_days\"] + 1)"
   ]
  },
  {
   "cell_type": "markdown",
   "metadata": {},
   "source": [
    "#### Weather Data"
   ]
  },
  {
   "cell_type": "code",
   "execution_count": 5,
   "metadata": {},
   "outputs": [
    {
     "name": "stderr",
     "output_type": "stream",
     "text": [
      "C:\\azure-farmbeats-samples\\evi_forecast\\utils\\weather_util.py:26: FutureWarning: pandas.io.json.json_normalize is deprecated, use pandas.json_normalize instead\n",
      "  df_flat = pd.io.json.json_normalize([x.serialize() for x in weather_data])\n"
     ]
    }
   ],
   "source": [
    "# get weather data historical\n",
    "weather_list = fb_client.weather.list(\n",
    "            farmer_id=  boundary.farmer_id,\n",
    "            boundary_id= boundary.id,\n",
    "            start_date_time=start_dt_w,\n",
    "            end_date_time=end_dt,\n",
    "            extension_id=\"dtn.clearAg\", \n",
    "            weather_data_type= \"historical\", \n",
    "            granularity=\"daily\")\n",
    "weather_data = []\n",
    "for w_data in weather_list:\n",
    "    weather_data.append(w_data)\n",
    "w_df_hist = WeatherUtil.get_weather_data_df(weather_data)"
   ]
  },
  {
   "cell_type": "code",
   "execution_count": 6,
   "metadata": {},
   "outputs": [],
   "source": [
    "# get weather data forecast\n",
    "weather_list = fb_client.weather.list(\n",
    "            farmer_id=  boundary.farmer_id,\n",
    "            boundary_id= boundary.id,\n",
    "            start_date_time=end_dt,\n",
    "            end_date_time=end_dt + timedelta(10),\n",
    "            extension_id=\"dtn.clearAg\", \n",
    "            weather_data_type= \"forecast\", \n",
    "            granularity=\"daily\")\n",
    "\n",
    "weather_data = []\n",
    "for w_data in weather_list:\n",
    "    weather_data.append(w_data)\n",
    "w_df_forecast = WeatherUtil.get_weather_data_df(weather_data)"
   ]
  },
  {
   "cell_type": "code",
   "execution_count": 7,
   "metadata": {},
   "outputs": [],
   "source": [
    "# merge weather data\n",
    "w_df = pd.concat([w_df_hist, w_df_forecast], axis=0)\n",
    "\n",
    "with open(CONSTANTS[\"w_pkl\"], \"rb\") as f:\n",
    "    w_parms, w_mn, w_sd = pickle.load(f)"
   ]
  },
  {
   "cell_type": "code",
   "execution_count": 8,
   "metadata": {},
   "outputs": [
    {
     "name": "stderr",
     "output_type": "stream",
     "text": [
      "C:\\azure-farmbeats-samples\\evi_forecast\\utils\\ard_util.py:148: RuntimeWarning: All-NaN slice encountered\n",
      "  np.nanmax(np.abs(np.array(da3.input_evi.to_list())), axis=(1, 2)) <= 1\n",
      "C:\\azure-farmbeats-samples\\evi_forecast\\utils\\ard_util.py:148: SettingWithCopyWarning: \n",
      "A value is trying to be set on a copy of a slice from a DataFrame.\n",
      "Try using .loc[row_indexer,col_indexer] = value instead\n",
      "\n",
      "See the caveats in the documentation: https://pandas.pydata.org/pandas-docs/stable/user_guide/indexing.html#returning-a-view-versus-a-copy\n",
      "  np.nanmax(np.abs(np.array(da3.input_evi.to_list())), axis=(1, 2)) <= 1\n",
      "C:\\azure-farmbeats-samples\\evi_forecast\\utils\\ard_util.py:151: RuntimeWarning: All-NaN slice encountered\n",
      "  np.nanmax(np.abs(np.array(da3.output_evi.to_list())), axis=(1, 2)) <= 1\n",
      "C:\\azure-farmbeats-samples\\evi_forecast\\utils\\ard_util.py:151: SettingWithCopyWarning: \n",
      "A value is trying to be set on a copy of a slice from a DataFrame.\n",
      "Try using .loc[row_indexer,col_indexer] = value instead\n",
      "\n",
      "See the caveats in the documentation: https://pandas.pydata.org/pandas-docs/stable/user_guide/indexing.html#returning-a-view-versus-a-copy\n",
      "  np.nanmax(np.abs(np.array(da3.output_evi.to_list())), axis=(1, 2)) <= 1\n",
      "C:\\azure-farmbeats-samples\\evi_forecast\\utils\\ard_util.py:155: SettingWithCopyWarning: \n",
      "A value is trying to be set on a copy of a slice from a DataFrame.\n",
      "Try using .loc[row_indexer,col_indexer] = value instead\n",
      "\n",
      "See the caveats in the documentation: https://pandas.pydata.org/pandas-docs/stable/user_guide/indexing.html#returning-a-view-versus-a-copy\n",
      "  np.sum(np.isnan(np.array(x))) == 0 for x in da3.input_evi.values\n"
     ]
    }
   ],
   "source": [
    "ard = ard_preprocess(\n",
    "        sat_links1=sat_links1,\n",
    "        w_df=w_df,\n",
    "        sat_res_x=1,\n",
    "        var_name=CONSTANTS[\"var_name\"],\n",
    "        interp_date_start=end_dt_w - timedelta(days=60),\n",
    "        interp_date_end=end_dt_w,\n",
    "        w_parms=w_parms,\n",
    "        input_days=CONSTANTS[\"input_days\"],\n",
    "        output_days=CONSTANTS[\"output_days\"],\n",
    "        ref_tm=start_dt_w.strftime(\"%d-%m-%Y\"),\n",
    "        w_mn=w_mn,\n",
    "        w_sd=w_sd,\n",
    "    )\n",
    "\n",
    "frcst_st_dt  = end_dt_w"
   ]
  },
  {
   "cell_type": "code",
   "execution_count": 9,
   "metadata": {},
   "outputs": [
    {
     "name": "stdout",
     "output_type": "stream",
     "text": [
      "Warning: NaNs found in the input data\n",
      "Warning: input data outside range of (-1,1) found\n"
     ]
    }
   ],
   "source": [
    "# raise exception if ARD is empty\n",
    "if ard.shape[0] == 0:\n",
    "    raise Exception(\"Analysis ready dataset is empty\")\n",
    "# raise exception if data spills into multiple rows\n",
    "if ard.query(\"grp1_ > 0\").shape[0] > 0:\n",
    "    raise Exception(\n",
    "        \"More than one record has been found for more than one pixel\"\n",
    "    )\n",
    "# warning if nans are in input data or data is out of bounds\n",
    "if (\n",
    "    ard.query(\"not nan_input_evi\").shape[0] > 0\n",
    "    or ard.query(\"not nan_input_w\").shape[0] > 0\n",
    "    or ard.query(\"not nan_output_w\").shape[0] > 0\n",
    "):\n",
    "    print(\"Warning: NaNs found in the input data\")\n",
    "if (\n",
    "    ard.query(\n",
    "        \"nan_input_evi and nan_input_w and nan_output_w and  not input_evi_le1\"\n",
    "    ).shape[0]\n",
    "    > 0\n",
    "):\n",
    "    print(\"Warning: input data outside range of (-1,1) found\")"
   ]
  },
  {
   "cell_type": "code",
   "execution_count": 10,
   "metadata": {},
   "outputs": [],
   "source": [
    "# read model and weather normalization stats\n",
    "model = tf.keras.models.load_model(CONSTANTS[\"modelh5\"], compile=False)"
   ]
  },
  {
   "cell_type": "code",
   "execution_count": 11,
   "metadata": {},
   "outputs": [],
   "source": [
    "# model prediction\n",
    "label = model.predict(\n",
    "    [\n",
    "        np.array(ard.input_evi.to_list()),\n",
    "        np.array(ard.input_weather.to_list()),\n",
    "        np.array(ard.forecast_weather.to_list()),\n",
    "    ]\n",
    ")\n",
    "label_names = [\n",
    "    (frcst_st_dt + timedelta(days=i + 1)).strftime(\"%Y-%m-%d\")\n",
    "    for i in range(CONSTANTS[\"output_days\"])\n",
    "]\n",
    "\n",
    "\n",
    "tmp_df = pd.DataFrame(label[:, :, 0], columns=label_names).assign(\n",
    "    lat=ard.lat_.values, long=ard.long_.values\n",
    ")"
   ]
  },
  {
   "cell_type": "code",
   "execution_count": 12,
   "metadata": {},
   "outputs": [
    {
     "data": {
      "text/html": [
       "<div>\n",
       "<style scoped>\n",
       "    .dataframe tbody tr th:only-of-type {\n",
       "        vertical-align: middle;\n",
       "    }\n",
       "\n",
       "    .dataframe tbody tr th {\n",
       "        vertical-align: top;\n",
       "    }\n",
       "\n",
       "    .dataframe thead th {\n",
       "        text-align: right;\n",
       "    }\n",
       "</style>\n",
       "<table border=\"1\" class=\"dataframe\">\n",
       "  <thead>\n",
       "    <tr style=\"text-align: right;\">\n",
       "      <th></th>\n",
       "      <th>2021-04-23</th>\n",
       "      <th>2021-04-24</th>\n",
       "      <th>2021-04-25</th>\n",
       "      <th>2021-04-26</th>\n",
       "      <th>2021-04-27</th>\n",
       "      <th>2021-04-28</th>\n",
       "      <th>2021-04-29</th>\n",
       "      <th>2021-04-30</th>\n",
       "      <th>2021-05-01</th>\n",
       "      <th>2021-05-02</th>\n",
       "      <th>lat</th>\n",
       "      <th>long</th>\n",
       "    </tr>\n",
       "  </thead>\n",
       "  <tbody>\n",
       "    <tr>\n",
       "      <th>0</th>\n",
       "      <td>NaN</td>\n",
       "      <td>NaN</td>\n",
       "      <td>NaN</td>\n",
       "      <td>NaN</td>\n",
       "      <td>NaN</td>\n",
       "      <td>NaN</td>\n",
       "      <td>NaN</td>\n",
       "      <td>NaN</td>\n",
       "      <td>NaN</td>\n",
       "      <td>NaN</td>\n",
       "      <td>-97.065187</td>\n",
       "      <td>46.659102</td>\n",
       "    </tr>\n",
       "    <tr>\n",
       "      <th>1</th>\n",
       "      <td>0.079336</td>\n",
       "      <td>0.088724</td>\n",
       "      <td>0.108454</td>\n",
       "      <td>0.114668</td>\n",
       "      <td>0.113276</td>\n",
       "      <td>0.111249</td>\n",
       "      <td>0.117317</td>\n",
       "      <td>0.135091</td>\n",
       "      <td>0.124899</td>\n",
       "      <td>0.120134</td>\n",
       "      <td>-97.065187</td>\n",
       "      <td>46.659193</td>\n",
       "    </tr>\n",
       "    <tr>\n",
       "      <th>2</th>\n",
       "      <td>0.077456</td>\n",
       "      <td>0.086162</td>\n",
       "      <td>0.105506</td>\n",
       "      <td>0.111567</td>\n",
       "      <td>0.110157</td>\n",
       "      <td>0.108093</td>\n",
       "      <td>0.114102</td>\n",
       "      <td>0.131859</td>\n",
       "      <td>0.121838</td>\n",
       "      <td>0.117109</td>\n",
       "      <td>-97.065187</td>\n",
       "      <td>46.659283</td>\n",
       "    </tr>\n",
       "    <tr>\n",
       "      <th>3</th>\n",
       "      <td>0.072154</td>\n",
       "      <td>0.078948</td>\n",
       "      <td>0.097214</td>\n",
       "      <td>0.102844</td>\n",
       "      <td>0.101383</td>\n",
       "      <td>0.099208</td>\n",
       "      <td>0.105052</td>\n",
       "      <td>0.122769</td>\n",
       "      <td>0.113230</td>\n",
       "      <td>0.108604</td>\n",
       "      <td>-97.065187</td>\n",
       "      <td>46.659373</td>\n",
       "    </tr>\n",
       "    <tr>\n",
       "      <th>4</th>\n",
       "      <td>0.076465</td>\n",
       "      <td>0.084815</td>\n",
       "      <td>0.103957</td>\n",
       "      <td>0.109938</td>\n",
       "      <td>0.108519</td>\n",
       "      <td>0.106435</td>\n",
       "      <td>0.112413</td>\n",
       "      <td>0.130159</td>\n",
       "      <td>0.120228</td>\n",
       "      <td>0.115519</td>\n",
       "      <td>-97.065187</td>\n",
       "      <td>46.659463</td>\n",
       "    </tr>\n",
       "    <tr>\n",
       "      <th>...</th>\n",
       "      <td>...</td>\n",
       "      <td>...</td>\n",
       "      <td>...</td>\n",
       "      <td>...</td>\n",
       "      <td>...</td>\n",
       "      <td>...</td>\n",
       "      <td>...</td>\n",
       "      <td>...</td>\n",
       "      <td>...</td>\n",
       "      <td>...</td>\n",
       "      <td>...</td>\n",
       "      <td>...</td>\n",
       "    </tr>\n",
       "    <tr>\n",
       "      <th>12007</th>\n",
       "      <td>0.084445</td>\n",
       "      <td>0.095734</td>\n",
       "      <td>0.116516</td>\n",
       "      <td>0.123153</td>\n",
       "      <td>0.121815</td>\n",
       "      <td>0.119896</td>\n",
       "      <td>0.126120</td>\n",
       "      <td>0.143919</td>\n",
       "      <td>0.133269</td>\n",
       "      <td>0.128410</td>\n",
       "      <td>-97.057108</td>\n",
       "      <td>46.670567</td>\n",
       "    </tr>\n",
       "    <tr>\n",
       "      <th>12008</th>\n",
       "      <td>0.084445</td>\n",
       "      <td>0.095734</td>\n",
       "      <td>0.116516</td>\n",
       "      <td>0.123153</td>\n",
       "      <td>0.121815</td>\n",
       "      <td>0.119896</td>\n",
       "      <td>0.126120</td>\n",
       "      <td>0.143919</td>\n",
       "      <td>0.133269</td>\n",
       "      <td>0.128410</td>\n",
       "      <td>-97.057108</td>\n",
       "      <td>46.670657</td>\n",
       "    </tr>\n",
       "    <tr>\n",
       "      <th>12009</th>\n",
       "      <td>0.084123</td>\n",
       "      <td>0.095295</td>\n",
       "      <td>0.116010</td>\n",
       "      <td>0.122621</td>\n",
       "      <td>0.121280</td>\n",
       "      <td>0.119355</td>\n",
       "      <td>0.125569</td>\n",
       "      <td>0.143364</td>\n",
       "      <td>0.132743</td>\n",
       "      <td>0.127890</td>\n",
       "      <td>-97.057108</td>\n",
       "      <td>46.670747</td>\n",
       "    </tr>\n",
       "    <tr>\n",
       "      <th>12010</th>\n",
       "      <td>0.080978</td>\n",
       "      <td>0.090986</td>\n",
       "      <td>0.111051</td>\n",
       "      <td>0.117402</td>\n",
       "      <td>0.116030</td>\n",
       "      <td>0.114042</td>\n",
       "      <td>0.120158</td>\n",
       "      <td>0.137928</td>\n",
       "      <td>0.127590</td>\n",
       "      <td>0.122796</td>\n",
       "      <td>-97.057108</td>\n",
       "      <td>46.670837</td>\n",
       "    </tr>\n",
       "    <tr>\n",
       "      <th>12011</th>\n",
       "      <td>NaN</td>\n",
       "      <td>NaN</td>\n",
       "      <td>NaN</td>\n",
       "      <td>NaN</td>\n",
       "      <td>NaN</td>\n",
       "      <td>NaN</td>\n",
       "      <td>NaN</td>\n",
       "      <td>NaN</td>\n",
       "      <td>NaN</td>\n",
       "      <td>NaN</td>\n",
       "      <td>-97.057108</td>\n",
       "      <td>46.670928</td>\n",
       "    </tr>\n",
       "  </tbody>\n",
       "</table>\n",
       "<p>12012 rows × 12 columns</p>\n",
       "</div>"
      ],
      "text/plain": [
       "       2021-04-23  2021-04-24  2021-04-25  2021-04-26  2021-04-27  2021-04-28  \\\n",
       "0             NaN         NaN         NaN         NaN         NaN         NaN   \n",
       "1        0.079336    0.088724    0.108454    0.114668    0.113276    0.111249   \n",
       "2        0.077456    0.086162    0.105506    0.111567    0.110157    0.108093   \n",
       "3        0.072154    0.078948    0.097214    0.102844    0.101383    0.099208   \n",
       "4        0.076465    0.084815    0.103957    0.109938    0.108519    0.106435   \n",
       "...           ...         ...         ...         ...         ...         ...   \n",
       "12007    0.084445    0.095734    0.116516    0.123153    0.121815    0.119896   \n",
       "12008    0.084445    0.095734    0.116516    0.123153    0.121815    0.119896   \n",
       "12009    0.084123    0.095295    0.116010    0.122621    0.121280    0.119355   \n",
       "12010    0.080978    0.090986    0.111051    0.117402    0.116030    0.114042   \n",
       "12011         NaN         NaN         NaN         NaN         NaN         NaN   \n",
       "\n",
       "       2021-04-29  2021-04-30  2021-05-01  2021-05-02        lat       long  \n",
       "0             NaN         NaN         NaN         NaN -97.065187  46.659102  \n",
       "1        0.117317    0.135091    0.124899    0.120134 -97.065187  46.659193  \n",
       "2        0.114102    0.131859    0.121838    0.117109 -97.065187  46.659283  \n",
       "3        0.105052    0.122769    0.113230    0.108604 -97.065187  46.659373  \n",
       "4        0.112413    0.130159    0.120228    0.115519 -97.065187  46.659463  \n",
       "...           ...         ...         ...         ...        ...        ...  \n",
       "12007    0.126120    0.143919    0.133269    0.128410 -97.057108  46.670567  \n",
       "12008    0.126120    0.143919    0.133269    0.128410 -97.057108  46.670657  \n",
       "12009    0.125569    0.143364    0.132743    0.127890 -97.057108  46.670747  \n",
       "12010    0.120158    0.137928    0.127590    0.122796 -97.057108  46.670837  \n",
       "12011         NaN         NaN         NaN         NaN -97.057108  46.670928  \n",
       "\n",
       "[12012 rows x 12 columns]"
      ]
     },
     "execution_count": 12,
     "metadata": {},
     "output_type": "execute_result"
    }
   ],
   "source": [
    "tmp_df"
   ]
  },
  {
   "cell_type": "markdown",
   "metadata": {},
   "source": [
    "### Write output to TIF files"
   ]
  },
  {
   "cell_type": "code",
   "execution_count": 13,
   "metadata": {},
   "outputs": [],
   "source": [
    "%matplotlib inline\n",
    "import time\n",
    "from IPython import display\n",
    "from rasterio.plot import show\n",
    "\n",
    "output_dir = \"results//\"\n",
    "ref_tif = sat_links1.filePath.values[0]\n",
    "with rasterio.open(ref_tif) as src:\n",
    "    ras_meta = src.profile"
   ]
  },
  {
   "cell_type": "code",
   "execution_count": 14,
   "metadata": {},
   "outputs": [],
   "source": [
    "for coln in tmp_df.columns[:-2]:\n",
    "    data_array = np.array(tmp_df[coln]).reshape(src.shape)\n",
    "    with rasterio.open(os.path.join(output_dir, coln + '.tif'), 'w', **ras_meta) as dst:\n",
    "        dst.write(data_array, indexes=1)"
   ]
  },
  {
   "cell_type": "markdown",
   "metadata": {},
   "source": [
    "### Visualize EVI Forecast Maps"
   ]
  },
  {
   "cell_type": "code",
   "execution_count": 1,
   "metadata": {},
   "outputs": [
    {
     "ename": "NameError",
     "evalue": "name 'tmp_df' is not defined",
     "output_type": "error",
     "traceback": [
      "\u001b[1;31m---------------------------------------------------------------------------\u001b[0m",
      "\u001b[1;31mNameError\u001b[0m                                 Traceback (most recent call last)",
      "\u001b[1;32m<ipython-input-1-7207114f6580>\u001b[0m in \u001b[0;36m<module>\u001b[1;34m\u001b[0m\n\u001b[1;32m----> 1\u001b[1;33m \u001b[1;32mfor\u001b[0m \u001b[0mcoln\u001b[0m \u001b[1;32min\u001b[0m \u001b[0mtmp_df\u001b[0m\u001b[1;33m.\u001b[0m\u001b[0mcolumns\u001b[0m\u001b[1;33m[\u001b[0m\u001b[1;33m:\u001b[0m\u001b[1;33m-\u001b[0m\u001b[1;36m2\u001b[0m\u001b[1;33m]\u001b[0m\u001b[1;33m:\u001b[0m\u001b[1;33m\u001b[0m\u001b[1;33m\u001b[0m\u001b[0m\n\u001b[0m\u001b[0;32m      2\u001b[0m     \u001b[0msrc\u001b[0m \u001b[1;33m=\u001b[0m \u001b[0mrasterio\u001b[0m\u001b[1;33m.\u001b[0m\u001b[0mopen\u001b[0m\u001b[1;33m(\u001b[0m\u001b[0mos\u001b[0m\u001b[1;33m.\u001b[0m\u001b[0mpath\u001b[0m\u001b[1;33m.\u001b[0m\u001b[0mjoin\u001b[0m\u001b[1;33m(\u001b[0m\u001b[0moutput_dir\u001b[0m\u001b[1;33m,\u001b[0m \u001b[0mcoln\u001b[0m \u001b[1;33m+\u001b[0m \u001b[1;34m'.tif'\u001b[0m\u001b[1;33m)\u001b[0m\u001b[1;33m)\u001b[0m\u001b[1;33m\u001b[0m\u001b[1;33m\u001b[0m\u001b[0m\n\u001b[0;32m      3\u001b[0m     \u001b[0mshow\u001b[0m\u001b[1;33m(\u001b[0m\u001b[0msrc\u001b[0m\u001b[1;33m.\u001b[0m\u001b[0mread\u001b[0m\u001b[1;33m(\u001b[0m\u001b[1;33m)\u001b[0m\u001b[1;33m,\u001b[0m \u001b[0mtransform\u001b[0m\u001b[1;33m=\u001b[0m\u001b[0msrc\u001b[0m\u001b[1;33m.\u001b[0m\u001b[0mtransform\u001b[0m\u001b[1;33m,\u001b[0m \u001b[0mtitle\u001b[0m\u001b[1;33m=\u001b[0m\u001b[0mcoln\u001b[0m\u001b[1;33m)\u001b[0m\u001b[1;33m\u001b[0m\u001b[1;33m\u001b[0m\u001b[0m\n\u001b[0;32m      4\u001b[0m     \u001b[1;31m#show_hist(src)\u001b[0m\u001b[1;33m\u001b[0m\u001b[1;33m\u001b[0m\u001b[1;33m\u001b[0m\u001b[0m\n\u001b[0;32m      5\u001b[0m     \u001b[0mdisplay\u001b[0m\u001b[1;33m.\u001b[0m\u001b[0mclear_output\u001b[0m\u001b[1;33m(\u001b[0m\u001b[0mwait\u001b[0m\u001b[1;33m=\u001b[0m\u001b[1;32mTrue\u001b[0m\u001b[1;33m)\u001b[0m\u001b[1;33m\u001b[0m\u001b[1;33m\u001b[0m\u001b[0m\n",
      "\u001b[1;31mNameError\u001b[0m: name 'tmp_df' is not defined"
     ]
    }
   ],
   "source": [
    "for coln in tmp_df.columns[:-2]:\n",
    "    src = rasterio.open(os.path.join(output_dir, coln + '.tif'))\n",
    "    show(src.read(), transform=src.transform, title=coln)\n",
    "    #show_hist(src)\n",
    "    display.clear_output(wait=True)\n",
    "    time.sleep(1)  "
   ]
  }
 ],
 "metadata": {
  "kernel_info": {
   "name": "python3-azureml"
  },
  "kernelspec": {
   "display_name": "Python 3",
   "language": "python",
   "name": "python3"
  },
  "language_info": {
   "codemirror_mode": {
    "name": "ipython",
    "version": 3
   },
   "file_extension": ".py",
   "mimetype": "text/x-python",
   "name": "python",
   "nbconvert_exporter": "python",
   "pygments_lexer": "ipython3",
   "version": "3.8.5"
  },
  "nteract": {
   "version": "nteract-front-end@1.0.0"
  }
 },
 "nbformat": 4,
 "nbformat_minor": 5
}