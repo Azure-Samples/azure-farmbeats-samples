{
 "cells": [
  {
   "cell_type": "markdown",
   "id": "27d5048c",
   "metadata": {},
   "source": [
    "Copyright (c) Microsoft Corporation. All rights reserved.\n",
    "\n",
    "Licensed under the MIT License."
   ]
  },
  {
   "cell_type": "markdown",
   "id": "31bbabde",
   "metadata": {},
   "source": [
    "# Test EVI Forecast (local)"
   ]
  },
  {
   "cell_type": "code",
   "execution_count": 1,
   "id": "bd189610",
   "metadata": {},
   "outputs": [],
   "source": [
    "# Stanadard library imports\n",
    "import json\n",
    "import pickle\n",
    "import os\n",
    "import sys\n",
    "import requests\n",
    "from datetime import datetime,timedelta\n",
    "\n",
    "# Disable unnecessary logs \n",
    "import logging\n",
    "logging.disable(sys.maxsize)\n",
    "import warnings\n",
    "warnings.filterwarnings(\"ignore\")\n",
    "\n",
    "# Third party library imports\n",
    "import numpy as np\n",
    "import pandas as pd\n",
    "import rasterio\n",
    "import tensorflow as tf\n",
    "from tensorflow import keras\n",
    "\n",
    "# Local imports\n",
    "from utils.ard_util import ard_preprocess\n",
    "from utils.config import farmbeats_config\n",
    "from utils.constants import CONSTANTS\n",
    "from utils.satellite_util import SatelliteUtil\n",
    "from utils.test_helper import get_sat_weather_data\n",
    "from utils.weather_util import WeatherUtil\n",
    "\n",
    "# Azure imports\n",
    "from azure.identity import ClientSecretCredential\n",
    "\n",
    "# SDK imports\n",
    "from azure.farmbeats import FarmBeatsClient"
   ]
  },
  {
   "cell_type": "markdown",
   "id": "edeaa5af",
   "metadata": {},
   "source": [
    "### Farmbeats Configuration"
   ]
  },
  {
   "cell_type": "code",
   "execution_count": 2,
   "id": "1204dc26",
   "metadata": {},
   "outputs": [],
   "source": [
    "# FarmBeats Client definition\n",
    "credential = ClientSecretCredential(\n",
    "    tenant_id=farmbeats_config['tenant_id'],\n",
    "    client_id=farmbeats_config['client_id'],\n",
    "    client_secret=farmbeats_config['client_secret'],\n",
    "    authority=farmbeats_config['authority']\n",
    ")\n",
    "\n",
    "credential_scopes = [farmbeats_config['default_scope']]\n",
    "\n",
    "fb_client = FarmBeatsClient(\n",
    "    base_url=farmbeats_config['instance_url'],\n",
    "    credential=credential,\n",
    "    credential_scopes=credential_scopes,\n",
    "    logging_enable=True\n",
    ")"
   ]
  },
  {
   "cell_type": "markdown",
   "id": "f55eba81",
   "metadata": {},
   "source": [
    "### Forecast EVI for test Boundary"
   ]
  },
  {
   "cell_type": "markdown",
   "id": "75264342",
   "metadata": {},
   "source": [
    "#### Satellie Data"
   ]
  },
  {
   "cell_type": "code",
   "execution_count": 3,
   "id": "5f8af094",
   "metadata": {},
   "outputs": [],
   "source": [
    "farmer_id = \"contoso_farmer\"\n",
    "boundary_id = \"sample-boundary-32\" # TODO: Check later for geometry also\n",
    "bonudary_geometry = '[[-121.5283155441284,38.16172478418468],[-121.51544094085693,38.16172478418468],[-121.51544094085693,38.16791636919515],[-121.5283155441284,38.16791636919515],[-121.5283155441284,38.16172478418468]]'\n",
    "\n",
    "#TODO: Check if end_dt is not less than current date\n",
    "end_dt = datetime.strptime(datetime.now().strftime(\"%Y-%m-%d\"), \"%Y-%m-%d\")\n",
    "start_dt = end_dt - timedelta(days=60)"
   ]
  },
  {
   "cell_type": "code",
   "execution_count": 4,
   "id": "1c08e669",
   "metadata": {},
   "outputs": [
    {
     "name": "stdout",
     "output_type": "stream",
     "text": [
      "Farmer contoso_farmer Exists.\n",
      "Creating boundary with id sample-boundary-32... Created\n",
      "Queuing satellite job... Submitted Satellite Job\n",
      "Queuing weather job... Submitted Weather Job\n",
      "Queuing weather job... Submitted Weather Job\n",
      "Waiting for all jobs to complete\n",
      "Succeeded\n",
      "Succeeded\n",
      "Succeeded\n"
     ]
    }
   ],
   "source": [
    "# Create Boundary and get satelite and weather (historical and forecast)\n",
    "get_sat_weather_data(fb_client, \n",
    "                farmer_id, \n",
    "                boundary_id,\n",
    "                json.loads(bonudary_geometry), \n",
    "                start_dt, \n",
    "                end_dt)\n",
    "\n",
    "# get boundary object\n",
    "boundary = fb_client.boundaries.get(\n",
    "            farmer_id=farmer_id,\n",
    "            boundary_id=boundary_id\n",
    "        )"
   ]
  },
  {
   "cell_type": "code",
   "execution_count": 5,
   "id": "5f374378",
   "metadata": {},
   "outputs": [
    {
     "data": {
      "text/plain": [
       "{'farmer_id': 'contoso_farmer',\n",
       " 'geometry': {'type': 'Polygon',\n",
       "  'coordinates': [[[-121.5283155441284, 38.16172478418468],\n",
       "    [-121.51544094085693, 38.16172478418468],\n",
       "    [-121.51544094085693, 38.16791636919515],\n",
       "    [-121.5283155441284, 38.16791636919515],\n",
       "    [-121.5283155441284, 38.16172478418468]]]},\n",
       " 'is_primary': False,\n",
       " 'acreage': 191.48800387051892,\n",
       " 'id': 'sample-boundary-32',\n",
       " 'e_tag': '870060f4-0000-0700-0000-609f6aa90000',\n",
       " 'created_date_time': '2021-05-15T06:31:05.000Z',\n",
       " 'modified_date_time': '2021-05-15T06:31:05.000Z',\n",
       " 'description': 'Created by SDK'}"
      ]
     },
     "execution_count": 5,
     "metadata": {},
     "output_type": "execute_result"
    }
   ],
   "source": [
    "boundary.as_dict()"
   ]
  },
  {
   "cell_type": "code",
   "execution_count": 6,
   "id": "7dccd3ae",
   "metadata": {},
   "outputs": [
    {
     "name": "stdout",
     "output_type": "stream",
     "text": [
      "Downloading Images to Local ...\n",
      "Finished Downloading!\n"
     ]
    }
   ],
   "source": [
    "root_dir = CONSTANTS['root_dir']\n",
    "\n",
    "sat_links = SatelliteUtil(farmbeats_client = fb_client).download_and_get_sat_file_paths(farmer_id, [boundary], start_dt, end_dt, root_dir)\n",
    "\n",
    "# get last available data of satellite data\n",
    "end_dt_w = datetime.strptime(\n",
    "    sat_links.sceneDateTime.sort_values(ascending=False).values[0][:10], \"%Y-%m-%d\"\n",
    ")\n",
    "# calculate 30 days from last satellite available date\n",
    "start_dt_w = end_dt_w - timedelta(days=CONSTANTS[\"input_days\"] - 1)"
   ]
  },
  {
   "cell_type": "markdown",
   "id": "83795a6f",
   "metadata": {},
   "source": [
    "#### Weather Data"
   ]
  },
  {
   "cell_type": "code",
   "execution_count": 7,
   "id": "6b368524",
   "metadata": {},
   "outputs": [],
   "source": [
    "# get weather data historical\n",
    "weather_list = fb_client.weather.list(\n",
    "            farmer_id=  boundary.farmer_id,\n",
    "            boundary_id= boundary.id,\n",
    "            start_date_time=start_dt_w,\n",
    "            end_date_time=end_dt,\n",
    "            extension_id=farmbeats_config['weather_provider_extension_id'],\n",
    "            weather_data_type= \"historical\", \n",
    "            granularity=\"daily\")\n",
    "weather_data = []\n",
    "for w_data in weather_list:\n",
    "    weather_data.append(w_data)\n",
    "w_df_hist = WeatherUtil.get_weather_data_df(weather_data)"
   ]
  },
  {
   "cell_type": "code",
   "execution_count": 8,
   "id": "0c07c537",
   "metadata": {},
   "outputs": [],
   "source": [
    "# get weather data forecast\n",
    "weather_list = fb_client.weather.list(\n",
    "            farmer_id=  boundary.farmer_id,\n",
    "            boundary_id= boundary.id,\n",
    "            start_date_time=end_dt,\n",
    "            end_date_time=end_dt + timedelta(10),\n",
    "            extension_id=farmbeats_config['weather_provider_extension_id'], \n",
    "            weather_data_type= \"forecast\", \n",
    "            granularity=\"daily\")\n",
    "\n",
    "weather_data = []\n",
    "for w_data in weather_list:\n",
    "    weather_data.append(w_data)\n",
    "w_df_forecast = WeatherUtil.get_weather_data_df(weather_data)"
   ]
  },
  {
   "cell_type": "code",
   "execution_count": 9,
   "id": "294b96ef",
   "metadata": {},
   "outputs": [],
   "source": [
    "# merge weather data\n",
    "weather_df = pd.concat([w_df_hist, w_df_forecast], axis=0, ignore_index=True)\n",
    "\n",
    "with open(CONSTANTS[\"w_pkl\"], \"rb\") as f:\n",
    "    w_parms, weather_mean, weather_std = pickle.load(f)"
   ]
  },
  {
   "cell_type": "markdown",
   "id": "8f9e1902",
   "metadata": {},
   "source": [
    "### Prepare ARD for test boundary"
   ]
  },
  {
   "cell_type": "code",
   "execution_count": 10,
   "id": "c889c5d9",
   "metadata": {},
   "outputs": [],
   "source": [
    "ard = ard_preprocess(\n",
    "        sat_file_links=sat_links,\n",
    "        w_df=weather_df,\n",
    "        sat_res_x=1,\n",
    "        var_name=CONSTANTS[\"var_name\"],\n",
    "        interp_date_start=end_dt_w - timedelta(days=60),\n",
    "        interp_date_end=end_dt_w,\n",
    "        w_parms=w_parms,\n",
    "        input_days=CONSTANTS[\"input_days\"],\n",
    "        output_days=CONSTANTS[\"output_days\"],\n",
    "        ref_tm=start_dt_w.strftime(\"%d-%m-%Y\"),\n",
    "        w_mn=weather_mean,\n",
    "        w_sd=weather_std,\n",
    "    )\n",
    "\n",
    "frcst_st_dt  = end_dt_w"
   ]
  },
  {
   "cell_type": "code",
   "execution_count": 11,
   "id": "b38d6953",
   "metadata": {},
   "outputs": [
    {
     "name": "stdout",
     "output_type": "stream",
     "text": [
      "Warning: NaNs found in the input data\n"
     ]
    }
   ],
   "source": [
    "# raise exception if ARD is empty\n",
    "if ard.shape[0] == 0:\n",
    "    raise Exception(\"Analysis ready dataset is empty\")\n",
    "# raise exception if data spills into multiple rows\n",
    "if ard.query(\"grp1_ > 0\").shape[0] > 0:\n",
    "    raise Exception(\n",
    "        \"More than one record has been found for more than one pixel\"\n",
    "    )\n",
    "# warning if nans are in input data or data is out of bounds\n",
    "if (\n",
    "    ard.query(\"not nan_input_evi\").shape[0] > 0\n",
    "    or ard.query(\"not nan_input_w\").shape[0] > 0\n",
    "    or ard.query(\"not nan_output_w\").shape[0] > 0\n",
    "):\n",
    "    print(\"Warning: NaNs found in the input data\")\n",
    "if (\n",
    "    ard.query(\n",
    "        \"nan_input_evi and nan_input_w and nan_output_w and  not input_evi_le1\"\n",
    "    ).shape[0]\n",
    "    > 0\n",
    "):\n",
    "    print(\"Warning: input data outside range of (-1,1) found\")"
   ]
  },
  {
   "cell_type": "markdown",
   "id": "3cbbc3e5",
   "metadata": {},
   "source": [
    "### Load Model"
   ]
  },
  {
   "cell_type": "code",
   "execution_count": 12,
   "id": "0c44fd60",
   "metadata": {},
   "outputs": [],
   "source": [
    "# read model and weather normalization stats\n",
    "model = tf.keras.models.load_model(CONSTANTS[\"modelh5\"], compile=False)"
   ]
  },
  {
   "cell_type": "markdown",
   "id": "3c965687",
   "metadata": {},
   "source": [
    "### Model Predictions"
   ]
  },
  {
   "cell_type": "code",
   "execution_count": 13,
   "id": "46be15d4",
   "metadata": {},
   "outputs": [],
   "source": [
    "# model prediction\n",
    "label = model.predict(\n",
    "    [\n",
    "        np.array(ard.input_evi.to_list()),\n",
    "        np.array(ard.input_weather.to_list()),\n",
    "        np.array(ard.forecast_weather.to_list()),\n",
    "    ]\n",
    ")\n",
    "label_names = [\n",
    "    (frcst_st_dt + timedelta(days=i + 1)).strftime(\"%Y-%m-%d\")\n",
    "    for i in range(CONSTANTS[\"output_days\"])\n",
    "]\n",
    "\n",
    "\n",
    "pred_df = pd.DataFrame(label[:, :, 0], columns=label_names).assign(\n",
    "    lat=ard.lat_.values, long=ard.long_.values\n",
    ")"
   ]
  },
  {
   "cell_type": "code",
   "execution_count": 14,
   "id": "c482867c",
   "metadata": {},
   "outputs": [
    {
     "data": {
      "text/html": [
       "<div>\n",
       "<style scoped>\n",
       "    .dataframe tbody tr th:only-of-type {\n",
       "        vertical-align: middle;\n",
       "    }\n",
       "\n",
       "    .dataframe tbody tr th {\n",
       "        vertical-align: top;\n",
       "    }\n",
       "\n",
       "    .dataframe thead th {\n",
       "        text-align: right;\n",
       "    }\n",
       "</style>\n",
       "<table border=\"1\" class=\"dataframe\">\n",
       "  <thead>\n",
       "    <tr style=\"text-align: right;\">\n",
       "      <th></th>\n",
       "      <th>2021-05-10</th>\n",
       "      <th>2021-05-11</th>\n",
       "      <th>2021-05-12</th>\n",
       "      <th>2021-05-13</th>\n",
       "      <th>2021-05-14</th>\n",
       "      <th>2021-05-15</th>\n",
       "      <th>2021-05-16</th>\n",
       "      <th>2021-05-17</th>\n",
       "      <th>2021-05-18</th>\n",
       "      <th>2021-05-19</th>\n",
       "      <th>lat</th>\n",
       "      <th>long</th>\n",
       "    </tr>\n",
       "  </thead>\n",
       "  <tbody>\n",
       "    <tr>\n",
       "      <th>0</th>\n",
       "      <td>0.0</td>\n",
       "      <td>0.0</td>\n",
       "      <td>0.0</td>\n",
       "      <td>0.0</td>\n",
       "      <td>NaN</td>\n",
       "      <td>NaN</td>\n",
       "      <td>NaN</td>\n",
       "      <td>NaN</td>\n",
       "      <td>NaN</td>\n",
       "      <td>NaN</td>\n",
       "      <td>38.167916</td>\n",
       "      <td>-121.528316</td>\n",
       "    </tr>\n",
       "    <tr>\n",
       "      <th>1</th>\n",
       "      <td>0.0</td>\n",
       "      <td>0.0</td>\n",
       "      <td>0.0</td>\n",
       "      <td>0.0</td>\n",
       "      <td>NaN</td>\n",
       "      <td>NaN</td>\n",
       "      <td>NaN</td>\n",
       "      <td>NaN</td>\n",
       "      <td>NaN</td>\n",
       "      <td>NaN</td>\n",
       "      <td>38.167916</td>\n",
       "      <td>-121.528226</td>\n",
       "    </tr>\n",
       "    <tr>\n",
       "      <th>2</th>\n",
       "      <td>0.0</td>\n",
       "      <td>0.0</td>\n",
       "      <td>0.0</td>\n",
       "      <td>0.0</td>\n",
       "      <td>NaN</td>\n",
       "      <td>NaN</td>\n",
       "      <td>NaN</td>\n",
       "      <td>NaN</td>\n",
       "      <td>NaN</td>\n",
       "      <td>NaN</td>\n",
       "      <td>38.167916</td>\n",
       "      <td>-121.528135</td>\n",
       "    </tr>\n",
       "    <tr>\n",
       "      <th>3</th>\n",
       "      <td>0.0</td>\n",
       "      <td>0.0</td>\n",
       "      <td>0.0</td>\n",
       "      <td>0.0</td>\n",
       "      <td>NaN</td>\n",
       "      <td>NaN</td>\n",
       "      <td>NaN</td>\n",
       "      <td>NaN</td>\n",
       "      <td>NaN</td>\n",
       "      <td>NaN</td>\n",
       "      <td>38.167916</td>\n",
       "      <td>-121.528045</td>\n",
       "    </tr>\n",
       "    <tr>\n",
       "      <th>4</th>\n",
       "      <td>0.0</td>\n",
       "      <td>0.0</td>\n",
       "      <td>0.0</td>\n",
       "      <td>0.0</td>\n",
       "      <td>NaN</td>\n",
       "      <td>NaN</td>\n",
       "      <td>NaN</td>\n",
       "      <td>NaN</td>\n",
       "      <td>NaN</td>\n",
       "      <td>NaN</td>\n",
       "      <td>38.167916</td>\n",
       "      <td>-121.527955</td>\n",
       "    </tr>\n",
       "  </tbody>\n",
       "</table>\n",
       "</div>"
      ],
      "text/plain": [
       "   2021-05-10  2021-05-11  2021-05-12  2021-05-13  2021-05-14  2021-05-15  \\\n",
       "0         0.0         0.0         0.0         0.0         NaN         NaN   \n",
       "1         0.0         0.0         0.0         0.0         NaN         NaN   \n",
       "2         0.0         0.0         0.0         0.0         NaN         NaN   \n",
       "3         0.0         0.0         0.0         0.0         NaN         NaN   \n",
       "4         0.0         0.0         0.0         0.0         NaN         NaN   \n",
       "\n",
       "   2021-05-16  2021-05-17  2021-05-18  2021-05-19        lat        long  \n",
       "0         NaN         NaN         NaN         NaN  38.167916 -121.528316  \n",
       "1         NaN         NaN         NaN         NaN  38.167916 -121.528226  \n",
       "2         NaN         NaN         NaN         NaN  38.167916 -121.528135  \n",
       "3         NaN         NaN         NaN         NaN  38.167916 -121.528045  \n",
       "4         NaN         NaN         NaN         NaN  38.167916 -121.527955  "
      ]
     },
     "execution_count": 14,
     "metadata": {},
     "output_type": "execute_result"
    }
   ],
   "source": [
    "pred_df.head()"
   ]
  },
  {
   "cell_type": "markdown",
   "id": "38702e3c",
   "metadata": {},
   "source": [
    "### Write output to TIF files"
   ]
  },
  {
   "cell_type": "code",
   "execution_count": 15,
   "id": "e37e18ca",
   "metadata": {},
   "outputs": [],
   "source": [
    "%matplotlib inline\n",
    "import time\n",
    "from IPython import display\n",
    "from rasterio.plot import show\n",
    "\n",
    "output_dir = \"results/\"\n",
    "ref_tif = sat_links.filePath.values[0]\n",
    "with rasterio.open(ref_tif) as src:\n",
    "    ras_meta = src.profile"
   ]
  },
  {
   "cell_type": "code",
   "execution_count": 16,
   "id": "32662681",
   "metadata": {},
   "outputs": [],
   "source": [
    "for coln in pred_df.columns[:-2]: # Skip last 2 columns: lattiude, longitude\n",
    "    data_array = np.array(pred_df[coln]).reshape(src.shape)\n",
    "    with rasterio.open(os.path.join(output_dir, coln + '.tif'), 'w', **ras_meta) as dst:\n",
    "        dst.write(data_array, indexes=1)"
   ]
  },
  {
   "cell_type": "markdown",
   "id": "2cdee41f",
   "metadata": {},
   "source": [
    "### Visualize EVI Forecast Maps"
   ]
  },
  {
   "cell_type": "code",
   "execution_count": 17,
   "id": "c008861e",
   "metadata": {},
   "outputs": [
    {
     "data": {
      "image/png": "[encoded data removed]",
      "text/plain": [
       "<Figure size 432x288 with 1 Axes>"
      ]
     },
     "metadata": {
      "needs_background": "light"
     },
     "output_type": "display_data"
    }
   ],
   "source": [
    "for coln in pred_df.columns[:-2]: # Skip last 2 columns: lattiude, longitude\n",
    "    src = rasterio.open(os.path.join(output_dir, coln + '.tif'))\n",
    "    show(src.read(), transform=src.transform, title=coln)\n",
    "    #show_hist(src)\n",
    "    display.clear_output(wait=True)\n",
    "    time.sleep(1)  "
   ]
  }
 ],
 "metadata": {
  "kernel_info": {
   "name": "python3-azureml"
  },
  "kernelspec": {
   "display_name": "Python 3.6 - AzureML",
   "language": "python",
   "name": "python3-azureml"
  },
  "language_info": {
   "codemirror_mode": {
    "name": "ipython",
    "version": 3
   },
   "file_extension": ".py",
   "mimetype": "text/x-python",
   "name": "python",
   "nbconvert_exporter": "python",
   "pygments_lexer": "ipython3",
   "version": "3.6.9"
  },
  "nteract": {
   "version": "nteract-front-end@1.0.0"
  }
 },
 "nbformat": 4,
 "nbformat_minor": 5
}
