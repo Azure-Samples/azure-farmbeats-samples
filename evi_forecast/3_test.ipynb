{
 "cells": [
  {
   "cell_type": "markdown",
   "id": "98f6f319",
   "metadata": {},
   "source": [
    "# Test EVI Forecast (local)"
   ]
  },
  {
   "cell_type": "code",
   "execution_count": 1,
   "id": "furnished-patient",
   "metadata": {},
   "outputs": [],
   "source": [
    "# System Imports\n",
    "import json\n",
    "import pickle\n",
    "import os\n",
    "import requests\n",
    "from datetime import datetime,timedelta\n",
    "\n",
    "#3rd Party Imports\n",
    "import numpy as np\n",
    "import pandas as pd\n",
    "import rasterio\n",
    "import tensorflow as tf\n",
    "from azure.identity import ClientSecretCredential\n",
    "from tensorflow import keras\n",
    "\n",
    "\n",
    "# Local Imports\n",
    "from azure.farmbeats.models import Farmer, Boundary, Polygon, SatelliteIngestionJobRequest, WeatherIngestionJobRequest\n",
    "from azure.farmbeats import FarmBeatsClient\n",
    "from utils.config import farmbeats_config\n",
    "from utils.weather_util import WeatherUtil\n",
    "from utils.satellite_util import SatelliteUtil\n",
    "from utils.constants import CONSTANTS\n",
    "from utils.ard_util import ard_preprocess\n",
    "\n",
    "# Disable unnecessary logs\n",
    "import sys\n",
    "import logging\n",
    "logging.disable(sys.maxsize)"
   ]
  },
  {
   "cell_type": "markdown",
   "id": "89268b2a",
   "metadata": {},
   "source": [
    "### Farmbeats Configuration"
   ]
  },
  {
   "cell_type": "code",
   "execution_count": 2,
   "id": "41016fcb",
   "metadata": {},
   "outputs": [],
   "source": [
    "# FarmBeats Client definition\n",
    "credential = ClientSecretCredential(\n",
    "    tenant_id=\"e21b7e4f-4b6c-4ead-bb26-b615da83f381\",\n",
    "    client_id=\"640027d7-3e96-49fc-8ecf-775f47a1e7b8\",\n",
    "    client_secret=\"rC.NHz~YPJn_xKGMh-OTg3M4P2kn6EbI90\",\n",
    "    authority=\"https://login.windows-ppe.net\"\n",
    ")\n",
    "\n",
    "credential_scopes = [\"https://farmbeats-dogfood.azure.net/.default\"]\n",
    "\n",
    "fb_client = FarmBeatsClient(\n",
    "    base_url=\"https://agadhibjs-one.farmbeats-dogfood.azure.net\",\n",
    "    credential=credential,\n",
    "    credential_scopes=credential_scopes,\n",
    "    logging_enable=True\n",
    ")"
   ]
  },
  {
   "cell_type": "markdown",
   "id": "b3320cd5",
   "metadata": {},
   "source": [
    "### Forecast EVI for test Boundary"
   ]
  },
  {
   "cell_type": "markdown",
   "id": "58a93f48",
   "metadata": {},
   "source": [
    "#### Satellite Data"
   ]
  },
  {
   "cell_type": "code",
   "execution_count": 3,
   "id": "a659c58a",
   "metadata": {},
   "outputs": [],
   "source": [
    "farmer_id = \"annam_farmer\"\n",
    "boundary_id = \"boundary055\"\n",
    "\n",
    "end_dt = datetime.strptime(datetime.now().strftime(\"%Y-%m-%d\"), \"%Y-%m-%d\")\n",
    "start_dt = end_dt - timedelta(days=60)\n",
    "\n",
    "# get boundary object\n",
    "boundary = fb_client.boundaries.get(\n",
    "            farmer_id=farmer_id,\n",
    "            boundary_id=boundary_id\n",
    "        )\n",
    "\n",
    "root_dir = \"C:\\\\farmbeats\\\\\""
   ]
  },
  {
   "cell_type": "code",
   "execution_count": 4,
   "id": "065b6d05",
   "metadata": {},
   "outputs": [
    {
     "name": "stdout",
     "output_type": "stream",
     "text": [
      "Downloading Images to Local ...\n",
      "Finished Downloading!!\n"
     ]
    },
    {
     "name": "stderr",
     "output_type": "stream",
     "text": [
      "C:\\azure-farmbeats-samples\\evi_forecast\\utils\\satellite_util.py:137: SettingWithCopyWarning: \n",
      "A value is trying to be set on a copy of a slice from a DataFrame.\n",
      "Try using .loc[row_indexer,col_indexer] = value instead\n",
      "\n",
      "See the caveats in the documentation: https://pandas.pydata.org/pandas-docs/stable/user_guide/indexing.html#returning-a-view-versus-a-copy\n",
      "  ).name.transform(len)\n",
      "C:\\azure-farmbeats-samples\\evi_forecast\\utils\\satellite_util.py:141: SettingWithCopyWarning: \n",
      "A value is trying to be set on a copy of a slice from a DataFrame.\n",
      "Try using .loc[row_indexer,col_indexer] = value instead\n",
      "\n",
      "See the caveats in the documentation: https://pandas.pydata.org/pandas-docs/stable/user_guide/indexing.html#returning-a-view-versus-a-copy\n",
      "  for x in df_allscenes_band.fileLink.values\n"
     ]
    }
   ],
   "source": [
    "sat_links1 = SatelliteUtil(farmbeats_client = fb_client).download_and_get_sat_file_paths(farmer_id, [boundary], start_dt, end_dt, root_dir)\n",
    "\n",
    "# get last available data of satellite data\n",
    "end_dt_w = datetime.strptime(\n",
    "    sat_links1.sceneDateTime.sort_values(ascending=False).values[0][:10], \"%Y-%m-%d\"\n",
    ")\n",
    "# calculate 30 days from last satellite available date\n",
    "start_dt_w = end_dt_w - timedelta(days=CONSTANTS[\"input_days\"] + 1)"
   ]
  },
  {
   "cell_type": "markdown",
   "id": "82a60080",
   "metadata": {},
   "source": [
    "#### Weather Data"
   ]
  },
  {
   "cell_type": "code",
   "execution_count": 5,
   "id": "95746b11",
   "metadata": {},
   "outputs": [
    {
     "name": "stderr",
     "output_type": "stream",
     "text": [
      "C:\\azure-farmbeats-samples\\evi_forecast\\utils\\weather_util.py:26: FutureWarning: pandas.io.json.json_normalize is deprecated, use pandas.json_normalize instead\n",
      "  df_flat = pd.io.json.json_normalize([x.serialize() for x in weather_data])\n"
     ]
    }
   ],
   "source": [
    "# get weather data historical\n",
    "weather_list = fb_client.weather.list(\n",
    "            farmer_id=  boundary.farmer_id,\n",
    "            boundary_id= boundary.id,\n",
    "            start_date_time=start_dt_w,\n",
    "            end_date_time=end_dt,\n",
    "            extension_id=\"dtn.clearAg\", \n",
    "            weather_data_type= \"historical\", \n",
    "            granularity=\"daily\")\n",
    "weather_data = []\n",
    "for w_data in weather_list:\n",
    "    weather_data.append(w_data)\n",
    "w_df_hist = WeatherUtil.get_weather_data_df(weather_data)"
   ]
  },
  {
   "cell_type": "code",
   "execution_count": 6,
   "id": "38ef3869",
   "metadata": {},
   "outputs": [],
   "source": [
    "# get weather data forecast\n",
    "weather_list = fb_client.weather.list(\n",
    "            farmer_id=  boundary.farmer_id,\n",
    "            boundary_id= boundary.id,\n",
    "            start_date_time=end_dt,\n",
    "            end_date_time=end_dt + timedelta(10),\n",
    "            extension_id=\"dtn.clearAg\", \n",
    "            weather_data_type= \"forecast\", \n",
    "            granularity=\"daily\")\n",
    "\n",
    "weather_data = []\n",
    "for w_data in weather_list:\n",
    "    weather_data.append(w_data)\n",
    "w_df_forecast = WeatherUtil.get_weather_data_df(weather_data)"
   ]
  },
  {
   "cell_type": "code",
   "execution_count": 7,
   "id": "3aec2653",
   "metadata": {},
   "outputs": [],
   "source": [
    "# merge weather data\n",
    "w_df = pd.concat([w_df_hist, w_df_forecast], axis=0)\n",
    "\n",
    "with open(CONSTANTS[\"w_pkl\"], \"rb\") as f:\n",
    "    w_parms, w_mn, w_sd = pickle.load(f)"
   ]
  },
  {
   "cell_type": "code",
   "execution_count": 8,
   "id": "533a92fa",
   "metadata": {},
   "outputs": [
    {
     "name": "stderr",
     "output_type": "stream",
     "text": [
      "C:\\azure-farmbeats-samples\\evi_forecast\\utils\\ard_util.py:148: RuntimeWarning: All-NaN slice encountered\n",
      "  np.nanmax(np.abs(np.array(da3.input_evi.to_list())), axis=(1, 2)) <= 1\n",
      "C:\\azure-farmbeats-samples\\evi_forecast\\utils\\ard_util.py:148: SettingWithCopyWarning: \n",
      "A value is trying to be set on a copy of a slice from a DataFrame.\n",
      "Try using .loc[row_indexer,col_indexer] = value instead\n",
      "\n",
      "See the caveats in the documentation: https://pandas.pydata.org/pandas-docs/stable/user_guide/indexing.html#returning-a-view-versus-a-copy\n",
      "  np.nanmax(np.abs(np.array(da3.input_evi.to_list())), axis=(1, 2)) <= 1\n",
      "C:\\azure-farmbeats-samples\\evi_forecast\\utils\\ard_util.py:151: RuntimeWarning: All-NaN slice encountered\n",
      "  np.nanmax(np.abs(np.array(da3.output_evi.to_list())), axis=(1, 2)) <= 1\n",
      "C:\\azure-farmbeats-samples\\evi_forecast\\utils\\ard_util.py:151: SettingWithCopyWarning: \n",
      "A value is trying to be set on a copy of a slice from a DataFrame.\n",
      "Try using .loc[row_indexer,col_indexer] = value instead\n",
      "\n",
      "See the caveats in the documentation: https://pandas.pydata.org/pandas-docs/stable/user_guide/indexing.html#returning-a-view-versus-a-copy\n",
      "  np.nanmax(np.abs(np.array(da3.output_evi.to_list())), axis=(1, 2)) <= 1\n",
      "C:\\azure-farmbeats-samples\\evi_forecast\\utils\\ard_util.py:155: SettingWithCopyWarning: \n",
      "A value is trying to be set on a copy of a slice from a DataFrame.\n",
      "Try using .loc[row_indexer,col_indexer] = value instead\n",
      "\n",
      "See the caveats in the documentation: https://pandas.pydata.org/pandas-docs/stable/user_guide/indexing.html#returning-a-view-versus-a-copy\n",
      "  np.sum(np.isnan(np.array(x))) == 0 for x in da3.input_evi.values\n"
     ]
    }
   ],
   "source": [
    "ard = ard_preprocess(\n",
    "        sat_links1=sat_links1,\n",
    "        w_df=w_df,\n",
    "        sat_res_x=1,\n",
    "        var_name=CONSTANTS[\"var_name\"],\n",
    "        interp_date_start=end_dt_w - timedelta(days=60),\n",
    "        interp_date_end=end_dt_w,\n",
    "        w_parms=w_parms,\n",
    "        input_days=CONSTANTS[\"input_days\"],\n",
    "        output_days=CONSTANTS[\"output_days\"],\n",
    "        ref_tm=start_dt_w.strftime(\"%d-%m-%Y\"),\n",
    "        w_mn=w_mn,\n",
    "        w_sd=w_sd,\n",
    "    )\n",
    "\n",
    "frcst_st_dt  = end_dt_w"
   ]
  },
  {
   "cell_type": "code",
   "execution_count": 9,
   "id": "cda72c27",
   "metadata": {},
   "outputs": [
    {
     "name": "stdout",
     "output_type": "stream",
     "text": [
      "Warning: NaNs found in the input data\n",
      "Warning: input data outside range of (-1,1) found\n"
     ]
    }
   ],
   "source": [
    "# raise exception if ARD is empty\n",
    "if ard.shape[0] == 0:\n",
    "    raise Exception(\"Analysis ready dataset is empty\")\n",
    "# raise exception if data spills into multiple rows\n",
    "if ard.query(\"grp1_ > 0\").shape[0] > 0:\n",
    "    raise Exception(\n",
    "        \"More than one record has been found for more than one pixel\"\n",
    "    )\n",
    "# warning if nans are in input data or data is out of bounds\n",
    "if (\n",
    "    ard.query(\"not nan_input_evi\").shape[0] > 0\n",
    "    or ard.query(\"not nan_input_w\").shape[0] > 0\n",
    "    or ard.query(\"not nan_output_w\").shape[0] > 0\n",
    "):\n",
    "    print(\"Warning: NaNs found in the input data\")\n",
    "if (\n",
    "    ard.query(\n",
    "        \"nan_input_evi and nan_input_w and nan_output_w and  not input_evi_le1\"\n",
    "    ).shape[0]\n",
    "    > 0\n",
    "):\n",
    "    print(\"Warning: input data outside range of (-1,1) found\")"
   ]
  },
  {
   "cell_type": "code",
   "execution_count": 10,
   "id": "baea9b58",
   "metadata": {},
   "outputs": [],
   "source": [
    "# read model and weather normalization stats\n",
    "model = tf.keras.models.load_model(CONSTANTS[\"modelh5\"], compile=False)"
   ]
  },
  {
   "cell_type": "code",
   "execution_count": 11,
   "id": "7ca8744a",
   "metadata": {},
   "outputs": [],
   "source": [
    "# model prediction\n",
    "label = model.predict(\n",
    "    [\n",
    "        np.array(ard.input_evi.to_list()),\n",
    "        np.array(ard.input_weather.to_list()),\n",
    "        np.array(ard.forecast_weather.to_list()),\n",
    "    ]\n",
    ")\n",
    "label_names = [\n",
    "    (frcst_st_dt + timedelta(days=i + 1)).strftime(\"%Y-%m-%d\")\n",
    "    for i in range(CONSTANTS[\"output_days\"])\n",
    "]\n",
    "\n",
    "\n",
    "tmp_df = pd.DataFrame(label[:, :, 0], columns=label_names).assign(\n",
    "    lat=ard.lat_.values, long=ard.long_.values\n",
    ")"
   ]
  },
  {
   "cell_type": "code",
   "execution_count": 12,
   "id": "25c32ced",
   "metadata": {},
   "outputs": [
    {
     "data": {
      "text/html": [
       "<div>\n",
       "<style scoped>\n",
       "    .dataframe tbody tr th:only-of-type {\n",
       "        vertical-align: middle;\n",
       "    }\n",
       "\n",
       "    .dataframe tbody tr th {\n",
       "        vertical-align: top;\n",
       "    }\n",
       "\n",
       "    .dataframe thead th {\n",
       "        text-align: right;\n",
       "    }\n",
       "</style>\n",
       "<table border=\"1\" class=\"dataframe\">\n",
       "  <thead>\n",
       "    <tr style=\"text-align: right;\">\n",
       "      <th></th>\n",
       "      <th>2021-04-23</th>\n",
       "      <th>2021-04-24</th>\n",
       "      <th>2021-04-25</th>\n",
       "      <th>2021-04-26</th>\n",
       "      <th>2021-04-27</th>\n",
       "      <th>2021-04-28</th>\n",
       "      <th>2021-04-29</th>\n",
       "      <th>2021-04-30</th>\n",
       "      <th>2021-05-01</th>\n",
       "      <th>2021-05-02</th>\n",
       "      <th>lat</th>\n",
       "      <th>long</th>\n",
       "    </tr>\n",
       "  </thead>\n",
       "  <tbody>\n",
       "    <tr>\n",
       "      <th>0</th>\n",
       "      <td>NaN</td>\n",
       "      <td>NaN</td>\n",
       "      <td>NaN</td>\n",
       "      <td>NaN</td>\n",
       "      <td>NaN</td>\n",
       "      <td>NaN</td>\n",
       "      <td>NaN</td>\n",
       "      <td>NaN</td>\n",
       "      <td>NaN</td>\n",
       "      <td>NaN</td>\n",
       "      <td>-97.065187</td>\n",
       "      <td>46.659102</td>\n",
       "    </tr>\n",
       "    <tr>\n",
       "      <th>1</th>\n",
       "      <td>0.061157</td>\n",
       "      <td>0.096995</td>\n",
       "      <td>0.132223</td>\n",
       "      <td>0.145768</td>\n",
       "      <td>0.156944</td>\n",
       "      <td>0.162661</td>\n",
       "      <td>0.166236</td>\n",
       "      <td>0.164669</td>\n",
       "      <td>0.161892</td>\n",
       "      <td>0.161764</td>\n",
       "      <td>-97.065187</td>\n",
       "      <td>46.659193</td>\n",
       "    </tr>\n",
       "    <tr>\n",
       "      <th>2</th>\n",
       "      <td>0.058901</td>\n",
       "      <td>0.093092</td>\n",
       "      <td>0.127034</td>\n",
       "      <td>0.139777</td>\n",
       "      <td>0.150345</td>\n",
       "      <td>0.155724</td>\n",
       "      <td>0.159159</td>\n",
       "      <td>0.157608</td>\n",
       "      <td>0.154843</td>\n",
       "      <td>0.154517</td>\n",
       "      <td>-97.065187</td>\n",
       "      <td>46.659283</td>\n",
       "    </tr>\n",
       "    <tr>\n",
       "      <th>3</th>\n",
       "      <td>0.052682</td>\n",
       "      <td>0.082350</td>\n",
       "      <td>0.112763</td>\n",
       "      <td>0.123313</td>\n",
       "      <td>0.132219</td>\n",
       "      <td>0.136679</td>\n",
       "      <td>0.139736</td>\n",
       "      <td>0.138236</td>\n",
       "      <td>0.135510</td>\n",
       "      <td>0.134646</td>\n",
       "      <td>-97.065187</td>\n",
       "      <td>46.659373</td>\n",
       "    </tr>\n",
       "    <tr>\n",
       "      <th>4</th>\n",
       "      <td>0.057619</td>\n",
       "      <td>0.090875</td>\n",
       "      <td>0.124088</td>\n",
       "      <td>0.136376</td>\n",
       "      <td>0.146599</td>\n",
       "      <td>0.151786</td>\n",
       "      <td>0.155141</td>\n",
       "      <td>0.153600</td>\n",
       "      <td>0.150842</td>\n",
       "      <td>0.150403</td>\n",
       "      <td>-97.065187</td>\n",
       "      <td>46.659463</td>\n",
       "    </tr>\n",
       "    <tr>\n",
       "      <th>...</th>\n",
       "      <td>...</td>\n",
       "      <td>...</td>\n",
       "      <td>...</td>\n",
       "      <td>...</td>\n",
       "      <td>...</td>\n",
       "      <td>...</td>\n",
       "      <td>...</td>\n",
       "      <td>...</td>\n",
       "      <td>...</td>\n",
       "      <td>...</td>\n",
       "      <td>...</td>\n",
       "      <td>...</td>\n",
       "    </tr>\n",
       "    <tr>\n",
       "      <th>12007</th>\n",
       "      <td>0.066766</td>\n",
       "      <td>0.106699</td>\n",
       "      <td>0.145121</td>\n",
       "      <td>0.160647</td>\n",
       "      <td>0.173324</td>\n",
       "      <td>0.179866</td>\n",
       "      <td>0.183782</td>\n",
       "      <td>0.182171</td>\n",
       "      <td>0.179365</td>\n",
       "      <td>0.179723</td>\n",
       "      <td>-97.057108</td>\n",
       "      <td>46.670567</td>\n",
       "    </tr>\n",
       "    <tr>\n",
       "      <th>12008</th>\n",
       "      <td>0.066766</td>\n",
       "      <td>0.106699</td>\n",
       "      <td>0.145121</td>\n",
       "      <td>0.160647</td>\n",
       "      <td>0.173324</td>\n",
       "      <td>0.179866</td>\n",
       "      <td>0.183782</td>\n",
       "      <td>0.182171</td>\n",
       "      <td>0.179365</td>\n",
       "      <td>0.179723</td>\n",
       "      <td>-97.057108</td>\n",
       "      <td>46.670657</td>\n",
       "    </tr>\n",
       "    <tr>\n",
       "      <th>12009</th>\n",
       "      <td>0.066338</td>\n",
       "      <td>0.105956</td>\n",
       "      <td>0.144132</td>\n",
       "      <td>0.159504</td>\n",
       "      <td>0.172064</td>\n",
       "      <td>0.178541</td>\n",
       "      <td>0.182428</td>\n",
       "      <td>0.180820</td>\n",
       "      <td>0.178015</td>\n",
       "      <td>0.178334</td>\n",
       "      <td>-97.057108</td>\n",
       "      <td>46.670747</td>\n",
       "    </tr>\n",
       "    <tr>\n",
       "      <th>12010</th>\n",
       "      <td>0.062674</td>\n",
       "      <td>0.099610</td>\n",
       "      <td>0.135693</td>\n",
       "      <td>0.149759</td>\n",
       "      <td>0.161328</td>\n",
       "      <td>0.167256</td>\n",
       "      <td>0.170915</td>\n",
       "      <td>0.169332</td>\n",
       "      <td>0.166544</td>\n",
       "      <td>0.166540</td>\n",
       "      <td>-97.057108</td>\n",
       "      <td>46.670837</td>\n",
       "    </tr>\n",
       "    <tr>\n",
       "      <th>12011</th>\n",
       "      <td>NaN</td>\n",
       "      <td>NaN</td>\n",
       "      <td>NaN</td>\n",
       "      <td>NaN</td>\n",
       "      <td>NaN</td>\n",
       "      <td>NaN</td>\n",
       "      <td>NaN</td>\n",
       "      <td>NaN</td>\n",
       "      <td>NaN</td>\n",
       "      <td>NaN</td>\n",
       "      <td>-97.057108</td>\n",
       "      <td>46.670928</td>\n",
       "    </tr>\n",
       "  </tbody>\n",
       "</table>\n",
       "<p>12012 rows × 12 columns</p>\n",
       "</div>"
      ],
      "text/plain": [
       "       2021-04-23  2021-04-24  2021-04-25  2021-04-26  2021-04-27  2021-04-28  \\\n",
       "0             NaN         NaN         NaN         NaN         NaN         NaN   \n",
       "1        0.061157    0.096995    0.132223    0.145768    0.156944    0.162661   \n",
       "2        0.058901    0.093092    0.127034    0.139777    0.150345    0.155724   \n",
       "3        0.052682    0.082350    0.112763    0.123313    0.132219    0.136679   \n",
       "4        0.057619    0.090875    0.124088    0.136376    0.146599    0.151786   \n",
       "...           ...         ...         ...         ...         ...         ...   \n",
       "12007    0.066766    0.106699    0.145121    0.160647    0.173324    0.179866   \n",
       "12008    0.066766    0.106699    0.145121    0.160647    0.173324    0.179866   \n",
       "12009    0.066338    0.105956    0.144132    0.159504    0.172064    0.178541   \n",
       "12010    0.062674    0.099610    0.135693    0.149759    0.161328    0.167256   \n",
       "12011         NaN         NaN         NaN         NaN         NaN         NaN   \n",
       "\n",
       "       2021-04-29  2021-04-30  2021-05-01  2021-05-02        lat       long  \n",
       "0             NaN         NaN         NaN         NaN -97.065187  46.659102  \n",
       "1        0.166236    0.164669    0.161892    0.161764 -97.065187  46.659193  \n",
       "2        0.159159    0.157608    0.154843    0.154517 -97.065187  46.659283  \n",
       "3        0.139736    0.138236    0.135510    0.134646 -97.065187  46.659373  \n",
       "4        0.155141    0.153600    0.150842    0.150403 -97.065187  46.659463  \n",
       "...           ...         ...         ...         ...        ...        ...  \n",
       "12007    0.183782    0.182171    0.179365    0.179723 -97.057108  46.670567  \n",
       "12008    0.183782    0.182171    0.179365    0.179723 -97.057108  46.670657  \n",
       "12009    0.182428    0.180820    0.178015    0.178334 -97.057108  46.670747  \n",
       "12010    0.170915    0.169332    0.166544    0.166540 -97.057108  46.670837  \n",
       "12011         NaN         NaN         NaN         NaN -97.057108  46.670928  \n",
       "\n",
       "[12012 rows x 12 columns]"
      ]
     },
     "execution_count": 12,
     "metadata": {},
     "output_type": "execute_result"
    }
   ],
   "source": [
    "tmp_df"
   ]
  },
  {
   "cell_type": "markdown",
   "id": "947aa4a7",
   "metadata": {},
   "source": [
    "### Write output to TIF files"
   ]
  },
  {
   "cell_type": "code",
   "execution_count": 13,
   "id": "c2e47d06",
   "metadata": {},
   "outputs": [],
   "source": [
    "%matplotlib inline\n",
    "import time\n",
    "from IPython import display\n",
    "from rasterio.plot import show\n",
    "\n",
    "output_dir = \"results//\"\n",
    "ref_tif = sat_links1.filePath.values[0]\n",
    "with rasterio.open(ref_tif) as src:\n",
    "    ras_meta = src.profile"
   ]
  },
  {
   "cell_type": "code",
   "execution_count": 14,
   "id": "a1c0ca41",
   "metadata": {},
   "outputs": [],
   "source": [
    "for coln in tmp_df.columns[:-2]:\n",
    "    data_array = np.array(tmp_df[coln]).reshape(src.shape)\n",
    "    with rasterio.open(os.path.join(output_dir, coln + '.tif'), 'w', **ras_meta) as dst:\n",
    "        dst.write(data_array, indexes=1)"
   ]
  },
  {
   "cell_type": "markdown",
   "id": "34e3fafd",
   "metadata": {},
   "source": [
    "### Visualize EVI Forecast Maps"
   ]
  },
  {
   "cell_type": "code",
   "execution_count": 15,
   "id": "c549d98d",
   "metadata": {},
   "outputs": [
    {
     "data": {
      "image/png": "[encoded data removed]",
      "text/plain": [
       "<Figure size 432x288 with 1 Axes>"
      ]
     },
     "metadata": {
      "needs_background": "light"
     },
     "output_type": "display_data"
    }
   ],
   "source": [
    "for coln in tmp_df.columns[:-2]:\n",
    "    src = rasterio.open(os.path.join(output_dir, coln + '.tif'))\n",
    "    show(src.read(), transform=src.transform, title=coln)\n",
    "    #show_hist(src)\n",
    "    display.clear_output(wait=True)\n",
    "    time.sleep(1)  "
   ]
  }
 ],
 "metadata": {
  "kernel_info": {
   "name": "python3-azureml"
  },
  "kernelspec": {
   "display_name": "Python 3",
   "language": "python",
   "name": "python3"
  },
  "language_info": {
   "codemirror_mode": {
    "name": "ipython",
    "version": 3
   },
   "file_extension": ".py",
   "mimetype": "text/x-python",
   "name": "python",
   "nbconvert_exporter": "python",
   "pygments_lexer": "ipython3",
   "version": "3.6.9"
  },
  "nteract": {
   "version": "nteract-front-end@1.0.0"
  }
 },
 "nbformat": 4,
 "nbformat_minor": 5
}
