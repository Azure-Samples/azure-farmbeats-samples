{
 "cells": [
  {
   "cell_type": "code",
   "execution_count": null,
   "id": "cc71b19d",
   "metadata": {},
   "outputs": [],
   "source": [
    "import sys\n",
    "print(sys.executable)\n",
    "print (sys.version)"
   ]
  },
  {
   "cell_type": "code",
   "execution_count": null,
   "id": "49686c2e",
   "metadata": {},
   "outputs": [],
   "source": [
    "from azure.farmbeats.models import Farmer"
   ]
  },
  {
   "cell_type": "code",
   "execution_count": null,
   "id": "c9101b25",
   "metadata": {},
   "outputs": [],
   "source": [
    "from configs.config import config, farmer_details"
   ]
  },
  {
   "cell_type": "markdown",
   "id": "b7a80c4b",
   "metadata": {},
   "source": [
    "### Farmbeats Configuration"
   ]
  },
  {
   "cell_type": "code",
   "execution_count": null,
   "id": "2cb1d42e",
   "metadata": {},
   "outputs": [],
   "source": [
    "# FarmBeats Client definition\n",
    "FB_Client = call_farmbeats(config)"
   ]
  },
  {
   "cell_type": "markdown",
   "id": "f05e12ae",
   "metadata": {},
   "source": [
    "### Create Farmer"
   ]
  },
  {
   "cell_type": "code",
   "execution_count": null,
   "id": "08275e24",
   "metadata": {},
   "outputs": [],
   "source": [
    "# Farmer object creation if not yet created\n",
    "farmer = FB_Client.farmers.create(\n",
    "    farmer_id=farmer_details[\"farmer_id\"],\n",
    "    farmer=Farmer(\n",
    "        name=farmer_details[\"farmer_name\"]\n",
    "        + \"'s SDK Farmer \"\n",
    "        + str(farmer_details[\"TOKEN\"])\n",
    "    ),\n",
    ")"
   ]
  }
 ],
 "metadata": {
  "kernelspec": {
   "display_name": "Python 3",
   "language": "python",
   "name": "python3"
  },
  "language_info": {
   "codemirror_mode": {
    "name": "ipython",
    "version": 3
   },
   "file_extension": ".py",
   "mimetype": "text/x-python",
   "name": "python",
   "nbconvert_exporter": "python",
   "pygments_lexer": "ipython3",
   "version": "3.6.9"
  }
 },
 "nbformat": 4,
 "nbformat_minor": 5
}
