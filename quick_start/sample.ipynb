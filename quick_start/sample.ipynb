{
 "cells": [
  {
   "cell_type": "markdown",
   "id": "9bac2b93",
   "metadata": {},
   "source": [
    "# Quick Start\n",
    "\n",
    "In this notebook, we demonstrate the capabilitis of Azure Farmbeats python SDK"
   ]
  },
  {
   "cell_type": "code",
   "execution_count": null,
   "id": "1613ca79",
   "metadata": {},
   "outputs": [],
   "source": [
    "import sys\n",
    "print(sys.executable)\n",
    "print (sys.version)"
   ]
  },
  {
   "cell_type": "markdown",
   "id": "961673a9",
   "metadata": {},
   "source": [
    "### Import Libraries"
   ]
  },
  {
   "cell_type": "code",
   "execution_count": null,
   "id": "a419a4b5",
   "metadata": {},
   "outputs": [],
   "source": [
    "!pip install --quiet --quiet -r ../requirements-modelsamples.txt"
   ]
  },
  {
   "cell_type": "code",
   "execution_count": null,
   "id": "794fd59e",
   "metadata": {},
   "outputs": [],
   "source": [
    "# Standard library imports\n",
    "import json\n",
    "import os\n",
    "import sys\n",
    "import uuid\n",
    "from datetime import datetime\n",
    "\n",
    "# Disable unnecessary logs \n",
    "import logging\n",
    "logging.disable(sys.maxsize)\n",
    "import warnings\n",
    "warnings.filterwarnings(\"ignore\")\n",
    "\n",
    "# Local imports\n",
    "from config import farmbeats_config\n",
    "\n",
    "# Azure imports\n",
    "from azure.core.exceptions import HttpResponseError, ResourceNotFoundError\n",
    "from azure.identity import ClientSecretCredential\n",
    "\n",
    "# Azure FarmBeats SDK imports\n",
    "from azure.agrifood.farming import FarmBeatsClient\n",
    "from azure.agrifood.farming.models import (Farmer, Boundary, Polygon,\n",
    "                                    SatelliteDataIngestionJob,\n",
    "                                    WeatherDataIngestionJob, \n",
    "                                    SatelliteData)"
   ]
  },
  {
   "cell_type": "markdown",
   "id": "a24e548d",
   "metadata": {},
   "source": [
    "### Farmbeats Configuration"
   ]
  },
  {
   "cell_type": "code",
   "execution_count": null,
   "id": "c9ae527c",
   "metadata": {},
   "outputs": [],
   "source": [
    "# FarmBeats Client definition\n",
    "credential = ClientSecretCredential(\n",
    "    tenant_id=farmbeats_config['tenant_id'],\n",
    "    client_id=farmbeats_config['client_id'],\n",
    "    client_secret=farmbeats_config['client_secret'],\n",
    "    authority=farmbeats_config['authority']\n",
    ")\n",
    "\n",
    "credential_scopes = [farmbeats_config['default_scope']]\n",
    "\n",
    "fb_client = FarmBeatsClient(\n",
    "    endpoint=farmbeats_config['instance_url'],\n",
    "    credential=credential,\n",
    "    credential_scopes=credential_scopes,\n",
    "    logging_enable=True\n",
    ")"
   ]
  },
  {
   "cell_type": "markdown",
   "id": "aee095a0",
   "metadata": {},
   "source": [
    "### Create Farmer"
   ]
  },
  {
   "cell_type": "code",
   "execution_count": null,
   "id": "92187054",
   "metadata": {},
   "outputs": [],
   "source": [
    "farmer_id = \"contoso_farmer\"\n",
    "try:\n",
    "    farmer = fb_client.farmers.get(farmer_id=farmer_id)\n",
    "    print(\"Farmer {} Exists.\".format(farmer_id))\n",
    "except ResourceNotFoundError:        \n",
    "    print(\"Farmer doesn't exist...Creating ... \", end=\"\", flush=True)\n",
    "    farmer = fb_client.farmers.create_or_update(\n",
    "        farmer_id=farmer_id,\n",
    "        farmer=Farmer()\n",
    "    )"
   ]
  },
  {
   "cell_type": "markdown",
   "id": "44d8828d",
   "metadata": {},
   "source": [
    "### Create Boundary"
   ]
  },
  {
   "cell_type": "code",
   "execution_count": null,
   "id": "a227ccae",
   "metadata": {},
   "outputs": [],
   "source": [
    "boundary_id = \"contoso_boundary\"\n",
    "try:\n",
    "    boundary_obj = fb_client.boundaries.get(\n",
    "                farmer_id=farmer_id,\n",
    "                boundary_id=boundary_id\n",
    "            )\n",
    "\n",
    "    print(f\"Boundary with id {boundary_obj.id} Exist\", end=\"\\n\")\n",
    "            \n",
    "except ResourceNotFoundError: \n",
    "    print(f\"Creating boundary with id {boundary_id}... \", end=\"\")\n",
    "    boundary_obj = fb_client.boundaries.create_or_update(\n",
    "        farmer_id=farmer_id,\n",
    "        boundary_id=boundary_id,\n",
    "        boundary=Boundary(\n",
    "            description=\"Created by SDK\",\n",
    "            geometry=Polygon(\n",
    "                 coordinates=[\n",
    "                    [\n",
    "                        [79.27057921886444, 18.042507660177698],\n",
    "                        [79.26899135112762, 18.040135849620704],\n",
    "                        [79.27113711833954, 18.03927382882835],\n",
    "                        [79.27248358726501, 18.041069275656195],\n",
    "                        [79.27057921886444, 18.042507660177698]\n",
    "                    ]\n",
    "                ]\n",
    "            )\n",
    "        )\n",
    "    )\n",
    "\n",
    "    print('Created boundary')\n",
    "\n",
    "except Exception as e:\n",
    "    print(e)"
   ]
  },
  {
   "cell_type": "markdown",
   "id": "8ead819b",
   "metadata": {},
   "source": [
    "### Satellite and Weather Jobs"
   ]
  },
  {
   "cell_type": "code",
   "execution_count": null,
   "id": "59c9f8a8",
   "metadata": {},
   "outputs": [],
   "source": [
    "RUN_ID = uuid.uuid1()\n",
    "# Start and End data for Satellite and Weather data to be pulled\n",
    "start_dt = datetime.strptime(\"01-01-2021\", \"%d-%m-%Y\")\n",
    "end_dt = datetime.strptime(\"30-04-2021\", \"%d-%m-%Y\")"
   ]
  },
  {
   "cell_type": "code",
   "execution_count": null,
   "id": "ab4a2616",
   "metadata": {},
   "outputs": [],
   "source": [
    "job_id = \"s-job\" + str(RUN_ID)\n",
    "\n",
    "# Submit Satellite Job\n",
    "try:\n",
    "    print(\"Queuing satellite job... \", end=\"\", flush=True)\n",
    "    satellite_job = fb_client.scenes.begin_create_satellite_data_ingestion_job(\n",
    "        job_id=job_id,\n",
    "        job=SatelliteDataIngestionJob(\n",
    "            farmer_id=boundary_obj.farmer_id,\n",
    "            boundary_id=boundary_obj.id,\n",
    "            start_date_time=start_dt,\n",
    "            end_date_time=end_dt,\n",
    "            data=SatelliteData(\n",
    "                image_names=[\n",
    "                    # \"B01\",\n",
    "                    # \"B02\",\n",
    "                    # \"B03\",\n",
    "                    # \"B04\",\n",
    "                    \"NDVI\"\n",
    "                ]\n",
    "            )\n",
    "        ),\n",
    "        polling=True\n",
    "    )\n",
    "    print(\"Submitted Satellite Job\")\n",
    "\n",
    "except HttpResponseError as e:\n",
    "    print(e.response.body())\n",
    "    raise"
   ]
  },
  {
   "cell_type": "code",
   "execution_count": null,
   "id": "f599cb33",
   "metadata": {},
   "outputs": [],
   "source": [
    "# Weather API inputs\n",
    "extension_id = farmbeats_config[\"weather_provider_extension_id\"]\n",
    "extension_data_provider_api_key = farmbeats_config[\"weather_provider_key\"]\n",
    "extension_data_provider_app_id = farmbeats_config[\"weather_provider_id\"]\n",
    "extension_api_name = \"dailyhistorical\""
   ]
  },
  {
   "cell_type": "code",
   "execution_count": null,
   "id": "6390c260",
   "metadata": {},
   "outputs": [],
   "source": [
    "job_id = \"w-hist\" + str(RUN_ID)\n",
    "st_unix = int(start_dt.timestamp())\n",
    "ed_unix = int(end_dt.timestamp())\n",
    "try:\n",
    "    print(\"Queuing weather job... \", end=\"\", flush=True)\n",
    "    weather_job = fb_client.weather.begin_create_data_ingestion_job(\n",
    "        job_id=job_id,\n",
    "        job=WeatherDataIngestionJob(\n",
    "            farmer_id=boundary_obj.farmer_id,\n",
    "            boundary_id=boundary_obj.id,\n",
    "            extension_id=extension_id, \n",
    "            extension_api_name=extension_api_name, \n",
    "            extension_api_input={\"start\": st_unix, \"end\": ed_unix},\n",
    "            extension_data_provider_api_key=extension_data_provider_api_key,\n",
    "            extension_data_provider_app_id=extension_data_provider_app_id\n",
    "        ),\n",
    "        polling=True\n",
    "    )\n",
    "    print(\"Submitted Weather Job\")\n",
    "except HttpResponseError as e:\n",
    "    print(e.response.body())\n",
    "    raise"
   ]
  },
  {
   "cell_type": "markdown",
   "id": "bea37d23",
   "metadata": {},
   "source": [
    "### Check status of satellite and weather jobs"
   ]
  },
  {
   "cell_type": "code",
   "execution_count": null,
   "id": "dc29ddd4",
   "metadata": {},
   "outputs": [],
   "source": [
    "print(\"Waiting for jobs to complete\")\n",
    "satellite_job.result()\n",
    "weather_job.result()\n",
    "\n",
    "# Print job id and status after succeeded\n",
    "print(satellite_job.result().as_dict()['id'])\n",
    "print(satellite_job.status())\n",
    "\n",
    "print(weather_job.result().as_dict()['id'])\n",
    "print(weather_job.status())"
   ]
  }
 ],
 "metadata": {
  "kernelspec": {
   "display_name": "Python 3",
   "language": "python",
   "name": "python3"
  },
  "language_info": {
   "codemirror_mode": {
    "name": "ipython",
    "version": 3
   },
   "file_extension": ".py",
   "mimetype": "text/x-python",
   "name": "python",
   "nbconvert_exporter": "python",
   "pygments_lexer": "ipython3",
   "version": "3.6.9"
  }
 },
 "nbformat": 4,
 "nbformat_minor": 5
}
