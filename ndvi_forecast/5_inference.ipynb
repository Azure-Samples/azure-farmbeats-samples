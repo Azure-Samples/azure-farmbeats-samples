{
 "cells": [
  {
   "cell_type": "markdown",
   "metadata": {},
   "source": [
    "Copyright (c) Microsoft Corporation. All rights reserved.\n",
    "\n",
    "Licensed under the MIT License."
   ]
  },
  {
   "cell_type": "markdown",
   "metadata": {},
   "source": [
    "# Inference: NDVI Forecast on Area of Interest using ML Webservice"
   ]
  },
  {
   "cell_type": "markdown",
   "metadata": {},
   "source": [
    "### Import libraries"
   ]
  },
  {
   "cell_type": "code",
   "execution_count": null,
   "metadata": {},
   "outputs": [],
   "source": [
    "# System Imports\n",
    "import json\n",
    "import os\n",
    "import pickle\n",
    "import requests\n",
    "from datetime import datetime\n",
    "\n",
    "# Third party libraries\n",
    "import numpy as np\n",
    "import pandas as pd\n",
    "\n",
    "# Local Imports\n",
    "from utils.config import farmbeats_config"
   ]
  },
  {
   "cell_type": "markdown",
   "metadata": {},
   "source": [
    "### Load the service endpoint and token"
   ]
  },
  {
   "cell_type": "code",
   "execution_count": null,
   "metadata": {},
   "outputs": [],
   "source": [
    "\"\"\"\n",
    "Open service uri and token for https endpoint\n",
    "\"\"\"\n",
    "\n",
    "with open(\"results//service_uri.pkl\", \"rb\") as f:\n",
    "    scoring_uri, token = pickle.load(f)"
   ]
  },
  {
   "cell_type": "markdown",
   "metadata": {},
   "source": [
    "### Area of Interest (AOI) for inference"
   ]
  },
  {
   "cell_type": "code",
   "execution_count": null,
   "metadata": {},
   "outputs": [],
   "source": [
    "farmer_id = \"contoso_farmer\"\n",
    "boundary_id = \"sample-boundary-32\" \n",
    "boundary_geometry = \"[[-121.5283155441284,38.16172478418468],[-121.51544094085693,38.16172478418468],[-121.51544094085693,38.16791636919515],[-121.5283155441284,38.16791636919515],[-121.5283155441284,38.16172478418468]]\""
   ]
  },
  {
   "cell_type": "markdown",
   "metadata": {},
   "source": [
    "### Send Request to WebService"
   ]
  },
  {
   "cell_type": "code",
   "execution_count": null,
   "metadata": {},
   "outputs": [],
   "source": [
    "headers = {\"Content-Type\": \"application/json\"}\n",
    "headers[\"Authorization\"] = f\"Bearer {token}\"\n",
    "test_data = json.dumps(\n",
    "    {\n",
    "        \"config\": farmbeats_config,\n",
    "        \"farmer_id\": farmer_id,\n",
    "        \"boundary_id\": boundary_id,\n",
    "        \"bonudary_geometry\": json.loads(boundary_geometry)\n",
    "    }\n",
    ")\n",
    "response = requests.post(\n",
    "    scoring_uri, data=test_data, headers=headers, timeout=(300, 300)\n",
    ")"
   ]
  },
  {
   "cell_type": "markdown",
   "metadata": {},
   "source": [
    "### Model Response Body"
   ]
  },
  {
   "cell_type": "code",
   "execution_count": null,
   "metadata": {},
   "outputs": [],
   "source": [
    "print(response.status_code)\n",
    "print(response.elapsed)"
   ]
  },
  {
   "cell_type": "markdown",
   "metadata": {},
   "source": [
    "### Convert Model Response to DataFrame"
   ]
  },
  {
   "cell_type": "code",
   "execution_count": null,
   "metadata": {},
   "outputs": [],
   "source": [
    "pred_df = pd.DataFrame.from_dict(json.loads(response.content)['model_preds'])\n",
    "pred_df.dropna().head()"
   ]
  },
  {
   "cell_type": "markdown",
   "metadata": {},
   "source": [
    "### Write Output to TIF Files"
   ]
  },
  {
   "cell_type": "code",
   "execution_count": null,
   "metadata": {},
   "outputs": [],
   "source": [
    "%matplotlib inline\n",
    "import time\n",
    "from IPython import display\n",
    "import rasterio\n",
    "from rasterio.plot import show\n",
    "import shutil\n",
    "\n",
    "ras_meta = json.loads(response.content)['ras_meta']\n",
    "ras_meta['crs'] = rasterio.crs.CRS.from_string(ras_meta['crs'])\n",
    "transform = list(ras_meta['transform'])\n",
    "ras_meta['transform']=rasterio.transform.from_bounds(transform[0], transform[1], transform[2], transform[3], transform[4],transform[5])\n",
    "  \n",
    "    \n",
    "time_stamp = datetime.strptime(datetime.now().strftime(\"%d/%m/%y %H:%M:%S\"), \"%d/%m/%y %H:%M:%S\")\n",
    "output_dir = \"results/model_output_\"+str(time_stamp)+\"/\"\n",
    "try:\n",
    "    if os.path.exists(output_dir):\n",
    "        shutil.rmtree(output_dir)\n",
    "    os.mkdir(output_dir)\n",
    "except Exception as e:\n",
    "    print(e)\n"
   ]
  },
  {
   "cell_type": "code",
   "execution_count": null,
   "metadata": {},
   "outputs": [],
   "source": [
    "for coln in pred_df.columns[:-2]: # Skip last 2 columns: lattiude, longitude\n",
    "    try:   \n",
    "        file_name = os.path.join(output_dir, coln + '.tif')\n",
    "        if os.path.exists(file_name):\n",
    "            os.remove(file_name)\n",
    "        data_array = np.array(pred_df[coln].astype('float32')).reshape(src.shape)\n",
    "        with rasterio.open(file_name, 'w', **ras_meta) as dst:\n",
    "            dst.write(data_array, indexes=1)\n",
    "    except Exception as e:\n",
    "        print(e)"
   ]
  },
  {
   "cell_type": "markdown",
   "metadata": {},
   "source": [
    "### Visualize NDVI Forecast Maps"
   ]
  },
  {
   "cell_type": "code",
   "execution_count": null,
   "metadata": {},
   "outputs": [],
   "source": [
    "for coln in pred_df.columns[:-2]: # Skip last 2 columns: lattiude, longitude\n",
    "    try:\n",
    "        file_name = os.path.join(output_dir, coln + '.tif')\n",
    "        src = rasterio.open(file_name)\n",
    "        show(src.read(), transform=src.transform, title=coln)\n",
    "        #show_hist(src)\n",
    "        display.clear_output(wait=True)\n",
    "        time.sleep(1) \n",
    "    except Exception as e:\n",
    "        print(e)\n"
   ]
  }
 ],
 "metadata": {
  "language_info": {},
  "orig_nbformat": 3
 },
 "nbformat": 4,
 "nbformat_minor": 5
}